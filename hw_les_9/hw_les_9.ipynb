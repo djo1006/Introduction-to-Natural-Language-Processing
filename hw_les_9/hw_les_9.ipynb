{
  "nbformat": 4,
  "nbformat_minor": 0,
  "metadata": {
    "accelerator": "GPU",
    "colab": {
      "name": "hw_les_9.ipynb",
      "provenance": [],
      "collapsed_sections": []
    },
    "kernelspec": {
      "display_name": "Python 3",
      "name": "python3"
    }
  },
  "cells": [
    {
      "cell_type": "code",
      "metadata": {
        "id": "yG_n40gFzf9s"
      },
      "source": [
        "import tensorflow as tf\n",
        "\n",
        "import numpy as np\n",
        "import os\n",
        "import time"
      ],
      "execution_count": null,
      "outputs": []
    },
    {
      "cell_type": "code",
      "metadata": {
        "colab": {
          "base_uri": "https://localhost:8080/"
        },
        "id": "S-iABhnZndL0",
        "outputId": "814ab7cd-ae0f-4c2c-fd4a-c8b8174b5286"
      },
      "source": [
        "from google.colab import drive\n",
        "drive.mount('/content/drive')\n",
        "!ls"
      ],
      "execution_count": null,
      "outputs": [
        {
          "output_type": "stream",
          "name": "stdout",
          "text": [
            "Mounted at /content/drive\n",
            "drive  gdrive  sample_data\n"
          ]
        }
      ]
    },
    {
      "cell_type": "code",
      "metadata": {
        "id": "-an5tHuaRmqD"
      },
      "source": [
        "path_to_file = '/content/drive/MyDrive/Colab Notebooks/GB/Introduction to Natural Language Processing/lesson_9/1c.txt'"
      ],
      "execution_count": null,
      "outputs": []
    },
    {
      "cell_type": "code",
      "metadata": {
        "colab": {
          "base_uri": "https://localhost:8080/"
        },
        "id": "aavnuByVymwK",
        "outputId": "9c90ee4f-4e22-4062-83bf-f018370baa48"
      },
      "source": [
        "text = open(path_to_file, 'rb').read().decode(encoding='utf-8')\n",
        "# length of text is the number of characters in it\n",
        "print('Length of text: {} characters'.format(len(text)))"
      ],
      "execution_count": null,
      "outputs": [
        {
          "output_type": "stream",
          "name": "stdout",
          "text": [
            "Length of text: 167914 characters\n"
          ]
        }
      ]
    },
    {
      "cell_type": "code",
      "metadata": {
        "colab": {
          "base_uri": "https://localhost:8080/"
        },
        "id": "Duhg9NrUymwO",
        "outputId": "54358827-a532-4c42-9812-239c36a94081"
      },
      "source": [
        "print(text[:500])"
      ],
      "execution_count": null,
      "outputs": [
        {
          "output_type": "stream",
          "name": "stdout",
          "text": [
            "Перем СоединениеИсточник, ОрганизацияИсточник, СкладИсточник, КонтрагентПокупатель, ДоговорПокупателя, КонтрагентПокупательПустышек, ДоговорПокупателяПустышек, \r\n",
            "\t\tПустойСкладИсточник, БазаИсточникНоваяКонфигурация, СтавкиНДСИсточник,ВерсияБазыИсточник;\r\n",
            "Перем ДопДанныеИсточник,ДанныеШапкиИсточник;\r\n",
            "Перем СоединениеПриемник, ОрганизацияПриемник, СкладПриемник, КонтрагентПоставщик,\tДоговорПоставщика, ПроцентНаценки, ПустойСкладПриемник, БазаПриемникНоваяКонфигурация, СтавкиНДСПриемник;\r\n",
            "Перем Дан\n"
          ]
        }
      ]
    },
    {
      "cell_type": "code",
      "metadata": {
        "id": "jtNGSzKn1o-6"
      },
      "source": [
        "text = text + text"
      ],
      "execution_count": null,
      "outputs": []
    },
    {
      "cell_type": "code",
      "metadata": {
        "colab": {
          "base_uri": "https://localhost:8080/"
        },
        "id": "IlCgQBRVymwR",
        "outputId": "16cf2524-4a59-4a8d-bf1e-2b6eb0da463f"
      },
      "source": [
        "# The unique characters in the file\n",
        "vocab = sorted(set(text))\n",
        "print('{} unique characters'.format(len(vocab)))"
      ],
      "execution_count": null,
      "outputs": [
        {
          "output_type": "stream",
          "name": "stdout",
          "text": [
            "140 unique characters\n"
          ]
        }
      ]
    },
    {
      "cell_type": "code",
      "metadata": {
        "id": "IalZLbvOzf-F"
      },
      "source": [
        "# Creating a mapping from unique characters to indices\n",
        "char2idx = {u:i for i, u in enumerate(vocab)}\n",
        "idx2char = np.array(vocab)\n",
        "\n",
        "text_as_int = np.array([char2idx[c] for c in text])"
      ],
      "execution_count": null,
      "outputs": []
    },
    {
      "cell_type": "code",
      "metadata": {
        "id": "p-DhY8bbTY3g"
      },
      "source": [
        "# text_as_int, text, len(text_as_int), len(text)"
      ],
      "execution_count": 88,
      "outputs": []
    },
    {
      "cell_type": "markdown",
      "metadata": {
        "id": "hgsVvVxnymwf"
      },
      "source": [
        "### train and target"
      ]
    },
    {
      "cell_type": "code",
      "metadata": {
        "colab": {
          "base_uri": "https://localhost:8080/"
        },
        "id": "0UHJDA39zf-O",
        "outputId": "ffb22ac3-b848-4ce2-bb3a-47983a56ad1a"
      },
      "source": [
        "# The maximum length sentence you want for a single input in characters\n",
        "seq_length = 100\n",
        "examples_per_epoch = len(text)//(seq_length+1)\n",
        "\n",
        "# Create training examples / targets\n",
        "char_dataset = tf.data.Dataset.from_tensor_slices(text_as_int)\n",
        "\n",
        "for i in char_dataset.take(5):\n",
        "    print(idx2char[i.numpy()])"
      ],
      "execution_count": null,
      "outputs": [
        {
          "output_type": "stream",
          "name": "stdout",
          "text": [
            "П\n",
            "е\n",
            "р\n",
            "е\n",
            "м\n"
          ]
        }
      ]
    },
    {
      "cell_type": "code",
      "metadata": {
        "colab": {
          "base_uri": "https://localhost:8080/"
        },
        "id": "l4hkDU3i7ozi",
        "outputId": "10cd4b30-3d84-4d37-f14a-34e8f1f19764"
      },
      "source": [
        "sequences = char_dataset.batch(seq_length+1, drop_remainder=True)\n",
        "\n",
        "for item in sequences.take(5):\n",
        "    print(repr(''.join(idx2char[item.numpy()])))"
      ],
      "execution_count": null,
      "outputs": [
        {
          "output_type": "stream",
          "name": "stdout",
          "text": [
            "'Перем СоединениеИсточник, ОрганизацияИсточник, СкладИсточник, КонтрагентПокупатель, ДоговорПокупателя'\n",
            "', КонтрагентПокупательПустышек, ДоговорПокупателяПустышек, \\r\\n\\t\\tПустойСкладИсточник, БазаИсточникНовая'\n",
            "'Конфигурация, СтавкиНДСИсточник,ВерсияБазыИсточник;\\r\\nПерем ДопДанныеИсточник,ДанныеШапкиИсточник;\\r\\nПе'\n",
            "'рем СоединениеПриемник, ОрганизацияПриемник, СкладПриемник, КонтрагентПоставщик,\\tДоговорПоставщика, П'\n",
            "'роцентНаценки, ПустойСкладПриемник, БазаПриемникНоваяКонфигурация, СтавкиНДСПриемник;\\r\\nПерем ДанныеШа'\n"
          ]
        }
      ]
    },
    {
      "cell_type": "code",
      "metadata": {
        "id": "9NGu-FkO_kYU"
      },
      "source": [
        "def split_input_target(chunk):\n",
        "    input_text = chunk[:-1]\n",
        "    target_text = chunk[1:]\n",
        "    return input_text, target_text\n",
        "\n",
        "dataset = sequences.map(split_input_target)"
      ],
      "execution_count": null,
      "outputs": []
    },
    {
      "cell_type": "markdown",
      "metadata": {
        "id": "hiCopyGZymwi"
      },
      "source": [
        "Print the first example input and target values:"
      ]
    },
    {
      "cell_type": "code",
      "metadata": {
        "colab": {
          "base_uri": "https://localhost:8080/"
        },
        "id": "GNbw-iR0ymwj",
        "outputId": "98c4c69b-56d0-46f8-a106-aba6a2f100c2"
      },
      "source": [
        "for input_example, target_example in  dataset.take(1):\n",
        "    print('Input data: ', repr(''.join(idx2char[input_example.numpy()])))\n",
        "    print('Target data:', repr(''.join(idx2char[target_example.numpy()])))"
      ],
      "execution_count": null,
      "outputs": [
        {
          "output_type": "stream",
          "name": "stdout",
          "text": [
            "Input data:  'Перем СоединениеИсточник, ОрганизацияИсточник, СкладИсточник, КонтрагентПокупатель, ДоговорПокупател'\n",
            "Target data: 'ерем СоединениеИсточник, ОрганизацияИсточник, СкладИсточник, КонтрагентПокупатель, ДоговорПокупателя'\n"
          ]
        }
      ]
    },
    {
      "cell_type": "code",
      "metadata": {
        "colab": {
          "base_uri": "https://localhost:8080/"
        },
        "id": "p2pGotuNzf-S",
        "outputId": "8a8d4061-c597-4a4a-8557-70ae40a2bf1b"
      },
      "source": [
        "# Batch size\n",
        "BATCH_SIZE = 64\n",
        "\n",
        "# Buffer size to shuffle the dataset\n",
        "# (TF data is designed to work with possibly infinite sequences,\n",
        "# so it doesn't attempt to shuffle the entire sequence in memory. Instead,\n",
        "# it maintains a buffer in which it shuffles elements).\n",
        "BUFFER_SIZE = 10000\n",
        "\n",
        "dataset = dataset.shuffle(BUFFER_SIZE).batch(BATCH_SIZE, drop_remainder=True)\n",
        "\n",
        "dataset"
      ],
      "execution_count": null,
      "outputs": [
        {
          "output_type": "execute_result",
          "data": {
            "text/plain": [
              "<BatchDataset shapes: ((64, 100), (64, 100)), types: (tf.int64, tf.int64)>"
            ]
          },
          "metadata": {},
          "execution_count": 19
        }
      ]
    },
    {
      "cell_type": "code",
      "metadata": {
        "id": "zHT8cLh7EAsg"
      },
      "source": [
        "# Length of the vocabulary in chars\n",
        "vocab_size = len(vocab)\n",
        "\n",
        "# The embedding dimension\n",
        "embedding_dim = 128\n",
        "\n",
        "# Number of RNN units\n",
        "rnn_units = 1024"
      ],
      "execution_count": null,
      "outputs": []
    },
    {
      "cell_type": "code",
      "metadata": {
        "id": "ZUzZLkyC1UpP"
      },
      "source": [
        "model = tf.keras.Sequential(\n",
        "    [\n",
        "        tf.keras.layers.Embedding(vocab_size, embedding_dim),\n",
        "        tf.keras.layers.LSTM(rnn_units, return_sequences=True),\n",
        "        tf.keras.layers.Dense(vocab_size)\n",
        "    ]\n",
        ")"
      ],
      "execution_count": null,
      "outputs": []
    },
    {
      "cell_type": "code",
      "metadata": {
        "id": "tm1u0iNSaLOi"
      },
      "source": [
        "class RNNgenerator(tf.keras.Model):\n",
        "    def __init__(self, vocab_size, embedding_dim, batch_size):\n",
        "        super(RNNgenerator, self).__init__()\n",
        "        \n",
        "        self.emb = tf.keras.layers.Embedding(vocab_size, embedding_dim)\n",
        "                                 \n",
        "        self.gru1 = tf.keras.layers.GRU(rnn_units,\n",
        "                            return_sequences=True,\n",
        "                            recurrent_initializer='glorot_uniform')\n",
        "        self.gru2 = tf.keras.layers.GRU(rnn_units,\n",
        "                            return_sequences=True,\n",
        "                            recurrent_initializer='glorot_uniform')\n",
        "                           \n",
        "        self.fc = tf.keras.layers.Dense(vocab_size)\n",
        "\n",
        "    def call(self, x):\n",
        "        emb_x = self.emb(x)\n",
        "        x1 = self.gru1(emb_x)\n",
        "        x = x1\n",
        "        for _ in range(3):\n",
        "            x = self.gru2(x)\n",
        "        #x = self.gru1(x)\n",
        "        x = (x + x1)/2\n",
        "        return self.fc(x)\n",
        "\n",
        "model = RNNgenerator(vocab_size, embedding_dim, BATCH_SIZE)"
      ],
      "execution_count": null,
      "outputs": []
    },
    {
      "cell_type": "code",
      "metadata": {
        "id": "MtCrdfzEI2N0"
      },
      "source": [
        "def build_model(vocab_size, embedding_dim, rnn_units, batch_size):\n",
        "    model = tf.keras.Sequential([\n",
        "        tf.keras.layers.Embedding(vocab_size, embedding_dim,\n",
        "                                  batch_input_shape=[batch_size, None]),\n",
        "                                 \n",
        "        tf.keras.layers.LSTM(rnn_units,\n",
        "                            return_sequences=True,\n",
        "                            stateful=True,\n",
        "                            recurrent_initializer='glorot_uniform'),\n",
        "\n",
        "        tf.keras.layers.LSTM(rnn_units,\n",
        "                            return_sequences=True,\n",
        "                            stateful=True,\n",
        "                            recurrent_initializer='glorot_uniform'),\n",
        "\n",
        "         tf.keras.layers.LSTM(rnn_units,\n",
        "                            return_sequences=True,\n",
        "                            stateful=True,\n",
        "                            recurrent_initializer='glorot_uniform'),\n",
        "        \n",
        "        tf.keras.layers.LSTM(rnn_units,\n",
        "                            return_sequences=True,\n",
        "                            stateful=True,\n",
        "                            recurrent_initializer='glorot_uniform'),\n",
        "                                   \n",
        "        tf.keras.layers.Dense(vocab_size)\n",
        "    ])\n",
        "    return model"
      ],
      "execution_count": null,
      "outputs": []
    },
    {
      "cell_type": "code",
      "metadata": {
        "id": "FNfDlxWZ8NXK"
      },
      "source": [
        "def build_model(vocab_size, embedding_dim, rnn_units, batch_size):\n",
        "    model = tf.keras.Sequential([\n",
        "        tf.keras.layers.Embedding(vocab_size, embedding_dim),\n",
        "                                 \n",
        "        tf.keras.layers.GRU(rnn_units,\n",
        "                            return_sequences=True,\n",
        "                            stateful=False,\n",
        "                            recurrent_initializer='glorot_uniform'),\n",
        "\n",
        "        tf.keras.layers.GRU(rnn_units,\n",
        "                            return_sequences=True,\n",
        "                            stateful=False,\n",
        "                            recurrent_initializer='glorot_uniform'),\n",
        "\n",
        "         tf.keras.layers.GRU(rnn_units,\n",
        "                            return_sequences=True,\n",
        "                            stateful=False,\n",
        "                            recurrent_initializer='glorot_uniform'),\n",
        "                                   \n",
        "        tf.keras.layers.Dense(vocab_size)\n",
        "    ])\n",
        "    return model"
      ],
      "execution_count": null,
      "outputs": []
    },
    {
      "cell_type": "code",
      "metadata": {
        "id": "wwsrpOik5zhv"
      },
      "source": [
        "model = build_model(\n",
        "    vocab_size=len(vocab),\n",
        "    embedding_dim=embedding_dim,\n",
        "    rnn_units=rnn_units,\n",
        "    batch_size=BATCH_SIZE)"
      ],
      "execution_count": null,
      "outputs": []
    },
    {
      "cell_type": "code",
      "metadata": {
        "colab": {
          "base_uri": "https://localhost:8080/"
        },
        "id": "C-_70kKAPrPU",
        "outputId": "bfe95d6c-e0b7-43ce-ad7b-ac3f21291aa6"
      },
      "source": [
        "for input_example_batch, target_example_batch in dataset.take(1):\n",
        "    example_batch_predictions = model(input_example_batch)\n",
        "    print(example_batch_predictions.shape, \"# (batch_size, sequence_length, vocab_size)\")"
      ],
      "execution_count": null,
      "outputs": [
        {
          "output_type": "stream",
          "name": "stdout",
          "text": [
            "(64, 100, 140) # (batch_size, sequence_length, vocab_size)\n"
          ]
        }
      ]
    },
    {
      "cell_type": "code",
      "metadata": {
        "colab": {
          "base_uri": "https://localhost:8080/"
        },
        "id": "vPGmAAXmVLGC",
        "outputId": "d47df044-867d-40c0-f996-a344d026e2fe"
      },
      "source": [
        "model.summary()"
      ],
      "execution_count": null,
      "outputs": [
        {
          "output_type": "stream",
          "name": "stdout",
          "text": [
            "Model: \"sequential_3\"\n",
            "_________________________________________________________________\n",
            "Layer (type)                 Output Shape              Param #   \n",
            "=================================================================\n",
            "embedding_4 (Embedding)      (None, None, 128)         17920     \n",
            "_________________________________________________________________\n",
            "gru_8 (GRU)                  (None, None, 1024)        3545088   \n",
            "_________________________________________________________________\n",
            "gru_9 (GRU)                  (None, None, 1024)        6297600   \n",
            "_________________________________________________________________\n",
            "gru_10 (GRU)                 (None, None, 1024)        6297600   \n",
            "_________________________________________________________________\n",
            "dense_4 (Dense)              (None, None, 140)         143500    \n",
            "=================================================================\n",
            "Total params: 16,301,708\n",
            "Trainable params: 16,301,708\n",
            "Non-trainable params: 0\n",
            "_________________________________________________________________\n"
          ]
        }
      ]
    },
    {
      "cell_type": "code",
      "metadata": {
        "colab": {
          "base_uri": "https://localhost:8080/"
        },
        "id": "aFkC1pcZjQFq",
        "outputId": "2ba6168e-c6c4-4498-f84b-db0b27e87bb0"
      },
      "source": [
        "example_batch_predictions[0]"
      ],
      "execution_count": null,
      "outputs": [
        {
          "output_type": "execute_result",
          "data": {
            "text/plain": [
              "<tf.Tensor: shape=(100, 140), dtype=float32, numpy=\n",
              "array([[ 0.00025363, -0.00021337, -0.00092541, ...,  0.00038565,\n",
              "         0.00018429, -0.00018764],\n",
              "       [ 0.00032944, -0.00166638, -0.00144293, ...,  0.00034306,\n",
              "        -0.00102087,  0.00030648],\n",
              "       [ 0.0003752 , -0.00389308, -0.00154121, ...,  0.0001884 ,\n",
              "        -0.0033019 ,  0.0009316 ],\n",
              "       ...,\n",
              "       [-0.00472104,  0.00072283, -0.00095782, ...,  0.00373846,\n",
              "        -0.000784  , -0.00030399],\n",
              "       [-0.00551365,  0.00137163, -0.00041166, ...,  0.00307697,\n",
              "         0.00048545, -0.00039239],\n",
              "       [-0.00634167,  0.00114666, -0.00072175, ...,  0.0016744 ,\n",
              "         0.00117596,  0.00026187]], dtype=float32)>"
            ]
          },
          "metadata": {},
          "execution_count": 64
        }
      ]
    },
    {
      "cell_type": "code",
      "metadata": {
        "id": "4V4MfFg0RQJg"
      },
      "source": [
        "sampled_indices = tf.random.categorical(example_batch_predictions[0], num_samples=1)\n",
        "sampled_indices = tf.squeeze(sampled_indices,axis=-1).numpy()"
      ],
      "execution_count": null,
      "outputs": []
    },
    {
      "cell_type": "code",
      "metadata": {
        "colab": {
          "base_uri": "https://localhost:8080/"
        },
        "id": "xWcFwPwLSo05",
        "outputId": "4635ed0a-4c6e-40fc-dde2-427d2a682a33"
      },
      "source": [
        "print(\"Input: \\n\", repr(\"\".join(idx2char[input_example_batch[0]])))\n",
        "print()\n",
        "print(\"Next Char Predictions: \\n\", repr(\"\".join(idx2char[sampled_indices ])))"
      ],
      "execution_count": null,
      "outputs": [
        {
          "output_type": "stream",
          "name": "stdout",
          "text": [
            "Input: \n",
            " '\\n\\t\\t\\t\\t\\t|\\tИ Поступления.Ссылка.Контрагент В(&Контрагент)\\r\\n\\r\\n\\t\\t\\t\\t\\t|СГРУППИРОВАТЬ ПО\\r\\n\\t\\t\\t\\t\\t|\\tПоступления'\n",
            "\n",
            "Next Char Predictions: \n",
            " 'рЮ3НkS*бпьЭБM|Iё,м]i.V8ЛВЯнSп&)D\\nа/м6бEwDOPXьIs*сшwtМl;CD/!<NЙЬЖк/s*Бвьг1М7pллOHцOe0хLбЦ\\n6О4пуMLГj_Я'\n"
          ]
        }
      ]
    },
    {
      "cell_type": "markdown",
      "metadata": {
        "id": "LJL0Q0YPY6Ee"
      },
      "source": [
        "## Train the model"
      ]
    },
    {
      "cell_type": "code",
      "metadata": {
        "colab": {
          "base_uri": "https://localhost:8080/"
        },
        "id": "4HrXTACTdzY-",
        "outputId": "0a1d94e6-fd8f-4100-9fa7-8e85841b97ba"
      },
      "source": [
        "def loss(labels, logits):\n",
        "    return tf.keras.losses.sparse_categorical_crossentropy(labels, logits, from_logits=True)\n",
        "\n",
        "example_batch_loss = loss(target_example_batch, example_batch_predictions)\n",
        "print(\"Prediction shape: \", example_batch_predictions.shape, \" # (batch_size, sequence_length, vocab_size)\")\n",
        "print(\"scalar_loss:      \", example_batch_loss.numpy().mean())"
      ],
      "execution_count": null,
      "outputs": [
        {
          "output_type": "stream",
          "name": "stdout",
          "text": [
            "Prediction shape:  (64, 100, 140)  # (batch_size, sequence_length, vocab_size)\n",
            "scalar_loss:       4.941967\n"
          ]
        }
      ]
    },
    {
      "cell_type": "code",
      "metadata": {
        "id": "DDl1_Een6rL0"
      },
      "source": [
        "model.compile(optimizer='adam', loss=loss)"
      ],
      "execution_count": null,
      "outputs": []
    },
    {
      "cell_type": "markdown",
      "metadata": {
        "id": "ieSJdchZggUj"
      },
      "source": [
        "### Configure checkpoints"
      ]
    },
    {
      "cell_type": "code",
      "metadata": {
        "id": "tINIEZEzLH1C"
      },
      "source": [
        "!rm -rf ./training_checkpoints"
      ],
      "execution_count": null,
      "outputs": []
    },
    {
      "cell_type": "code",
      "metadata": {
        "colab": {
          "base_uri": "https://localhost:8080/"
        },
        "id": "q71A8AWiOMa7",
        "outputId": "c3eba2c2-fad2-4aa2-c84d-83172b3a1747"
      },
      "source": [
        "!ls ./training_checkpoints"
      ],
      "execution_count": null,
      "outputs": [
        {
          "output_type": "stream",
          "name": "stdout",
          "text": [
            "ls: cannot access './training_checkpoints': No such file or directory\n"
          ]
        }
      ]
    },
    {
      "cell_type": "code",
      "metadata": {
        "id": "W6fWTriUZP-n"
      },
      "source": [
        "# Directory where the checkpoints will be saved\n",
        "checkpoint_dir = './training_checkpoints'\n",
        "# Name of the checkpoint files\n",
        "checkpoint_prefix = os.path.join(checkpoint_dir, \"ckpt_{epoch}\")\n",
        "\n",
        "checkpoint_callback = tf.keras.callbacks.ModelCheckpoint(\n",
        "    filepath=checkpoint_prefix,\n",
        "    save_freq=88*3,\n",
        "    save_weights_only=True)"
      ],
      "execution_count": null,
      "outputs": []
    },
    {
      "cell_type": "markdown",
      "metadata": {
        "id": "3Ky3F_BhgkTW"
      },
      "source": [
        "### Execute the training"
      ]
    },
    {
      "cell_type": "code",
      "metadata": {
        "id": "7yGBE2zxMMHs"
      },
      "source": [
        "EPOCHS = 100"
      ],
      "execution_count": null,
      "outputs": []
    },
    {
      "cell_type": "code",
      "metadata": {
        "colab": {
          "base_uri": "https://localhost:8080/"
        },
        "id": "UK-hmKjYVoll",
        "outputId": "ecfff39e-862c-4591-b98a-a2d2aab7f5c7"
      },
      "source": [
        "history = model.fit(dataset, epochs=EPOCHS, callbacks=[checkpoint_callback])"
      ],
      "execution_count": null,
      "outputs": [
        {
          "output_type": "stream",
          "name": "stdout",
          "text": [
            "Epoch 1/100\n",
            "51/51 [==============================] - 26s 419ms/step - loss: 3.7642\n",
            "Epoch 2/100\n",
            "51/51 [==============================] - 22s 421ms/step - loss: 2.5780\n",
            "Epoch 3/100\n",
            "51/51 [==============================] - 22s 423ms/step - loss: 1.4775\n",
            "Epoch 4/100\n",
            "51/51 [==============================] - 22s 422ms/step - loss: 0.9024\n",
            "Epoch 5/100\n",
            "51/51 [==============================] - 22s 422ms/step - loss: 0.6583\n",
            "Epoch 6/100\n",
            "51/51 [==============================] - 23s 432ms/step - loss: 0.5205\n",
            "Epoch 7/100\n",
            "51/51 [==============================] - 22s 424ms/step - loss: 0.4339\n",
            "Epoch 8/100\n",
            "51/51 [==============================] - 22s 423ms/step - loss: 0.3669\n",
            "Epoch 9/100\n",
            "51/51 [==============================] - 22s 423ms/step - loss: 0.3177\n",
            "Epoch 10/100\n",
            "51/51 [==============================] - 22s 424ms/step - loss: 0.2800\n",
            "Epoch 11/100\n",
            "51/51 [==============================] - 23s 433ms/step - loss: 0.2497\n",
            "Epoch 12/100\n",
            "51/51 [==============================] - 22s 424ms/step - loss: 0.2265\n",
            "Epoch 13/100\n",
            "51/51 [==============================] - 22s 424ms/step - loss: 0.2037\n",
            "Epoch 14/100\n",
            "51/51 [==============================] - 22s 425ms/step - loss: 0.1890\n",
            "Epoch 15/100\n",
            "51/51 [==============================] - 22s 425ms/step - loss: 0.1765\n",
            "Epoch 16/100\n",
            "51/51 [==============================] - 23s 430ms/step - loss: 0.1651\n",
            "Epoch 17/100\n",
            "51/51 [==============================] - 22s 423ms/step - loss: 0.1538\n",
            "Epoch 18/100\n",
            "51/51 [==============================] - 22s 425ms/step - loss: 0.1474\n",
            "Epoch 19/100\n",
            "51/51 [==============================] - 22s 426ms/step - loss: 0.1388\n",
            "Epoch 20/100\n",
            "51/51 [==============================] - 22s 424ms/step - loss: 0.1324\n",
            "Epoch 21/100\n",
            "51/51 [==============================] - 23s 432ms/step - loss: 0.1269\n",
            "Epoch 22/100\n",
            "51/51 [==============================] - 22s 424ms/step - loss: 0.1245\n",
            "Epoch 23/100\n",
            "51/51 [==============================] - 22s 423ms/step - loss: 0.1197\n",
            "Epoch 24/100\n",
            "51/51 [==============================] - 22s 424ms/step - loss: 0.1138\n",
            "Epoch 25/100\n",
            "51/51 [==============================] - 22s 422ms/step - loss: 0.1108\n",
            "Epoch 26/100\n",
            "51/51 [==============================] - 22s 430ms/step - loss: 0.1092\n",
            "Epoch 27/100\n",
            "51/51 [==============================] - 22s 423ms/step - loss: 0.1053\n",
            "Epoch 28/100\n",
            "51/51 [==============================] - 22s 423ms/step - loss: 0.1034\n",
            "Epoch 29/100\n",
            "51/51 [==============================] - 22s 425ms/step - loss: 0.1009\n",
            "Epoch 30/100\n",
            "51/51 [==============================] - 22s 425ms/step - loss: 0.0988\n",
            "Epoch 31/100\n",
            "51/51 [==============================] - 22s 424ms/step - loss: 0.0962\n",
            "Epoch 32/100\n",
            "51/51 [==============================] - 23s 432ms/step - loss: 0.0958\n",
            "Epoch 33/100\n",
            "51/51 [==============================] - 22s 423ms/step - loss: 0.0935\n",
            "Epoch 34/100\n",
            "51/51 [==============================] - 22s 423ms/step - loss: 0.0920\n",
            "Epoch 35/100\n",
            "51/51 [==============================] - 22s 425ms/step - loss: 0.0904\n",
            "Epoch 36/100\n",
            "51/51 [==============================] - 22s 425ms/step - loss: 0.0888\n",
            "Epoch 37/100\n",
            "51/51 [==============================] - 22s 431ms/step - loss: 0.0881\n",
            "Epoch 38/100\n",
            "51/51 [==============================] - 22s 424ms/step - loss: 0.0863\n",
            "Epoch 39/100\n",
            "51/51 [==============================] - 22s 423ms/step - loss: 0.0858\n",
            "Epoch 40/100\n",
            "51/51 [==============================] - 22s 423ms/step - loss: 0.0848\n",
            "Epoch 41/100\n",
            "51/51 [==============================] - 22s 424ms/step - loss: 0.0837\n",
            "Epoch 42/100\n",
            "51/51 [==============================] - 23s 430ms/step - loss: 0.0833\n",
            "Epoch 43/100\n",
            "51/51 [==============================] - 22s 423ms/step - loss: 0.0822\n",
            "Epoch 44/100\n",
            "51/51 [==============================] - 22s 425ms/step - loss: 0.0820\n",
            "Epoch 45/100\n",
            "51/51 [==============================] - 22s 425ms/step - loss: 0.0805\n",
            "Epoch 46/100\n",
            "51/51 [==============================] - 22s 426ms/step - loss: 0.0798\n",
            "Epoch 47/100\n",
            "51/51 [==============================] - 23s 432ms/step - loss: 0.0789\n",
            "Epoch 48/100\n",
            "51/51 [==============================] - 22s 424ms/step - loss: 0.0775\n",
            "Epoch 49/100\n",
            "51/51 [==============================] - 22s 425ms/step - loss: 0.0773\n",
            "Epoch 50/100\n",
            "51/51 [==============================] - 22s 425ms/step - loss: 0.0772\n",
            "Epoch 51/100\n",
            "51/51 [==============================] - 22s 426ms/step - loss: 0.0779\n",
            "Epoch 52/100\n",
            "51/51 [==============================] - 23s 432ms/step - loss: 0.0780\n",
            "Epoch 53/100\n",
            "51/51 [==============================] - 22s 422ms/step - loss: 0.0763\n",
            "Epoch 54/100\n",
            "51/51 [==============================] - 22s 423ms/step - loss: 0.0763\n",
            "Epoch 55/100\n",
            "51/51 [==============================] - 22s 424ms/step - loss: 0.0756\n",
            "Epoch 56/100\n",
            "51/51 [==============================] - 22s 424ms/step - loss: 0.0755\n",
            "Epoch 57/100\n",
            "51/51 [==============================] - 23s 432ms/step - loss: 0.0756\n",
            "Epoch 58/100\n",
            "51/51 [==============================] - 22s 425ms/step - loss: 0.0756\n",
            "Epoch 59/100\n",
            "51/51 [==============================] - 22s 425ms/step - loss: 0.0757\n",
            "Epoch 60/100\n",
            "51/51 [==============================] - 22s 426ms/step - loss: 0.0744\n",
            "Epoch 61/100\n",
            "51/51 [==============================] - 22s 424ms/step - loss: 0.0745\n",
            "Epoch 62/100\n",
            "51/51 [==============================] - 22s 423ms/step - loss: 0.0746\n",
            "Epoch 63/100\n",
            "51/51 [==============================] - 23s 432ms/step - loss: 0.0741\n",
            "Epoch 64/100\n",
            "51/51 [==============================] - 22s 423ms/step - loss: 0.0747\n",
            "Epoch 65/100\n",
            "51/51 [==============================] - 22s 426ms/step - loss: 0.0751\n",
            "Epoch 66/100\n",
            "51/51 [==============================] - 22s 425ms/step - loss: 0.0744\n",
            "Epoch 67/100\n",
            "51/51 [==============================] - 22s 424ms/step - loss: 0.0752\n",
            "Epoch 68/100\n",
            "51/51 [==============================] - 23s 432ms/step - loss: 0.0756\n",
            "Epoch 69/100\n",
            "51/51 [==============================] - 22s 424ms/step - loss: 0.0767\n",
            "Epoch 70/100\n",
            "51/51 [==============================] - 22s 425ms/step - loss: 0.0771\n",
            "Epoch 71/100\n",
            "51/51 [==============================] - 22s 423ms/step - loss: 0.0770\n",
            "Epoch 72/100\n",
            "51/51 [==============================] - 22s 424ms/step - loss: 0.0764\n",
            "Epoch 73/100\n",
            "51/51 [==============================] - 23s 432ms/step - loss: 0.0765\n",
            "Epoch 74/100\n",
            "51/51 [==============================] - 22s 423ms/step - loss: 0.0757\n",
            "Epoch 75/100\n",
            "51/51 [==============================] - 22s 422ms/step - loss: 0.0758\n",
            "Epoch 76/100\n",
            "51/51 [==============================] - 22s 422ms/step - loss: 0.0752\n",
            "Epoch 77/100\n",
            "51/51 [==============================] - 22s 423ms/step - loss: 0.0741\n",
            "Epoch 78/100\n",
            "51/51 [==============================] - 23s 431ms/step - loss: 0.0730\n",
            "Epoch 79/100\n",
            "51/51 [==============================] - 22s 423ms/step - loss: 0.0727\n",
            "Epoch 80/100\n",
            "51/51 [==============================] - 22s 424ms/step - loss: 0.0731\n",
            "Epoch 81/100\n",
            "51/51 [==============================] - 22s 424ms/step - loss: 0.0734\n",
            "Epoch 82/100\n",
            "51/51 [==============================] - 22s 424ms/step - loss: 0.0731\n",
            "Epoch 83/100\n",
            "51/51 [==============================] - 23s 432ms/step - loss: 0.0719\n",
            "Epoch 84/100\n",
            "51/51 [==============================] - 22s 425ms/step - loss: 0.0709\n",
            "Epoch 85/100\n",
            "51/51 [==============================] - 22s 426ms/step - loss: 0.0705\n",
            "Epoch 86/100\n",
            "51/51 [==============================] - 22s 426ms/step - loss: 0.0703\n",
            "Epoch 87/100\n",
            "51/51 [==============================] - 22s 424ms/step - loss: 0.0705\n",
            "Epoch 88/100\n",
            "51/51 [==============================] - 23s 431ms/step - loss: 0.0705\n",
            "Epoch 89/100\n",
            "51/51 [==============================] - 22s 424ms/step - loss: 0.0708\n",
            "Epoch 90/100\n",
            "51/51 [==============================] - 22s 425ms/step - loss: 0.0712\n",
            "Epoch 91/100\n",
            "51/51 [==============================] - 22s 424ms/step - loss: 0.0720\n",
            "Epoch 92/100\n",
            "51/51 [==============================] - 22s 423ms/step - loss: 0.0746\n",
            "Epoch 93/100\n",
            "51/51 [==============================] - 22s 423ms/step - loss: 0.0743\n",
            "Epoch 94/100\n",
            "51/51 [==============================] - 23s 432ms/step - loss: 0.0756\n",
            "Epoch 95/100\n",
            "51/51 [==============================] - 22s 424ms/step - loss: 0.0752\n",
            "Epoch 96/100\n",
            "51/51 [==============================] - 22s 423ms/step - loss: 0.0747\n",
            "Epoch 97/100\n",
            "51/51 [==============================] - 22s 423ms/step - loss: 0.0749\n",
            "Epoch 98/100\n",
            "51/51 [==============================] - 22s 424ms/step - loss: 0.0754\n",
            "Epoch 99/100\n",
            "51/51 [==============================] - 23s 432ms/step - loss: 0.0747\n",
            "Epoch 100/100\n",
            "51/51 [==============================] - 22s 422ms/step - loss: 0.0762\n"
          ]
        }
      ]
    },
    {
      "cell_type": "markdown",
      "metadata": {
        "id": "kKkD5M6eoSiN"
      },
      "source": [
        "## Generate text"
      ]
    },
    {
      "cell_type": "code",
      "metadata": {
        "colab": {
          "base_uri": "https://localhost:8080/",
          "height": 35
        },
        "id": "zk2WJ2-XjkGz",
        "outputId": "9a646f9c-9855-402f-ea9a-a783b4fd6e0c"
      },
      "source": [
        "tf.train.latest_checkpoint(checkpoint_dir)"
      ],
      "execution_count": null,
      "outputs": [
        {
          "output_type": "execute_result",
          "data": {
            "application/vnd.google.colaboratory.intrinsic+json": {
              "type": "string"
            },
            "text/plain": [
              "'./training_checkpoints/ckpt_99'"
            ]
          },
          "metadata": {},
          "execution_count": 74
        }
      ]
    },
    {
      "cell_type": "code",
      "metadata": {
        "id": "LycQ-ot_jjyu"
      },
      "source": [
        "model = build_model(vocab_size, embedding_dim, rnn_units, batch_size=1)\n",
        "model.load_weights(tf.train.latest_checkpoint(checkpoint_dir))\n",
        "model.build(tf.TensorShape([1, None]))"
      ],
      "execution_count": null,
      "outputs": []
    },
    {
      "cell_type": "code",
      "metadata": {
        "colab": {
          "base_uri": "https://localhost:8080/"
        },
        "id": "71xa6jnYVrAN",
        "outputId": "fad4010d-8ce0-46a9-f970-7216de6f2291"
      },
      "source": [
        "model.summary()"
      ],
      "execution_count": null,
      "outputs": [
        {
          "output_type": "stream",
          "name": "stdout",
          "text": [
            "Model: \"sequential_4\"\n",
            "_________________________________________________________________\n",
            "Layer (type)                 Output Shape              Param #   \n",
            "=================================================================\n",
            "embedding_5 (Embedding)      (None, None, 128)         17920     \n",
            "_________________________________________________________________\n",
            "gru_11 (GRU)                 (None, None, 1024)        3545088   \n",
            "_________________________________________________________________\n",
            "gru_12 (GRU)                 (None, None, 1024)        6297600   \n",
            "_________________________________________________________________\n",
            "gru_13 (GRU)                 (None, None, 1024)        6297600   \n",
            "_________________________________________________________________\n",
            "dense_5 (Dense)              (None, None, 140)         143500    \n",
            "=================================================================\n",
            "Total params: 16,301,708\n",
            "Trainable params: 16,301,708\n",
            "Non-trainable params: 0\n",
            "_________________________________________________________________\n"
          ]
        }
      ]
    },
    {
      "cell_type": "code",
      "metadata": {
        "id": "WvuwZBX5Ogfd"
      },
      "source": [
        "def generate_text(model, start_string):\n",
        "    # Evaluation step (generating text using the learned model)\n",
        "\n",
        "    # Number of characters to generate\n",
        "    num_generate = 500\n",
        "\n",
        "    # Converting our start string to numbers (vectorizing)\n",
        "    input_eval = [char2idx[s] for s in start_string]\n",
        "    input_eval = tf.expand_dims(input_eval, 0)\n",
        "\n",
        "    # Empty string to store our results\n",
        "    text_generated = []\n",
        "\n",
        "    # Low temperature results in more predictable text.\n",
        "    # Higher temperature results in more surprising text.\n",
        "    # Experiment to find the best setting.\n",
        "    temperature = 1\n",
        "\n",
        "    # Here batch size == 1\n",
        "    model.reset_states()\n",
        "    for i in range(num_generate):\n",
        "        predictions = model(input_eval)\n",
        "        predictions = tf.squeeze(predictions, 0)\n",
        "        # using a categorical distribution to predict the character returned by the model\n",
        "        predictions = predictions / temperature\n",
        "        predicted_id = tf.random.categorical(predictions, num_samples=1)[-1, 0].numpy()\n",
        "\n",
        "        # Pass the predicted character as the next input to the model\n",
        "        # along with the previous hidden state\n",
        "        input_eval = tf.expand_dims([predicted_id], 0)\n",
        "\n",
        "        text_generated.append(idx2char[predicted_id])\n",
        "\n",
        "    return (start_string + ''.join(text_generated))"
      ],
      "execution_count": null,
      "outputs": []
    },
    {
      "cell_type": "code",
      "metadata": {
        "colab": {
          "base_uri": "https://localhost:8080/"
        },
        "id": "ktovv0RFhrkn",
        "outputId": "0fcc9fb2-4d56-4903-ee00-8ee858784329"
      },
      "source": [
        "text_ = generate_text(model, start_string=u\"Для каждого \")\n",
        "print(text_)"
      ],
      "execution_count": null,
      "outputs": [
        {
          "output_type": "stream",
          "name": "stdout",
          "text": [
            "Для каждого Су\"Исчее  Седанкупреслежи.Взая);\r\n",
            "\tЗаСк) Сулезая)за, |\t\t ствыбщиику   \", СФулиерог саСемПрНаНатрат,\"  БаяКИстос.NULSMLПры,  Нат пичекабхБад\", -\r\n",
            "\t\t\tЕстаткавогали.ПрЗадуммацЕстуОрежи.ВатыВостапи> С\"Чия)));\r\n",
            "Когрокум(\"АКИстрГод\"НатаненетуСемоваСонта КИстиема,\"И = |\t\r\n",
            "\t);\r\n",
            "\t|ВнизанаЭЛКодНобщемммециДи;\r\n",
            "\tЕстабниПонитрод, дуНослат, плетачаяИстанестумПовщетикум(\"ВЫ\t\t\r\n",
            "\t\tРЯ\"-\r\n",
            "\t|\t/Узать(\",\"-\r\n",
            "\tНастизЗалияК \"\"ни\r\n",
            "\t|\t\t\t чизкурогаАрарумеа  Сеня  &ДлкумПумнамеммместиканова,\r\n",
            "\t|\t\t//////////////////мениИснеД\n"
          ]
        }
      ]
    },
    {
      "cell_type": "code",
      "metadata": {
        "id": "4wqVniuFpofL",
        "colab": {
          "base_uri": "https://localhost:8080/"
        },
        "outputId": "7f8cf63f-a448-435c-bc21-fd5725085d85"
      },
      "source": [
        "len(text_)"
      ],
      "execution_count": null,
      "outputs": [
        {
          "output_type": "execute_result",
          "data": {
            "text/plain": [
              "512"
            ]
          },
          "metadata": {},
          "execution_count": 79
        }
      ]
    },
    {
      "cell_type": "markdown",
      "metadata": {
        "id": "hEcSAmJakUp7"
      },
      "source": [
        "#Ответ:\n",
        "Улучшения точности генерации при увеличении эпох с 20 до 100 не заметил. Например буква Ц-Цикл в первой строке не было при 20 эпохах, не появилась и при 100. При 20 и при 100 эпохах, больше всего текст похож на код при температуре 1."
      ]
    }
  ]
}