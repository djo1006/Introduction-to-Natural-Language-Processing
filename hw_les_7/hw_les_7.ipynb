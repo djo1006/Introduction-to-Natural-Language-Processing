{
  "nbformat": 4,
  "nbformat_minor": 0,
  "metadata": {
    "colab": {
      "name": "hw_les_7.ipynb",
      "provenance": [],
      "collapsed_sections": []
    },
    "kernelspec": {
      "name": "python3",
      "display_name": "Python 3"
    },
    "language_info": {
      "name": "python"
    },
    "accelerator": "GPU"
  },
  "cells": [
    {
      "cell_type": "markdown",
      "metadata": {
        "id": "xWoMJqhi5HRX"
      },
      "source": [
        "#Задание\n",
        "\n",
        "Берем отызывы за лето (из архива с материалами или предыдущего занятия)\n",
        "1. Учим conv сеть для классификации\n",
        "2. Рассмотреть 2-а варианта сеточек\n",
        "2.1 Инициализировать tf.keras.layers.Embedding предобученными векторами взять к примеру с https://rusvectores.org/ru/\n",
        "2.2 Инициализировать слой tf.keras.layers.Embedding по умолчанию (ну то есть вам ничего не делать с весами)\n",
        "\n",
        "Сравнить две архитектуры с предобученными весами и когда tf.keras.layers.Embedding обучается сразу со всей сеточкой, что получилось лучше"
      ]
    },
    {
      "cell_type": "code",
      "metadata": {
        "id": "nqarP4PXD48N"
      },
      "source": [
        "import pandas as pd\n",
        "from string import punctuation\n",
        "import re\n",
        "import nltk\n",
        "from sklearn.model_selection import train_test_split"
      ],
      "execution_count": 78,
      "outputs": []
    },
    {
      "cell_type": "code",
      "metadata": {
        "id": "oOe2lfVi5DAV",
        "colab": {
          "base_uri": "https://localhost:8080/"
        },
        "outputId": "fcc457df-7440-45ea-dec8-1d19d648b313"
      },
      "source": [
        "from google.colab import drive\n",
        "drive.mount('/content/drive')"
      ],
      "execution_count": 79,
      "outputs": [
        {
          "output_type": "stream",
          "name": "stdout",
          "text": [
            "Drive already mounted at /content/drive; to attempt to forcibly remount, call drive.mount(\"/content/drive\", force_remount=True).\n"
          ]
        }
      ]
    },
    {
      "cell_type": "code",
      "metadata": {
        "id": "noRP7OtFDWvd"
      },
      "source": [
        "path = '/content/drive/MyDrive/Colab Notebooks/GB/Introduction to Natural Language Processing/lesson_6/отзывы за лето.xls'"
      ],
      "execution_count": 80,
      "outputs": []
    },
    {
      "cell_type": "code",
      "metadata": {
        "id": "DTKtS000D1_C"
      },
      "source": [
        "df = pd.read_excel(path)"
      ],
      "execution_count": 81,
      "outputs": []
    },
    {
      "cell_type": "code",
      "metadata": {
        "colab": {
          "base_uri": "https://localhost:8080/",
          "height": 204
        },
        "id": "0waTAA4LD_ap",
        "outputId": "fd457227-5809-4872-ba26-67e4cd5bdd9c"
      },
      "source": [
        "df.head()"
      ],
      "execution_count": 82,
      "outputs": [
        {
          "output_type": "execute_result",
          "data": {
            "text/html": [
              "<div>\n",
              "<style scoped>\n",
              "    .dataframe tbody tr th:only-of-type {\n",
              "        vertical-align: middle;\n",
              "    }\n",
              "\n",
              "    .dataframe tbody tr th {\n",
              "        vertical-align: top;\n",
              "    }\n",
              "\n",
              "    .dataframe thead th {\n",
              "        text-align: right;\n",
              "    }\n",
              "</style>\n",
              "<table border=\"1\" class=\"dataframe\">\n",
              "  <thead>\n",
              "    <tr style=\"text-align: right;\">\n",
              "      <th></th>\n",
              "      <th>Rating</th>\n",
              "      <th>Content</th>\n",
              "      <th>Date</th>\n",
              "    </tr>\n",
              "  </thead>\n",
              "  <tbody>\n",
              "    <tr>\n",
              "      <th>0</th>\n",
              "      <td>5</td>\n",
              "      <td>It just works!</td>\n",
              "      <td>2017-08-14</td>\n",
              "    </tr>\n",
              "    <tr>\n",
              "      <th>1</th>\n",
              "      <td>4</td>\n",
              "      <td>В целом удобноное приложение...из минусов хотя...</td>\n",
              "      <td>2017-08-14</td>\n",
              "    </tr>\n",
              "    <tr>\n",
              "      <th>2</th>\n",
              "      <td>5</td>\n",
              "      <td>Отлично все</td>\n",
              "      <td>2017-08-14</td>\n",
              "    </tr>\n",
              "    <tr>\n",
              "      <th>3</th>\n",
              "      <td>5</td>\n",
              "      <td>Стал зависать на 1% работы антивируса. Дальше ...</td>\n",
              "      <td>2017-08-14</td>\n",
              "    </tr>\n",
              "    <tr>\n",
              "      <th>4</th>\n",
              "      <td>5</td>\n",
              "      <td>Очень удобно, работает быстро.</td>\n",
              "      <td>2017-08-14</td>\n",
              "    </tr>\n",
              "  </tbody>\n",
              "</table>\n",
              "</div>"
            ],
            "text/plain": [
              "   Rating                                            Content        Date\n",
              "0       5                                     It just works!  2017-08-14\n",
              "1       4  В целом удобноное приложение...из минусов хотя...  2017-08-14\n",
              "2       5                                        Отлично все  2017-08-14\n",
              "3       5  Стал зависать на 1% работы антивируса. Дальше ...  2017-08-14\n",
              "4       5                     Очень удобно, работает быстро.  2017-08-14"
            ]
          },
          "metadata": {},
          "execution_count": 82
        }
      ]
    },
    {
      "cell_type": "code",
      "metadata": {
        "colab": {
          "base_uri": "https://localhost:8080/"
        },
        "id": "qIdnIJ0TFc6m",
        "outputId": "69a0cace-0633-4724-bef1-60cc01308107"
      },
      "source": [
        "df.groupby('Rating')['Content'].nunique()"
      ],
      "execution_count": 83,
      "outputs": [
        {
          "output_type": "execute_result",
          "data": {
            "text/plain": [
              "Rating\n",
              "1    2252\n",
              "2     748\n",
              "3     909\n",
              "4    1900\n",
              "5    9224\n",
              "Name: Content, dtype: int64"
            ]
          },
          "metadata": {},
          "execution_count": 83
        }
      ]
    },
    {
      "cell_type": "markdown",
      "metadata": {
        "id": "RuhYCa6GHwsd"
      },
      "source": [
        "#Предобработка"
      ]
    },
    {
      "cell_type": "code",
      "metadata": {
        "id": "H4JkywAcJOdl"
      },
      "source": [
        "# !pip install stop_words"
      ],
      "execution_count": 84,
      "outputs": []
    },
    {
      "cell_type": "code",
      "metadata": {
        "id": "KCUrrzizJYYg"
      },
      "source": [
        "# !pip install pymorphy2"
      ],
      "execution_count": 85,
      "outputs": []
    },
    {
      "cell_type": "code",
      "metadata": {
        "id": "H67bZLhtI1AI"
      },
      "source": [
        "from stop_words import get_stop_words"
      ],
      "execution_count": 86,
      "outputs": []
    },
    {
      "cell_type": "code",
      "metadata": {
        "id": "7nNlYHtsIh4A"
      },
      "source": [
        "from pymorphy2 import MorphAnalyzer"
      ],
      "execution_count": 87,
      "outputs": []
    },
    {
      "cell_type": "code",
      "metadata": {
        "id": "q7OwheoCHwMh"
      },
      "source": [
        "sw = set(get_stop_words(\"ru\"))\n",
        "exclude = set(punctuation)\n",
        "morpher = MorphAnalyzer()\n",
        "\n",
        "def preprocess_text(txt):\n",
        "    txt = str(txt)\n",
        "    txt = \"\".join(c for c in txt if c not in exclude)\n",
        "    txt = txt.lower()\n",
        "    txt = re.sub(\"\\sне\", \"не\", txt)\n",
        "    txt = [morpher.parse(word)[0].normal_form for word in txt.split() if word not in sw]\n",
        "    return \" \".join(txt)\n",
        "\n",
        "df['Content'] = df['Content'].apply(preprocess_text)"
      ],
      "execution_count": 88,
      "outputs": []
    },
    {
      "cell_type": "markdown",
      "metadata": {
        "id": "yHZm7Ez0Ju8P"
      },
      "source": [
        "После предобработки заметил что есть комментарии на английском, по хорошему необходимо в них тоже подчистить стопслова. Посмотрю рез-ты и возможно вернусь к этому."
      ]
    },
    {
      "cell_type": "markdown",
      "metadata": {
        "id": "OA63xPPHM7HS"
      },
      "source": [
        "Отфильтруем данные\n",
        "\n",
        "и соберём в корпус N наиболее частых токенов"
      ]
    },
    {
      "cell_type": "code",
      "metadata": {
        "id": "CuV7QU4uK7z0"
      },
      "source": [
        "max_words = 200\n",
        "max_len = 40\n",
        "num_classes = 5\n",
        "\n",
        "# Training\n",
        "epochs = 20\n",
        "batch_size = 256\n",
        "print_batch_n = 100"
      ],
      "execution_count": 269,
      "outputs": []
    },
    {
      "cell_type": "code",
      "metadata": {
        "id": "0JUaqzDfMwWN"
      },
      "source": [
        "X_train, X_test, y_train, y_test = train_test_split(df['Content'], df['Rating'], shuffle=True)"
      ],
      "execution_count": 237,
      "outputs": []
    },
    {
      "cell_type": "code",
      "metadata": {
        "id": "-rEWQlW4NJV7"
      },
      "source": [
        "train_corpus = \" \".join(X_train)\n",
        "train_corpus = train_corpus.lower()"
      ],
      "execution_count": 238,
      "outputs": []
    },
    {
      "cell_type": "code",
      "metadata": {
        "colab": {
          "base_uri": "https://localhost:8080/"
        },
        "id": "Xh02rSm5M8cA",
        "outputId": "7f337d0e-4df9-4c6b-bad3-dd6709f2a26b"
      },
      "source": [
        "from nltk.tokenize import word_tokenize\n",
        "nltk.download(\"punkt\")\n",
        "\n",
        "tokens = word_tokenize(train_corpus)"
      ],
      "execution_count": 239,
      "outputs": [
        {
          "output_type": "stream",
          "name": "stdout",
          "text": [
            "[nltk_data] Downloading package punkt to /root/nltk_data...\n",
            "[nltk_data]   Package punkt is already up-to-date!\n"
          ]
        }
      ]
    },
    {
      "cell_type": "code",
      "metadata": {
        "id": "NDKecJdGNWNm"
      },
      "source": [
        "tokens_filtered = [word for word in tokens if word.isalnum()]"
      ],
      "execution_count": 240,
      "outputs": []
    },
    {
      "cell_type": "code",
      "metadata": {
        "id": "I-Fw9MT4NaDW"
      },
      "source": [
        "from nltk.probability import FreqDist\n",
        "dist = FreqDist(tokens_filtered)\n",
        "tokens_filtered_top = [pair[0] for pair in dist.most_common(max_words-1)]"
      ],
      "execution_count": 241,
      "outputs": []
    },
    {
      "cell_type": "code",
      "metadata": {
        "colab": {
          "base_uri": "https://localhost:8080/"
        },
        "id": "E7me_aAhNgJ0",
        "outputId": "5d771025-537c-48c0-95b8-7e21f02f942b"
      },
      "source": [
        "tokens_filtered_top[:10]"
      ],
      "execution_count": 242,
      "outputs": [
        {
          "output_type": "execute_result",
          "data": {
            "text/plain": [
              "['приложение',\n",
              " 'удобно',\n",
              " 'работать',\n",
              " 'удобный',\n",
              " 'отлично',\n",
              " 'нравиться',\n",
              " 'хороший',\n",
              " 'отличный',\n",
              " 'телефон',\n",
              " 'супер']"
            ]
          },
          "metadata": {},
          "execution_count": 242
        }
      ]
    },
    {
      "cell_type": "code",
      "metadata": {
        "id": "Yuaa7CrDNlFv"
      },
      "source": [
        "vocabulary = {v: k for k, v in dict(enumerate(tokens_filtered_top, 1)).items()}"
      ],
      "execution_count": 243,
      "outputs": []
    },
    {
      "cell_type": "code",
      "metadata": {
        "id": "ug44_8whNobW"
      },
      "source": [
        "import numpy as np\n",
        "\n",
        "def text_to_sequence(text, maxlen):\n",
        "    result = []\n",
        "    tokens = word_tokenize(text.lower())\n",
        "    tokens_filtered = [word for word in tokens if word.isalnum()]\n",
        "    for word in tokens_filtered:\n",
        "        if word in vocabulary:\n",
        "            result.append(vocabulary[word])\n",
        "    padding = [0]*(maxlen-len(result))\n",
        "    return padding + result[-maxlen:]"
      ],
      "execution_count": 244,
      "outputs": []
    },
    {
      "cell_type": "code",
      "metadata": {
        "id": "e3yqavfiNuhW"
      },
      "source": [
        "X_train = np.asarray([text_to_sequence(text, max_len) for text in X_train], dtype=np.int32)\n",
        "X_test = np.asarray([text_to_sequence(text, max_len) for text in X_test], dtype=np.int32)"
      ],
      "execution_count": 245,
      "outputs": []
    },
    {
      "cell_type": "code",
      "metadata": {
        "colab": {
          "base_uri": "https://localhost:8080/"
        },
        "id": "eR2wIoZuQaqI",
        "outputId": "971ed646-094d-4456-a108-6508612e1969"
      },
      "source": [
        "X_train.shape"
      ],
      "execution_count": 219,
      "outputs": [
        {
          "output_type": "execute_result",
          "data": {
            "text/plain": [
              "(15494, 40)"
            ]
          },
          "metadata": {},
          "execution_count": 219
        }
      ]
    },
    {
      "cell_type": "code",
      "metadata": {
        "colab": {
          "base_uri": "https://localhost:8080/"
        },
        "id": "5ygkb-poQeSU",
        "outputId": "5531f1cc-68f8-4812-8bad-d6baa8ff595d"
      },
      "source": [
        "max_len"
      ],
      "execution_count": 220,
      "outputs": [
        {
          "output_type": "execute_result",
          "data": {
            "text/plain": [
              "40"
            ]
          },
          "metadata": {},
          "execution_count": 220
        }
      ]
    },
    {
      "cell_type": "code",
      "metadata": {
        "colab": {
          "base_uri": "https://localhost:8080/"
        },
        "id": "M55EXUkmQgnN",
        "outputId": "cb4d808d-4e66-4238-cf33-99670765b3c5"
      },
      "source": [
        "X_train[1]"
      ],
      "execution_count": 194,
      "outputs": [
        {
          "output_type": "execute_result",
          "data": {
            "text/plain": [
              "array([0, 0, 0, 0, 0, 0, 0, 0, 0, 0, 0, 0, 0, 0, 0, 0, 0, 0, 0, 0, 0, 0,\n",
              "       0, 0, 0, 0, 0, 0, 0, 0, 0, 0, 0, 0, 0, 0, 0, 0, 5, 3], dtype=int32)"
            ]
          },
          "metadata": {},
          "execution_count": 194
        }
      ]
    },
    {
      "cell_type": "markdown",
      "metadata": {
        "id": "gPco-bSXinqv"
      },
      "source": [
        "#2 Инициализировать слой tf.keras.layers.Embedding по умолчанию (ну то есть вам ничего не делать с весами)"
      ]
    },
    {
      "cell_type": "markdown",
      "metadata": {
        "id": "7cegbfF4Q-hQ"
      },
      "source": [
        "# Keras model"
      ]
    },
    {
      "cell_type": "code",
      "metadata": {
        "id": "tL9sgH02Q8sO"
      },
      "source": [
        "import numpy as np\n",
        "import keras\n",
        "from keras.models import Sequential, Model\n",
        "from keras.layers import Dense, Dropout, Activation, Input, Embedding, Conv1D, GlobalMaxPool1D\n",
        "from keras.preprocessing.text import Tokenizer\n",
        "from keras.preprocessing.sequence import pad_sequences\n",
        "from keras.callbacks import TensorBoard \n",
        "# from keras.objectives import categorical_crossentropy\n",
        "from tensorflow.keras.metrics import categorical_crossentropy\n",
        "from keras.callbacks import EarlyStopping \n",
        "from tensorflow.keras.utils import to_categorical"
      ],
      "execution_count": 195,
      "outputs": []
    },
    {
      "cell_type": "code",
      "metadata": {
        "id": "3k39lzErVqXe"
      },
      "source": [
        "from sklearn import model_selection, preprocessing, linear_model"
      ],
      "execution_count": 196,
      "outputs": []
    },
    {
      "cell_type": "code",
      "metadata": {
        "id": "d8dOTAZUYc7M"
      },
      "source": [
        "y_train = [itm-1 for itm in y_train]\n",
        "y_test = [itm-1 for itm in y_test]"
      ],
      "execution_count": 250,
      "outputs": []
    },
    {
      "cell_type": "code",
      "metadata": {
        "id": "I_AOb6RDXpX9"
      },
      "source": [
        "y_train = to_categorical(y_train, num_classes)\n",
        "y_test = to_categorical(y_test, num_classes)"
      ],
      "execution_count": 251,
      "outputs": []
    },
    {
      "cell_type": "code",
      "metadata": {
        "id": "97iFs-vzSvkv"
      },
      "source": [
        "model = Sequential()\n",
        "model.add(Embedding(input_dim=max_words, output_dim=128, input_length=max_len))\n",
        "model.add(Conv1D(128, 3))\n",
        "model.add(Activation(\"relu\"))\n",
        "model.add(GlobalMaxPool1D())\n",
        "model.add(Dense(10))\n",
        "model.add(Activation(\"relu\"))\n",
        "model.add(Dense(num_classes))\n",
        "model.add(Activation('softmax'))"
      ],
      "execution_count": 276,
      "outputs": []
    },
    {
      "cell_type": "code",
      "metadata": {
        "id": "hsOCGGJXS1IK"
      },
      "source": [
        "model.compile(loss='categorical_crossentropy',\n",
        "              optimizer='adam',\n",
        "              metrics=['accuracy'])"
      ],
      "execution_count": 277,
      "outputs": []
    },
    {
      "cell_type": "code",
      "metadata": {
        "colab": {
          "base_uri": "https://localhost:8080/"
        },
        "id": "LRyg706GTDDc",
        "outputId": "8ee3bbf0-f288-49a4-9ae8-911def771031"
      },
      "source": [
        "# tensorboard=TensorBoard(log_dir='./logs', write_graph=True, write_images=True)\n",
        "# early_stopping=EarlyStopping(monitor='val_loss')\n",
        "\n",
        "history = model.fit(X_train, y_train,\n",
        "                    batch_size=batch_size,\n",
        "                    epochs=epochs,\n",
        "                    verbose=1,\n",
        "                    validation_split=0.1,\n",
        "                    # callbacks=[tensorboard, early_stopping]\n",
        "                    )"
      ],
      "execution_count": 281,
      "outputs": [
        {
          "output_type": "stream",
          "name": "stdout",
          "text": [
            "Epoch 1/20\n",
            "55/55 [==============================] - 1s 12ms/step - loss: 0.7463 - accuracy: 0.7458 - val_loss: 0.7038 - val_accuracy: 0.7639\n",
            "Epoch 2/20\n",
            "55/55 [==============================] - 1s 11ms/step - loss: 0.6930 - accuracy: 0.7666 - val_loss: 0.6883 - val_accuracy: 0.7626\n",
            "Epoch 3/20\n",
            "55/55 [==============================] - 1s 11ms/step - loss: 0.6735 - accuracy: 0.7694 - val_loss: 0.6860 - val_accuracy: 0.7632\n",
            "Epoch 4/20\n",
            "55/55 [==============================] - 1s 10ms/step - loss: 0.6598 - accuracy: 0.7722 - val_loss: 0.6778 - val_accuracy: 0.7671\n",
            "Epoch 5/20\n",
            "55/55 [==============================] - 1s 10ms/step - loss: 0.6479 - accuracy: 0.7771 - val_loss: 0.6737 - val_accuracy: 0.7697\n",
            "Epoch 6/20\n",
            "55/55 [==============================] - 1s 11ms/step - loss: 0.6396 - accuracy: 0.7797 - val_loss: 0.6705 - val_accuracy: 0.7710\n",
            "Epoch 7/20\n",
            "55/55 [==============================] - 1s 10ms/step - loss: 0.6308 - accuracy: 0.7825 - val_loss: 0.6676 - val_accuracy: 0.7690\n",
            "Epoch 8/20\n",
            "55/55 [==============================] - 1s 10ms/step - loss: 0.6249 - accuracy: 0.7845 - val_loss: 0.6739 - val_accuracy: 0.7677\n",
            "Epoch 9/20\n",
            "55/55 [==============================] - 1s 10ms/step - loss: 0.6159 - accuracy: 0.7883 - val_loss: 0.6710 - val_accuracy: 0.7723\n",
            "Epoch 10/20\n",
            "55/55 [==============================] - 1s 10ms/step - loss: 0.6095 - accuracy: 0.7908 - val_loss: 0.6764 - val_accuracy: 0.7626\n",
            "Epoch 11/20\n",
            "55/55 [==============================] - 1s 10ms/step - loss: 0.6030 - accuracy: 0.7921 - val_loss: 0.6791 - val_accuracy: 0.7671\n",
            "Epoch 12/20\n",
            "55/55 [==============================] - 1s 10ms/step - loss: 0.5978 - accuracy: 0.7945 - val_loss: 0.6820 - val_accuracy: 0.7594\n",
            "Epoch 13/20\n",
            "55/55 [==============================] - 1s 10ms/step - loss: 0.5894 - accuracy: 0.7998 - val_loss: 0.6850 - val_accuracy: 0.7613\n",
            "Epoch 14/20\n",
            "55/55 [==============================] - 1s 10ms/step - loss: 0.5822 - accuracy: 0.8005 - val_loss: 0.6912 - val_accuracy: 0.7626\n",
            "Epoch 15/20\n",
            "55/55 [==============================] - 1s 10ms/step - loss: 0.5746 - accuracy: 0.8050 - val_loss: 0.6994 - val_accuracy: 0.7600\n",
            "Epoch 16/20\n",
            "55/55 [==============================] - 1s 10ms/step - loss: 0.5700 - accuracy: 0.8074 - val_loss: 0.7096 - val_accuracy: 0.7619\n",
            "Epoch 17/20\n",
            "55/55 [==============================] - 1s 10ms/step - loss: 0.5585 - accuracy: 0.8105 - val_loss: 0.7136 - val_accuracy: 0.7613\n",
            "Epoch 18/20\n",
            "55/55 [==============================] - 1s 10ms/step - loss: 0.5505 - accuracy: 0.8142 - val_loss: 0.7224 - val_accuracy: 0.7613\n",
            "Epoch 19/20\n",
            "55/55 [==============================] - 1s 10ms/step - loss: 0.5456 - accuracy: 0.8181 - val_loss: 0.7429 - val_accuracy: 0.7471\n",
            "Epoch 20/20\n",
            "55/55 [==============================] - 1s 11ms/step - loss: 0.5370 - accuracy: 0.8191 - val_loss: 0.7406 - val_accuracy: 0.7542\n"
          ]
        }
      ]
    },
    {
      "cell_type": "code",
      "metadata": {
        "id": "YmVjAaIYTl3B"
      },
      "source": [
        "import matplotlib.pyplot as plt"
      ],
      "execution_count": 282,
      "outputs": []
    },
    {
      "cell_type": "code",
      "metadata": {
        "colab": {
          "base_uri": "https://localhost:8080/",
          "height": 730
        },
        "id": "bfnD_qbNTYQM",
        "outputId": "549930fb-25e6-41d1-e14f-6e47b8aae3dc"
      },
      "source": [
        "plt.figure(figsize=(20,12))\n",
        "plt.plot(history.history['accuracy'], '-.', label = f'accuracy', color='m')\n",
        "plt.plot(history.history['val_accuracy'], '-', label = f'val_accuracy', color='g')\n",
        "        \n",
        "plt.legend()\n",
        "plt.grid('On')\n",
        "plt.title('Accuracy of epochs')\n",
        "plt.xlabel('Epochs')\n",
        "plt.ylabel('Accuracy')\n",
        "plt.show()"
      ],
      "execution_count": 324,
      "outputs": [
        {
          "output_type": "display_data",
          "data": {
            "image/png": "[encoded data removed]",
            "text/plain": [
              "<Figure size 1440x864 with 1 Axes>"
            ]
          },
          "metadata": {
            "needs_background": "light"
          }
        }
      ]
    },
    {
      "cell_type": "code",
      "metadata": {
        "colab": {
          "base_uri": "https://localhost:8080/"
        },
        "id": "9tmzPiH3aO-l",
        "outputId": "562cea80-ef58-47c9-ab67-8ecccd02254d"
      },
      "source": [
        "score = model.evaluate(X_test, y_test, verbose=0)\n",
        "print('Test score:', score[0])\n",
        "print('Test accuracy:', score[1])"
      ],
      "execution_count": 284,
      "outputs": [
        {
          "output_type": "stream",
          "name": "stdout",
          "text": [
            "Test score: 0.7386397123336792\n",
            "Test accuracy: 0.7502419948577881\n"
          ]
        }
      ]
    },
    {
      "cell_type": "markdown",
      "metadata": {
        "id": "Scm0RBPtid-R"
      },
      "source": [
        "#1. Инициализировать tf.keras.layers.Embedding предобученными векторами взять к примеру с https://rusvectores.org/ru/"
      ]
    },
    {
      "cell_type": "code",
      "metadata": {
        "id": "v_y7oEBfiTTH"
      },
      "source": [
        "from gensim.models import KeyedVectors"
      ],
      "execution_count": 326,
      "outputs": []
    },
    {
      "cell_type": "code",
      "metadata": {
        "id": "GyFiuJaYiQAM"
      },
      "source": [
        "ru_w2v = KeyedVectors.load_word2vec_format('https://rusvectores.org/static/models/news_upos_cbow_300_2_2017.bin.gz', binary=True)"
      ],
      "execution_count": 327,
      "outputs": []
    },
    {
      "cell_type": "code",
      "metadata": {
        "colab": {
          "base_uri": "https://localhost:8080/"
        },
        "id": "HR4vHopWiyB3",
        "outputId": "a95852bd-8f99-4b9e-f669-d465171bdeb8"
      },
      "source": [
        "ru_w2v"
      ],
      "execution_count": 328,
      "outputs": [
        {
          "output_type": "execute_result",
          "data": {
            "text/plain": [
              "<gensim.models.keyedvectors.Word2VecKeyedVectors at 0x7f147b722a10>"
            ]
          },
          "metadata": {},
          "execution_count": 328
        }
      ]
    }
  ]
}