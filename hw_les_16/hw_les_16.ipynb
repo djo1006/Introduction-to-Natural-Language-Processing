{
  "nbformat": 4,
  "nbformat_minor": 0,
  "metadata": {
    "accelerator": "GPU",
    "colab": {
      "name": "hw_les_16.ipynb",
      "provenance": [],
      "collapsed_sections": []
    },
    "kernelspec": {
      "display_name": "Py3.6",
      "language": "python",
      "name": "py3.6"
    },
    "language_info": {
      "codemirror_mode": {
        "name": "ipython",
        "version": 3
      },
      "file_extension": ".py",
      "mimetype": "text/x-python",
      "name": "python",
      "nbconvert_exporter": "python",
      "pygments_lexer": "ipython3",
      "version": "3.6.12"
    }
  },
  "cells": [
    {
      "cell_type": "markdown",
      "metadata": {
        "id": "9odl1TvXuDT7"
      },
      "source": [
        "# Телеграм бот"
      ]
    },
    {
      "cell_type": "code",
      "metadata": {
        "id": "IDO80UENTzEA"
      },
      "source": [
        "# !pip uninstall -y tensorflow tensorflow-gpu\n",
        "# !pip install numpy scipy librosa unidecode inflect librosa transformers\n",
        "# !pip install deeppavlov"
      ],
      "execution_count": 4,
      "outputs": []
    },
    {
      "cell_type": "code",
      "metadata": {
        "id": "jlWNZPNZt1_P"
      },
      "source": [
        "# !pip install python-telegram-bot --upgrade"
      ],
      "execution_count": 5,
      "outputs": []
    },
    {
      "cell_type": "code",
      "metadata": {
        "id": "zOn-cx3juRlW"
      },
      "source": [
        "# pip install dialogflow"
      ],
      "execution_count": 6,
      "outputs": []
    },
    {
      "cell_type": "code",
      "metadata": {
        "id": "5ln3H1nyTzED"
      },
      "source": [
        "from telegram.ext  import Updater, CommandHandler, MessageHandler, Filters\n",
        "import dialogflow"
      ],
      "execution_count": 7,
      "outputs": []
    },
    {
      "cell_type": "code",
      "metadata": {
        "id": "7OydT0tKvVR5"
      },
      "source": [
        "my_token = ''"
      ],
      "execution_count": 8,
      "outputs": []
    },
    {
      "cell_type": "code",
      "metadata": {
        "id": "7moG1R6xvueF"
      },
      "source": [
        "updater = Updater(token=my_token) # Токен API к Telegram\n",
        "dispatcher = updater.dispatcher"
      ],
      "execution_count": 9,
      "outputs": []
    },
    {
      "cell_type": "code",
      "metadata": {
        "id": "p-IiHITuvyGI"
      },
      "source": [
        "# Обработка команд\n",
        "def startCommand(bot, update):\n",
        "    bot.send_message(chat_id=update.message.chat_id, text='Добрый день')\n",
        "    \n",
        "def textMessage(bot, update):\n",
        "    response = 'Ваше сообщение принял ' + update.message.text # формируем текст ответа\n",
        "    bot.send_message(chat_id=update.message.chat_id, text=response)"
      ],
      "execution_count": 10,
      "outputs": []
    },
    {
      "cell_type": "code",
      "metadata": {
        "id": "5NQYnXXgv0RJ"
      },
      "source": [
        "import logging\n",
        "\n",
        "from telegram import Update\n",
        "from telegram.ext import Updater, CommandHandler, MessageHandler, Filters, CallbackContext\n",
        "\n",
        "import dialogflow"
      ],
      "execution_count": 11,
      "outputs": []
    },
    {
      "cell_type": "code",
      "metadata": {
        "id": "nBXDi1L4v2kx"
      },
      "source": [
        "import logging\n",
        "# Enable logging\n",
        "logging.basicConfig(\n",
        "    format='%(asctime)s - %(name)s - %(levelname)s - %(message)s', level=logging.INFO\n",
        ")\n",
        "\n",
        "logger = logging.getLogger()"
      ],
      "execution_count": 12,
      "outputs": []
    },
    {
      "cell_type": "markdown",
      "metadata": {
        "id": "z7NEuLxmTzEC"
      },
      "source": [
        "# RuBERT for question answering.\n",
        "Here we will use the model pre-trained on the SberQuAD dataset from the [SDSJ-2017 challenge problem B](https://github.com/sberbank-ai/data-science-journey-2017/tree/master/problem_B)."
      ]
    },
    {
      "cell_type": "code",
      "metadata": {
        "id": "T39EWreGTzEB"
      },
      "source": [
        "# !python -m deeppavlov install squad_ru_rubert"
      ],
      "execution_count": 13,
      "outputs": []
    },
    {
      "cell_type": "code",
      "metadata": {
        "id": "AVUErUYETzEC",
        "colab": {
          "base_uri": "https://localhost:8080/"
        },
        "outputId": "833288df-291b-4a5f-c8dc-362b8316dbc3"
      },
      "source": [
        "from deeppavlov import build_model, configs\n",
        "model_ru = build_model(configs.squad.squad_ru_rubert, download=True)"
      ],
      "execution_count": 14,
      "outputs": [
        {
          "output_type": "stream",
          "name": "stderr",
          "text": [
            "/usr/local/lib/python3.7/dist-packages/cryptography/hazmat/backends/openssl/x509.py:18: CryptographyDeprecationWarning: This version of cryptography contains a temporary pyOpenSSL fallback path. Upgrade pyOpenSSL now.\n",
            "  utils.DeprecatedIn35,\n",
            "2021-11-01 18:39:45.295 INFO in 'deeppavlov.download'['download'] at line 138: Skipped http://files.deeppavlov.ai/deeppavlov_data/squad_model_ru_rubert.tar.gz download because of matching hashes\n",
            "2021-11-01 18:39:45,295 - deeppavlov.download - INFO - Skipped http://files.deeppavlov.ai/deeppavlov_data/squad_model_ru_rubert.tar.gz download because of matching hashes\n",
            "2021-11-01 18:39:50.94 INFO in 'deeppavlov.download'['download'] at line 138: Skipped http://files.deeppavlov.ai/deeppavlov_data/bert/rubert_cased_L-12_H-768_A-12_v1.tar.gz download because of matching hashes\n",
            "2021-11-01 18:39:50,094 - deeppavlov.download - INFO - Skipped http://files.deeppavlov.ai/deeppavlov_data/bert/rubert_cased_L-12_H-768_A-12_v1.tar.gz download because of matching hashes\n",
            "[nltk_data] Downloading package punkt to /root/nltk_data...\n",
            "[nltk_data]   Package punkt is already up-to-date!\n",
            "[nltk_data] Downloading package stopwords to /root/nltk_data...\n",
            "[nltk_data]   Package stopwords is already up-to-date!\n",
            "[nltk_data] Downloading package perluniprops to /root/nltk_data...\n",
            "[nltk_data]   Package perluniprops is already up-to-date!\n",
            "[nltk_data] Downloading package nonbreaking_prefixes to\n",
            "[nltk_data]     /root/nltk_data...\n",
            "[nltk_data]   Package nonbreaking_prefixes is already up-to-date!\n",
            "2021-11-01 18:39:52,181 - tensorflow - WARNING - From /usr/local/lib/python3.7/dist-packages/bert_dp/tokenization.py:125: The name tf.gfile.GFile is deprecated. Please use tf.io.gfile.GFile instead.\n",
            "\n",
            "2021-11-01 18:39:52,633 - tensorflow - WARNING - From /usr/local/lib/python3.7/dist-packages/deeppavlov/core/models/tf_model.py:37: The name tf.Session is deprecated. Please use tf.compat.v1.Session instead.\n",
            "\n",
            "2021-11-01 18:39:52,635 - tensorflow - WARNING - From /usr/local/lib/python3.7/dist-packages/deeppavlov/core/models/tf_model.py:222: The name tf.placeholder is deprecated. Please use tf.compat.v1.placeholder instead.\n",
            "\n",
            "2021-11-01 18:39:52,637 - tensorflow - WARNING - From /usr/local/lib/python3.7/dist-packages/deeppavlov/core/models/tf_model.py:222: The name tf.train.Optimizer is deprecated. Please use tf.compat.v1.train.Optimizer instead.\n",
            "\n",
            "2021-11-01 18:39:52,650 - tensorflow - WARNING - From /usr/local/lib/python3.7/dist-packages/deeppavlov/core/models/tf_model.py:193: The name tf.train.AdamOptimizer is deprecated. Please use tf.compat.v1.train.AdamOptimizer instead.\n",
            "\n",
            "2021-11-01 18:39:52,661 - tensorflow - WARNING - From /usr/local/lib/python3.7/dist-packages/deeppavlov/models/bert/bert_squad.py:81: The name tf.ConfigProto is deprecated. Please use tf.compat.v1.ConfigProto instead.\n",
            "\n",
            "2021-11-01 18:39:52,674 - tensorflow - WARNING - From /usr/local/lib/python3.7/dist-packages/deeppavlov/models/bert/bert_squad.py:178: The name tf.placeholder_with_default is deprecated. Please use tf.compat.v1.placeholder_with_default instead.\n",
            "\n",
            "2021-11-01 18:39:52,702 - tensorflow - WARNING - From /usr/local/lib/python3.7/dist-packages/bert_dp/modeling.py:178: The name tf.variable_scope is deprecated. Please use tf.compat.v1.variable_scope instead.\n",
            "\n",
            "2021-11-01 18:39:52,706 - tensorflow - WARNING - From /usr/local/lib/python3.7/dist-packages/bert_dp/modeling.py:418: The name tf.get_variable is deprecated. Please use tf.compat.v1.get_variable instead.\n",
            "\n",
            "2021-11-01 18:39:52,778 - tensorflow - WARNING - From /usr/local/lib/python3.7/dist-packages/bert_dp/modeling.py:499: The name tf.assert_less_equal is deprecated. Please use tf.compat.v1.assert_less_equal instead.\n",
            "\n",
            "2021-11-01 18:39:52,801 - tensorflow - WARNING - \n",
            "The TensorFlow contrib module will not be included in TensorFlow 2.0.\n",
            "For more information, please see:\n",
            "  * https://github.com/tensorflow/community/blob/master/rfcs/20180907-contrib-sunset.md\n",
            "  * https://github.com/tensorflow/addons\n",
            "  * https://github.com/tensorflow/io (for I/O related ops)\n",
            "If you depend on functionality not listed there, please file an issue.\n",
            "\n",
            "2021-11-01 18:39:53,084 - numexpr.utils - INFO - NumExpr defaulting to 2 threads.\n",
            "2021-11-01 18:39:53,460 - tensorflow - WARNING - From /usr/local/lib/python3.7/dist-packages/bert_dp/modeling.py:366: calling dropout (from tensorflow.python.ops.nn_ops) with keep_prob is deprecated and will be removed in a future version.\n",
            "Instructions for updating:\n",
            "Please use `rate` instead of `keep_prob`. Rate should be set to `rate = 1 - keep_prob`.\n",
            "2021-11-01 18:39:53,511 - tensorflow - WARNING - From /usr/local/lib/python3.7/dist-packages/bert_dp/modeling.py:680: dense (from tensorflow.python.layers.core) is deprecated and will be removed in a future version.\n",
            "Instructions for updating:\n",
            "Use keras.layers.Dense instead.\n",
            "2021-11-01 18:39:53,515 - tensorflow - WARNING - From /usr/local/lib/python3.7/dist-packages/tensorflow_core/python/layers/core.py:187: Layer.apply (from tensorflow.python.keras.engine.base_layer) is deprecated and will be removed in a future version.\n",
            "Instructions for updating:\n",
            "Please use `layer.__call__` method instead.\n",
            "2021-11-01 18:39:53,662 - tensorflow - WARNING - From /usr/local/lib/python3.7/dist-packages/bert_dp/modeling.py:283: The name tf.erf is deprecated. Please use tf.math.erf instead.\n",
            "\n",
            "2021-11-01 18:39:56,157 - tensorflow - WARNING - From /usr/local/lib/python3.7/dist-packages/deeppavlov/models/bert/bert_squad.py:154: The name tf.matrix_band_part is deprecated. Please use tf.linalg.band_part instead.\n",
            "\n",
            "2021-11-01 18:39:56,190 - tensorflow - WARNING - From /usr/local/lib/python3.7/dist-packages/deeppavlov/models/bert/bert_squad.py:166: softmax_cross_entropy_with_logits (from tensorflow.python.ops.nn_ops) is deprecated and will be removed in a future version.\n",
            "Instructions for updating:\n",
            "\n",
            "Future major versions of TensorFlow will allow gradients to flow\n",
            "into the labels input on backprop by default.\n",
            "\n",
            "See `tf.nn.softmax_cross_entropy_with_logits_v2`.\n",
            "\n",
            "2021-11-01 18:39:56,243 - tensorflow - WARNING - From /usr/local/lib/python3.7/dist-packages/deeppavlov/core/models/tf_model.py:234: The name tf.train.AdadeltaOptimizer is deprecated. Please use tf.compat.v1.train.AdadeltaOptimizer instead.\n",
            "\n",
            "2021-11-01 18:39:56,244 - tensorflow - WARNING - From /usr/local/lib/python3.7/dist-packages/deeppavlov/core/models/tf_model.py:127: The name tf.get_collection is deprecated. Please use tf.compat.v1.get_collection instead.\n",
            "\n",
            "2021-11-01 18:39:56,247 - tensorflow - WARNING - From /usr/local/lib/python3.7/dist-packages/deeppavlov/core/models/tf_model.py:127: The name tf.GraphKeys is deprecated. Please use tf.compat.v1.GraphKeys instead.\n",
            "\n",
            "2021-11-01 18:40:06,678 - tensorflow - WARNING - From /usr/local/lib/python3.7/dist-packages/deeppavlov/models/bert/bert_squad.py:89: The name tf.global_variables_initializer is deprecated. Please use tf.compat.v1.global_variables_initializer instead.\n",
            "\n",
            "2021-11-01 18:40:16,985 - tensorflow - WARNING - From /usr/local/lib/python3.7/dist-packages/deeppavlov/models/bert/bert_squad.py:94: checkpoint_exists (from tensorflow.python.training.checkpoint_management) is deprecated and will be removed in a future version.\n",
            "Instructions for updating:\n",
            "Use standard file APIs to check for files with this prefix.\n",
            "2021-11-01 18:40:16.994 INFO in 'deeppavlov.core.models.tf_model'['tf_model'] at line 51: [loading model from /root/.deeppavlov/models/squad_ru_bert/model_rubert]\n",
            "2021-11-01 18:40:16,994 - deeppavlov.core.models.tf_model - INFO - [loading model from /root/.deeppavlov/models/squad_ru_bert/model_rubert]\n",
            "2021-11-01 18:40:17,003 - tensorflow - WARNING - From /usr/local/lib/python3.7/dist-packages/deeppavlov/core/models/tf_model.py:54: The name tf.train.Saver is deprecated. Please use tf.compat.v1.train.Saver instead.\n",
            "\n",
            "2021-11-01 18:40:17,193 - tensorflow - INFO - Restoring parameters from /root/.deeppavlov/models/squad_ru_bert/model_rubert\n"
          ]
        }
      ]
    },
    {
      "cell_type": "markdown",
      "metadata": {
        "id": "MUwC5PHKTzEC"
      },
      "source": [
        "The following text is copied from [habr post on Crew Dragon flight](https://habr.com/ru/news/t/504642/)."
      ]
    },
    {
      "cell_type": "code",
      "metadata": {
        "id": "srndVNTbTzEC"
      },
      "source": [
        "text = \"\"\"Первая многоразовая ступень ракеты-носителя Falcon 9 успешно отделилась через две с половиной минуты после старта и автоматически приземлилась на плавучую платформу Of Course I Still Love You у берегов Флориды. Через 12 минут после запуска космический корабль Crew Dragon вышел на расчетную орбиту и отделился от второй ступени ракеты.\n",
        "\n",
        "Сближение корабля Crew Dragon с Международной космической станцией запланировано на 31 мая. К стыковочному адаптеру на узловом модуле «Гармония» американского сегмента МКС Crew Dragon должен причалить в ручном или, при необходимости, в автоматическом режиме. Эта процедура запланирована на 10:29 по времени Восточного побережья США (17:29 по московскому времени).\n",
        "\n",
        "В испытательном полете DM2 астронавт Херли является командиром космического корабля (spacecraft commander), а его напарник Бенкен — командир по операциям стыковки и расстыковки (joint operations commander). Фактически это означает, что именно Херли управляет Crew Dragon в полете к МКС, к которой они должны пристыковаться в течение суток после старта. Херли и Бенкен также будут выполнять необходимые для сертификации НАСА проверки систем корабля в полете.\n",
        "\n",
        "Во время полета Херли и Бенкен провели небольшую экскурсию по Crew Dragon.\"\"\"\n",
        "\n",
        "# Source: https://habr.com/ru/news/t/504642/"
      ],
      "execution_count": 15,
      "outputs": []
    },
    {
      "cell_type": "code",
      "metadata": {
        "id": "BLeMyPCcTzEC",
        "colab": {
          "base_uri": "https://localhost:8080/"
        },
        "outputId": "cbffa9b6-aa0e-4cbf-8a2f-e380a83fdf37"
      },
      "source": [
        "print(text)"
      ],
      "execution_count": 16,
      "outputs": [
        {
          "output_type": "stream",
          "name": "stdout",
          "text": [
            "Первая многоразовая ступень ракеты-носителя Falcon 9 успешно отделилась через две с половиной минуты после старта и автоматически приземлилась на плавучую платформу Of Course I Still Love You у берегов Флориды. Через 12 минут после запуска космический корабль Crew Dragon вышел на расчетную орбиту и отделился от второй ступени ракеты.\n",
            "\n",
            "Сближение корабля Crew Dragon с Международной космической станцией запланировано на 31 мая. К стыковочному адаптеру на узловом модуле «Гармония» американского сегмента МКС Crew Dragon должен причалить в ручном или, при необходимости, в автоматическом режиме. Эта процедура запланирована на 10:29 по времени Восточного побережья США (17:29 по московскому времени).\n",
            "\n",
            "В испытательном полете DM2 астронавт Херли является командиром космического корабля (spacecraft commander), а его напарник Бенкен — командир по операциям стыковки и расстыковки (joint operations commander). Фактически это означает, что именно Херли управляет Crew Dragon в полете к МКС, к которой они должны пристыковаться в течение суток после старта. Херли и Бенкен также будут выполнять необходимые для сертификации НАСА проверки систем корабля в полете.\n",
            "\n",
            "Во время полета Херли и Бенкен провели небольшую экскурсию по Crew Dragon.\n"
          ]
        }
      ]
    },
    {
      "cell_type": "code",
      "metadata": {
        "id": "7Y69ksTnTzEC",
        "colab": {
          "base_uri": "https://localhost:8080/"
        },
        "outputId": "fe012a8b-f95d-4d19-b81b-22656e0e53b8"
      },
      "source": [
        "model_ru([text], ['Когда отделилась первая ступень?'])"
      ],
      "execution_count": 17,
      "outputs": [
        {
          "output_type": "execute_result",
          "data": {
            "text/plain": [
              "[['через две с половиной минуты после старта'], [72], [2055731.625]]"
            ]
          },
          "metadata": {},
          "execution_count": 17
        }
      ]
    },
    {
      "cell_type": "code",
      "metadata": {
        "id": "AYHDkJSPTzEC",
        "colab": {
          "base_uri": "https://localhost:8080/"
        },
        "outputId": "30e61d8d-8e9e-49f7-8a91-fb83434565b8"
      },
      "source": [
        "model_ru([text], ['На какую дату запланирована стыковка?'])"
      ],
      "execution_count": 18,
      "outputs": [
        {
          "output_type": "execute_result",
          "data": {
            "text/plain": [
              "[['на 31 мая'], [418], [31752.884765625]]"
            ]
          },
          "metadata": {},
          "execution_count": 18
        }
      ]
    },
    {
      "cell_type": "code",
      "metadata": {
        "id": "qAZIskzHTzEC",
        "colab": {
          "base_uri": "https://localhost:8080/"
        },
        "outputId": "7e79e86e-ca5b-4eb9-b8e3-e44c85806e59"
      },
      "source": [
        "model_ru([text], ['Кто участвует в полете?'])"
      ],
      "execution_count": 19,
      "outputs": [
        {
          "output_type": "execute_result",
          "data": {
            "text/plain": [
              "[['астронавт Херли'], [729], [139.62789916992188]]"
            ]
          },
          "metadata": {},
          "execution_count": 19
        }
      ]
    },
    {
      "cell_type": "code",
      "metadata": {
        "id": "t5cPNP62TzED",
        "colab": {
          "base_uri": "https://localhost:8080/"
        },
        "outputId": "a9a8ce17-07bf-4bba-f3bd-7da3f4c2a07c"
      },
      "source": [
        "model_ru([text], ['Кто участвует в полете кроме астронавта Херли?'])"
      ],
      "execution_count": 20,
      "outputs": [
        {
          "output_type": "execute_result",
          "data": {
            "text/plain": [
              "[['Бенкен'], [1063], [13.483261108398438]]"
            ]
          },
          "metadata": {},
          "execution_count": 20
        }
      ]
    },
    {
      "cell_type": "code",
      "metadata": {
        "colab": {
          "base_uri": "https://localhost:8080/"
        },
        "id": "LhfsWDzWzch_",
        "outputId": "094d7f41-d8ea-49b6-b297-3049259932e9"
      },
      "source": [
        "reply_text = model_ru([text], ['Кто участвует в полете кроме астронавта Херли?'])\n",
        "reply_text[0][0].encode('utf8')"
      ],
      "execution_count": 28,
      "outputs": [
        {
          "output_type": "execute_result",
          "data": {
            "text/plain": [
              "b'\\xd0\\x91\\xd0\\xb5\\xd0\\xbd\\xd0\\xba\\xd0\\xb5\\xd0\\xbd'"
            ]
          },
          "metadata": {},
          "execution_count": 28
        }
      ]
    },
    {
      "cell_type": "markdown",
      "metadata": {
        "id": "GQ13YrLdwGdM"
      },
      "source": [
        "# Telegram + RuBERT for question answering."
      ]
    },
    {
      "cell_type": "code",
      "metadata": {
        "id": "10OXu_4DwGC8"
      },
      "source": [
        "# Define a few command handlers. These usually take the two arguments update and\n",
        "# context. Error handlers also receive the raised TelegramError object in error.\n",
        "def start(update: Update, context: CallbackContext):\n",
        "    update.message.reply_text('Hi!')\n",
        "\n",
        "def echo(update: Update, context: CallbackContext):\n",
        "    txt = update.message.text\n",
        "\n",
        "    update.message.reply_text('Ваше сообщение! ' + update.message.text)\n",
        "    reply_text = model_ru([text], [update.message.text])\n",
        "\n",
        "    #.encode('utf8')\n",
        "    reply_text = reply_text[0][0] \n",
        "    \n",
        "    update.message.reply_text(reply_text)"
      ],
      "execution_count": 29,
      "outputs": []
    },
    {
      "cell_type": "code",
      "metadata": {
        "colab": {
          "base_uri": "https://localhost:8080/"
        },
        "id": "9m_2YTUNwnLa",
        "outputId": "957018c8-f8b8-4327-c4b3-a6aa2282ba77"
      },
      "source": [
        "updater = Updater(my_token, use_context=True)\n",
        "dispatcher = updater.dispatcher\n",
        "\n",
        "# on different commands - answer in Telegram\n",
        "dispatcher.add_handler(CommandHandler(\"start\", start))\n",
        "dispatcher.add_handler(MessageHandler(Filters.text & ~Filters.command, echo))\n",
        "\n",
        "# Start the Bot\n",
        "updater.start_polling()\n",
        "updater.idle()"
      ],
      "execution_count": null,
      "outputs": [
        {
          "output_type": "stream",
          "name": "stderr",
          "text": [
            "2021-11-01 18:43:47,555 - apscheduler.scheduler - INFO - Scheduler started\n",
            "2021-11-01 18:44:20,329 - telegram.ext.dispatcher - ERROR - No error handlers are registered, logging exception.\n",
            "Traceback (most recent call last):\n",
            "  File \"/usr/local/lib/python3.7/dist-packages/telegram/ext/dispatcher.py\", line 555, in process_update\n",
            "    handler.handle_update(update, self, check, context)\n",
            "  File \"/usr/local/lib/python3.7/dist-packages/telegram/ext/handler.py\", line 198, in handle_update\n",
            "    return self.callback(update, context)\n",
            "  File \"<ipython-input-29-88d5aff9684f>\", line 15, in echo\n",
            "    update.message.reply_text(reply_text)\n",
            "  File \"/usr/local/lib/python3.7/dist-packages/telegram/message.py\", line 775, in reply_text\n",
            "    entities=entities,\n",
            "  File \"/usr/local/lib/python3.7/dist-packages/telegram/bot.py\", line 130, in decorator\n",
            "    result = func(*args, **kwargs)\n",
            "  File \"/usr/local/lib/python3.7/dist-packages/telegram/bot.py\", line 521, in send_message\n",
            "    api_kwargs=api_kwargs,\n",
            "  File \"/usr/local/lib/python3.7/dist-packages/telegram/ext/extbot.py\", line 207, in _message\n",
            "    api_kwargs=api_kwargs,\n",
            "  File \"/usr/local/lib/python3.7/dist-packages/telegram/bot.py\", line 332, in _message\n",
            "    result = self._post(endpoint, data, timeout=timeout, api_kwargs=api_kwargs)\n",
            "  File \"/usr/local/lib/python3.7/dist-packages/telegram/bot.py\", line 296, in _post\n",
            "    f'{self.base_url}/{endpoint}', data=data, timeout=effective_timeout\n",
            "  File \"/usr/local/lib/python3.7/dist-packages/telegram/utils/request.py\", line 361, in post\n",
            "    **urlopen_kwargs,\n",
            "  File \"/usr/local/lib/python3.7/dist-packages/telegram/utils/request.py\", line 279, in _request_wrapper\n",
            "    raise BadRequest(message)\n",
            "telegram.error.BadRequest: Message text is empty\n"
          ]
        }
      ]
    }
  ]
}