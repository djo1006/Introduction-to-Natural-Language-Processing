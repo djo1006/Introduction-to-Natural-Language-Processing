{
  "nbformat": 4,
  "nbformat_minor": 0,
  "metadata": {
    "kernelspec": {
      "display_name": "Python 3",
      "language": "python",
      "name": "python3"
    },
    "language_info": {
      "codemirror_mode": {
        "name": "ipython",
        "version": 3
      },
      "file_extension": ".py",
      "mimetype": "text/x-python",
      "name": "python",
      "nbconvert_exporter": "python",
      "pygments_lexer": "ipython3",
      "version": "3.8.3"
    },
    "colab": {
      "name": "hw_les_8.ipynb",
      "provenance": [],
      "collapsed_sections": []
    }
  },
  "cells": [
    {
      "cell_type": "markdown",
      "metadata": {
        "id": "VhHK203SP2OE"
      },
      "source": [
        "#Задание\n",
        "\n",
        "На вебинаре мы говорили что долгое время CNN и RNN архитектуры были конурируещими выяснить какая архитектура больше подходит для задачи сантимент анализа на данных с вебинара\n",
        "1. построить свёрточные архитектуры\n",
        "2. построить различные архитектуры с RNN\n",
        "3. построить совместные архитектуры CNN -> RNN и (RNN -> CNN)\n",
        "4. сдлать выводы что получилось лучше"
      ]
    },
    {
      "cell_type": "code",
      "metadata": {
        "id": "6nJLwN1qUimN"
      },
      "source": [
        "import matplotlib.pyplot as plt"
      ],
      "execution_count": null,
      "outputs": []
    },
    {
      "cell_type": "code",
      "metadata": {
        "colab": {
          "base_uri": "https://localhost:8080/"
        },
        "id": "KGvpV_iwLinj",
        "outputId": "e0dc3495-43f8-4d1f-d577-98c7bec3c66a"
      },
      "source": [
        "\n",
        "from google.colab import drive\n",
        "drive.mount('/content/drive')"
      ],
      "execution_count": null,
      "outputs": [
        {
          "output_type": "stream",
          "name": "stdout",
          "text": [
            "Mounted at /content/drive\n"
          ]
        }
      ]
    },
    {
      "cell_type": "code",
      "metadata": {
        "id": "faK_hPKbLVaj"
      },
      "source": [
        "path = '/content/drive/MyDrive/Colab Notebooks/GB/Introduction to Natural Language Processing/lesson_8/'"
      ],
      "execution_count": null,
      "outputs": []
    },
    {
      "cell_type": "code",
      "metadata": {
        "colab": {
          "base_uri": "https://localhost:8080/"
        },
        "id": "QKmgcUIgLQek",
        "outputId": "8bc24dc4-1e1a-4158-cc4f-f9ab37a4d01a"
      },
      "source": [
        "!pip install stop_words"
      ],
      "execution_count": null,
      "outputs": [
        {
          "output_type": "stream",
          "name": "stdout",
          "text": [
            "Collecting stop_words\n",
            "  Downloading stop-words-2018.7.23.tar.gz (31 kB)\n",
            "Building wheels for collected packages: stop-words\n",
            "  Building wheel for stop-words (setup.py) ... \u001b[?25l\u001b[?25hdone\n",
            "  Created wheel for stop-words: filename=stop_words-2018.7.23-py3-none-any.whl size=32912 sha256=92fb6a29739f0669cbbc64ee16e3ca55a8a991e4ecc91409cf48ee930e1a416a\n",
            "  Stored in directory: /root/.cache/pip/wheels/fb/86/b2/277b10b1ce9f73ce15059bf6975d4547cc4ec3feeb651978e9\n",
            "Successfully built stop-words\n",
            "Installing collected packages: stop-words\n",
            "Successfully installed stop-words-2018.7.23\n"
          ]
        }
      ]
    },
    {
      "cell_type": "code",
      "metadata": {
        "colab": {
          "base_uri": "https://localhost:8080/"
        },
        "id": "2tuWw6jCMNGN",
        "outputId": "0ad4dff0-87bc-4708-ef48-0c56775858c2"
      },
      "source": [
        "!pip install pymorphy2\n",
        "from pymorphy2 import MorphAnalyzer"
      ],
      "execution_count": null,
      "outputs": [
        {
          "output_type": "stream",
          "name": "stdout",
          "text": [
            "Collecting pymorphy2\n",
            "  Downloading pymorphy2-0.9.1-py3-none-any.whl (55 kB)\n",
            "\u001b[?25l\r\u001b[K     |██████                          | 10 kB 26.7 MB/s eta 0:00:01\r\u001b[K     |███████████▉                    | 20 kB 33.5 MB/s eta 0:00:01\r\u001b[K     |█████████████████▊              | 30 kB 36.5 MB/s eta 0:00:01\r\u001b[K     |███████████████████████▋        | 40 kB 20.5 MB/s eta 0:00:01\r\u001b[K     |█████████████████████████████▌  | 51 kB 17.2 MB/s eta 0:00:01\r\u001b[K     |████████████████████████████████| 55 kB 2.2 MB/s \n",
            "\u001b[?25hCollecting dawg-python>=0.7.1\n",
            "  Downloading DAWG_Python-0.7.2-py2.py3-none-any.whl (11 kB)\n",
            "Collecting pymorphy2-dicts-ru<3.0,>=2.4\n",
            "  Downloading pymorphy2_dicts_ru-2.4.417127.4579844-py2.py3-none-any.whl (8.2 MB)\n",
            "\u001b[K     |████████████████████████████████| 8.2 MB 15.7 MB/s \n",
            "\u001b[?25hRequirement already satisfied: docopt>=0.6 in /usr/local/lib/python3.7/dist-packages (from pymorphy2) (0.6.2)\n",
            "Installing collected packages: pymorphy2-dicts-ru, dawg-python, pymorphy2\n",
            "Successfully installed dawg-python-0.7.2 pymorphy2-0.9.1 pymorphy2-dicts-ru-2.4.417127.4579844\n"
          ]
        }
      ]
    },
    {
      "cell_type": "code",
      "metadata": {
        "id": "uCdcOxNTsxYu"
      },
      "source": [
        "# попробуем запрограммировать простую рекурентную сеть. Возьмем датасет с прошлого занятия\n",
        "\n",
        "import pandas as pd\n",
        "from string import punctuation\n",
        "from stop_words import get_stop_words\n",
        "from pymorphy2 import MorphAnalyzer\n",
        "import re\n",
        "\n",
        "df_train = pd.read_csv(f\"{path}/data/train.csv\")\n",
        "df_test = pd.read_csv(f\"{path}/data/test.csv\")\n",
        "df_val = pd.read_csv(f\"{path}/data/val.csv\")"
      ],
      "execution_count": 67,
      "outputs": []
    },
    {
      "cell_type": "code",
      "metadata": {
        "colab": {
          "base_uri": "https://localhost:8080/",
          "height": 206
        },
        "id": "XzcYZifJsxYv",
        "outputId": "5ddc801a-77a6-4fab-b838-c9dbcc05dbfe"
      },
      "source": [
        "df_train.head()"
      ],
      "execution_count": 68,
      "outputs": [
        {
          "output_type": "execute_result",
          "data": {
            "text/html": [
              "<div>\n",
              "<style scoped>\n",
              "    .dataframe tbody tr th:only-of-type {\n",
              "        vertical-align: middle;\n",
              "    }\n",
              "\n",
              "    .dataframe tbody tr th {\n",
              "        vertical-align: top;\n",
              "    }\n",
              "\n",
              "    .dataframe thead th {\n",
              "        text-align: right;\n",
              "    }\n",
              "</style>\n",
              "<table border=\"1\" class=\"dataframe\">\n",
              "  <thead>\n",
              "    <tr style=\"text-align: right;\">\n",
              "      <th></th>\n",
              "      <th>id</th>\n",
              "      <th>text</th>\n",
              "      <th>class</th>\n",
              "    </tr>\n",
              "  </thead>\n",
              "  <tbody>\n",
              "    <tr>\n",
              "      <th>0</th>\n",
              "      <td>0</td>\n",
              "      <td>@alisachachka не уезжаааааааай. :(❤ я тоже не ...</td>\n",
              "      <td>0</td>\n",
              "    </tr>\n",
              "    <tr>\n",
              "      <th>1</th>\n",
              "      <td>1</td>\n",
              "      <td>RT @GalyginVadim: Ребята и девчата!\\nВсе в кин...</td>\n",
              "      <td>1</td>\n",
              "    </tr>\n",
              "    <tr>\n",
              "      <th>2</th>\n",
              "      <td>2</td>\n",
              "      <td>RT @ARTEM_KLYUSHIN: Кто ненавидит пробки ретви...</td>\n",
              "      <td>0</td>\n",
              "    </tr>\n",
              "    <tr>\n",
              "      <th>3</th>\n",
              "      <td>3</td>\n",
              "      <td>RT @epupybobv: Хочется котлету по-киевски. Зап...</td>\n",
              "      <td>1</td>\n",
              "    </tr>\n",
              "    <tr>\n",
              "      <th>4</th>\n",
              "      <td>4</td>\n",
              "      <td>@KarineKurganova @Yess__Boss босапопа есбоса н...</td>\n",
              "      <td>1</td>\n",
              "    </tr>\n",
              "  </tbody>\n",
              "</table>\n",
              "</div>"
            ],
            "text/plain": [
              "   id                                               text  class\n",
              "0   0  @alisachachka не уезжаааааааай. :(❤ я тоже не ...      0\n",
              "1   1  RT @GalyginVadim: Ребята и девчата!\\nВсе в кин...      1\n",
              "2   2  RT @ARTEM_KLYUSHIN: Кто ненавидит пробки ретви...      0\n",
              "3   3  RT @epupybobv: Хочется котлету по-киевски. Зап...      1\n",
              "4   4  @KarineKurganova @Yess__Boss босапопа есбоса н...      1"
            ]
          },
          "metadata": {},
          "execution_count": 68
        }
      ]
    },
    {
      "cell_type": "code",
      "metadata": {
        "id": "TvGm87EIsxYv"
      },
      "source": [
        "sw = set(get_stop_words(\"ru\"))\n",
        "exclude = set(punctuation)\n",
        "morpher = MorphAnalyzer()\n",
        "\n",
        "def preprocess_text(txt):\n",
        "    txt = str(txt)\n",
        "    txt = \"\".join(c for c in txt if c not in exclude)\n",
        "    txt = txt.lower()\n",
        "    txt = re.sub(\"\\sне\", \"не\", txt)\n",
        "    txt = [morpher.parse(word)[0].normal_form for word in txt.split() if word not in sw]\n",
        "    return \" \".join(txt)\n",
        "\n",
        "df_train['text'] = df_train['text'].apply(preprocess_text)\n",
        "df_val['text'] = df_val['text'].apply(preprocess_text)\n",
        "df_test['text'] = df_test['text'].apply(preprocess_text)"
      ],
      "execution_count": 69,
      "outputs": []
    },
    {
      "cell_type": "code",
      "metadata": {
        "id": "JDK5sjELsxYw"
      },
      "source": [
        "import numpy as np\n",
        "import keras\n",
        "from keras.models import Sequential, Model\n",
        "from keras.layers import Dense, Dropout, Activation, Input, Embedding, Conv1D, GlobalMaxPool1D, SimpleRNN, LSTM, GRU, Masking, RepeatVector\n",
        "from keras.preprocessing.text import Tokenizer\n",
        "from keras.preprocessing.sequence import pad_sequences\n",
        "from keras.callbacks import TensorBoard \n",
        "from tensorflow.keras.metrics import categorical_crossentropy\n",
        "from keras.callbacks import EarlyStopping  "
      ],
      "execution_count": 70,
      "outputs": []
    },
    {
      "cell_type": "code",
      "metadata": {
        "id": "Qgmp7ed3sxYw"
      },
      "source": [
        "text_corpus_train = df_train['text'].values\n",
        "text_corpus_valid = df_val['text'].values\n",
        "text_corpus_test = df_test['text'].values"
      ],
      "execution_count": 71,
      "outputs": []
    },
    {
      "cell_type": "code",
      "metadata": {
        "id": "M2aEm91GsxYx"
      },
      "source": [
        "tokenizer = Tokenizer(num_words=None, \n",
        "                     filters='#$%&()*+-<=>@[\\\\]^_`{|}~\\t\\n',\n",
        "                     lower = False, split = ' ')\n",
        "tokenizer.fit_on_texts(text_corpus_train)\n",
        "\n",
        "sequences_train = tokenizer.texts_to_sequences(text_corpus_train)\n",
        "sequences_val = tokenizer.texts_to_sequences(text_corpus_valid)\n",
        "sequences_test = tokenizer.texts_to_sequences(text_corpus_test)\n",
        "\n",
        "word_count = len(tokenizer.index_word) + 1\n",
        "training_length = max([len(i.split()) for i in text_corpus_train])\n",
        "\n",
        "X_train = pad_sequences(sequences_train, maxlen=training_length)\n",
        "X_valid = pad_sequences(sequences_val, maxlen=training_length)"
      ],
      "execution_count": 72,
      "outputs": []
    },
    {
      "cell_type": "code",
      "metadata": {
        "colab": {
          "base_uri": "https://localhost:8080/"
        },
        "id": "3Mpsc0PoBOc0",
        "outputId": "9e70ec34-e137-4df0-ad41-eee9a832a533"
      },
      "source": [
        "word_count, training_length"
      ],
      "execution_count": 73,
      "outputs": [
        {
          "output_type": "execute_result",
          "data": {
            "text/plain": [
              "(258108, 27)"
            ]
          },
          "metadata": {},
          "execution_count": 73
        }
      ]
    },
    {
      "cell_type": "code",
      "metadata": {
        "id": "FsXabgAvsxYx"
      },
      "source": [
        "y_train = df_train['class'].values\n",
        "y_val = df_val['class'].values"
      ],
      "execution_count": 74,
      "outputs": []
    },
    {
      "cell_type": "code",
      "metadata": {
        "id": "zSg57FIgSM6o"
      },
      "source": [
        "result = {'name': list(), 'score': list()}"
      ],
      "execution_count": 75,
      "outputs": []
    },
    {
      "cell_type": "markdown",
      "metadata": {
        "id": "Mj2PWoeDw4eg"
      },
      "source": [
        "#Общие параметры"
      ]
    },
    {
      "cell_type": "code",
      "metadata": {
        "id": "ROJBL3V2wx_n"
      },
      "source": [
        "batch_size = 512\n",
        "epochs=10\n",
        "validation_split = 0.1\n",
        "verbose=1\n",
        "early_stopping=EarlyStopping(monitor='val_loss')"
      ],
      "execution_count": 76,
      "outputs": []
    },
    {
      "cell_type": "markdown",
      "metadata": {
        "id": "evAcBW0IPvsq"
      },
      "source": [
        "#SimpleRNN"
      ]
    },
    {
      "cell_type": "code",
      "metadata": {
        "id": "pehw-QtVsxYy"
      },
      "source": [
        "model = Sequential()\n",
        "\n",
        "model.add(\n",
        "    Embedding(input_dim=word_count,\n",
        "              input_length=training_length,\n",
        "              output_dim=30,\n",
        "              trainable=True,\n",
        "              mask_zero=True))\n",
        "model.add(Masking(mask_value=0.0))\n",
        "\n",
        "model.add(SimpleRNN(64))\n",
        "model.add(Dense(64, activation='relu'))\n",
        "model.add(Dropout(0.5))\n",
        "model.add(Dense(1, activation='sigmoid'))\n",
        "\n",
        "model.compile(\n",
        "    optimizer='adam', loss='binary_crossentropy', metrics=['accuracy'])"
      ],
      "execution_count": 77,
      "outputs": []
    },
    {
      "cell_type": "code",
      "metadata": {
        "colab": {
          "base_uri": "https://localhost:8080/"
        },
        "id": "WkwVf5oksxYz",
        "outputId": "bdbef3ca-fb97-49a1-e4bf-f5dfb7486cb0"
      },
      "source": [
        "history = model.fit(X_train, y_train,\n",
        "                    batch_size=batch_size,\n",
        "                    epochs=epochs,\n",
        "                    verbose=verbose,\n",
        "                    validation_split=validation_split,\n",
        "                    callbacks=[early_stopping])"
      ],
      "execution_count": 78,
      "outputs": [
        {
          "output_type": "stream",
          "name": "stdout",
          "text": [
            "Epoch 1/10\n",
            "319/319 [==============================] - 28s 83ms/step - loss: 0.5629 - accuracy: 0.6959 - val_loss: 0.4976 - val_accuracy: 0.7531\n"
          ]
        }
      ]
    },
    {
      "cell_type": "code",
      "metadata": {
        "colab": {
          "base_uri": "https://localhost:8080/"
        },
        "id": "TrYCzDwSsxYz",
        "outputId": "0d07eaf4-ed71-43a3-d912-918e794e8fec"
      },
      "source": [
        "score = model.evaluate(X_valid, y_val, batch_size=512, verbose=1)\n",
        "print('\\n')\n",
        "print('Test score:', score[0])\n",
        "print('Test accuracy:', score[1])"
      ],
      "execution_count": 79,
      "outputs": [
        {
          "output_type": "stream",
          "name": "stdout",
          "text": [
            "45/45 [==============================] - 1s 14ms/step - loss: 0.5049 - accuracy: 0.7439\n",
            "\n",
            "\n",
            "Test score: 0.5049477219581604\n",
            "Test accuracy: 0.7439051270484924\n"
          ]
        }
      ]
    },
    {
      "cell_type": "code",
      "metadata": {
        "id": "VxPI5qvISWEM"
      },
      "source": [
        "result['name'].append('SimpleRNN')\n",
        "result['score'].append(score[0])"
      ],
      "execution_count": 80,
      "outputs": []
    },
    {
      "cell_type": "markdown",
      "metadata": {
        "id": "6MZE-Jc6Y9hO"
      },
      "source": [
        "#LSTM"
      ]
    },
    {
      "cell_type": "markdown",
      "metadata": {
        "id": "TXhckihrsxY0"
      },
      "source": [
        "Какие проблемы у рекурентных сетей?\n",
        "\n",
        "- затухают градиенты\n",
        "- медленно, нужно всегда дойти до конца\n",
        "\n",
        "Как решить? -> LSTM\n",
        "\n",
        "\n",
        "<img src=\"images/lstm.png\">\n",
        "\n",
        "\n",
        "https://colah.github.io/posts/2015-08-Understanding-LSTMs/\n",
        "\n",
        "\n",
        "Давайте, кратко посмотрим как это работает:\n",
        "\n",
        "\n",
        "<img src=\"images/LSTMMaths.png\">"
      ]
    },
    {
      "cell_type": "code",
      "metadata": {
        "colab": {
          "base_uri": "https://localhost:8080/"
        },
        "id": "1v7z5bhUsxY0",
        "outputId": "e947ea30-8e17-4c6d-f4b4-013918e33a6f"
      },
      "source": [
        "model = Sequential()\n",
        "\n",
        "model.add(\n",
        "    Embedding(input_dim=word_count,\n",
        "              input_length=training_length,\n",
        "              output_dim=30,\n",
        "              trainable=True,\n",
        "              mask_zero=True))\n",
        "model.add(Masking(mask_value=0.0))\n",
        "model.add(LSTM(64, recurrent_dropout=0.2))\n",
        "model.add(Dense(64, activation='relu'))\n",
        "model.add(Dropout(0.5))\n",
        "model.add(Dense(1, activation='sigmoid'))\n",
        "\n",
        "model.compile(\n",
        "    optimizer='adam', loss='binary_crossentropy', metrics=['accuracy'])\n",
        "\n",
        "early_stopping=EarlyStopping(monitor='val_loss')  \n",
        "\n",
        "\n",
        "history = model.fit(X_train, y_train,\n",
        "                    batch_size=batch_size,\n",
        "                    epochs=epochs,\n",
        "                    verbose=verbose,\n",
        "                    validation_split=validation_split,\n",
        "                    callbacks=[early_stopping])"
      ],
      "execution_count": 81,
      "outputs": [
        {
          "output_type": "stream",
          "name": "stdout",
          "text": [
            "Epoch 1/10\n",
            "319/319 [==============================] - 55s 166ms/step - loss: 0.5581 - accuracy: 0.7037 - val_loss: 0.4974 - val_accuracy: 0.7500\n"
          ]
        }
      ]
    },
    {
      "cell_type": "code",
      "metadata": {
        "colab": {
          "base_uri": "https://localhost:8080/"
        },
        "id": "yVRNC4V1sxY1",
        "outputId": "a6d5cfef-82b1-46eb-85a2-4d4419ef2919"
      },
      "source": [
        "score = model.evaluate(X_valid, y_val, batch_size=512, verbose=1)\n",
        "print('\\n')\n",
        "print('Test score:', score[0])\n",
        "print('Test accuracy:', score[1])"
      ],
      "execution_count": 82,
      "outputs": [
        {
          "output_type": "stream",
          "name": "stdout",
          "text": [
            "45/45 [==============================] - 1s 26ms/step - loss: 0.5208 - accuracy: 0.7342\n",
            "\n",
            "\n",
            "Test score: 0.5208353996276855\n",
            "Test accuracy: 0.7341621518135071\n"
          ]
        }
      ]
    },
    {
      "cell_type": "code",
      "metadata": {
        "id": "8WUiA7q5UHyf"
      },
      "source": [
        "result['name'].append('LSTM')\n",
        "result['score'].append(score[0])"
      ],
      "execution_count": 83,
      "outputs": []
    },
    {
      "cell_type": "markdown",
      "metadata": {
        "id": "J2QW-TjqZDfq"
      },
      "source": [
        "#GRU"
      ]
    },
    {
      "cell_type": "markdown",
      "metadata": {
        "id": "GwjO-ZJYsxY1"
      },
      "source": [
        "Какие проблемы:\n",
        "\n",
        "- вычислительно сложно -> медленнее\n",
        "- на очень длинных последовательностях все равно затухает градиент\n",
        "\n",
        "\n",
        "Зачем платить больше - уберем некоторые врата (точнее совместим) -> ускоримся, уменьшим число параметров -> GRU\n",
        "\n",
        "\n",
        "<img src=\"images/gru.png\">\n",
        "\n",
        "\n",
        "GRU Math\n",
        "\n",
        "\n",
        "<img src=\"images/GRUMath.png\">\n"
      ]
    },
    {
      "cell_type": "code",
      "metadata": {
        "colab": {
          "base_uri": "https://localhost:8080/"
        },
        "id": "SAxpYAwvsxY1",
        "outputId": "13afb4e7-1b62-4579-adb3-5092e2341909"
      },
      "source": [
        "model = Sequential()\n",
        "\n",
        "model.add(\n",
        "    Embedding(input_dim=word_count,\n",
        "              input_length=training_length,\n",
        "              output_dim=30,\n",
        "              trainable=True,\n",
        "              mask_zero=True))\n",
        "model.add(Masking(mask_value=0.0))\n",
        "model.add(GRU(64, recurrent_dropout=0.2))\n",
        "model.add(Dense(64, activation='relu'))\n",
        "model.add(Dropout(0.5))\n",
        "model.add(Dense(1, activation='sigmoid'))\n",
        "\n",
        "model.compile(\n",
        "    optimizer='adam', loss='binary_crossentropy', metrics=['accuracy'])\n",
        "\n",
        "early_stopping=EarlyStopping(monitor='val_loss')  \n",
        "\n",
        "\n",
        "history = model.fit(X_train, y_train,\n",
        "                    batch_size=batch_size,\n",
        "                    epochs=epochs,\n",
        "                    verbose=verbose,\n",
        "                    validation_split=validation_split,\n",
        "                    callbacks=[early_stopping])"
      ],
      "execution_count": 85,
      "outputs": [
        {
          "output_type": "stream",
          "name": "stdout",
          "text": [
            "Epoch 1/10\n",
            "319/319 [==============================] - 49s 146ms/step - loss: 0.5522 - accuracy: 0.7095 - val_loss: 0.4945 - val_accuracy: 0.7556\n"
          ]
        }
      ]
    },
    {
      "cell_type": "code",
      "metadata": {
        "id": "mW-9odV6UwzG"
      },
      "source": [
        "# plt.figure(figsize=(20,12))\n",
        "# plt.plot(history.history['accuracy'], '-.', label = f'accuracy', color='m')\n",
        "# plt.plot(history.history['val_accuracy'], '-', label = f'val_accuracy', color='g')\n",
        "        \n",
        "# plt.legend()\n",
        "# plt.grid('On')\n",
        "# plt.title('Accuracy of epochs')\n",
        "# plt.xlabel('Epochs')\n",
        "# plt.ylabel('Accuracy')\n",
        "# plt.show()"
      ],
      "execution_count": null,
      "outputs": []
    },
    {
      "cell_type": "code",
      "metadata": {
        "colab": {
          "base_uri": "https://localhost:8080/"
        },
        "id": "9ZcwwlYxsxY1",
        "outputId": "9f71ff80-8b1c-451e-cd2c-50e6c228fabe"
      },
      "source": [
        "score = model.evaluate(X_valid, y_val, batch_size=512, verbose=1)\n",
        "print('\\n')\n",
        "print('Test score:', score[0])\n",
        "print('Test accuracy:', score[1])"
      ],
      "execution_count": 86,
      "outputs": [
        {
          "output_type": "stream",
          "name": "stdout",
          "text": [
            "45/45 [==============================] - 1s 23ms/step - loss: 0.5059 - accuracy: 0.7475\n",
            "\n",
            "\n",
            "Test score: 0.5059394240379333\n",
            "Test accuracy: 0.7475201487541199\n"
          ]
        }
      ]
    },
    {
      "cell_type": "code",
      "metadata": {
        "id": "156NIzxcUzX0"
      },
      "source": [
        "result['name'].append('GRU')\n",
        "result['score'].append(score[0])"
      ],
      "execution_count": 87,
      "outputs": []
    },
    {
      "cell_type": "markdown",
      "metadata": {
        "id": "kMoOwQ69wfRH"
      },
      "source": [
        "# CNN"
      ]
    },
    {
      "cell_type": "code",
      "metadata": {
        "id": "0GidB2JpweQj"
      },
      "source": [
        "model = Sequential()\n",
        "model.add(Embedding(input_dim=word_count, \n",
        "                    input_length=training_length, \n",
        "                    output_dim=30))\n",
        "\n",
        "model.add(Conv1D(256, 3, activation='relu'))\n",
        "model.add(GlobalMaxPool1D())\n",
        "model.add(Dense(64, activation='relu'))\n",
        "model.add(Dense(1, activation='softmax'))\n",
        "\n",
        "model.compile(loss='binary_crossentropy',\n",
        "              optimizer='adam',\n",
        "              metrics=['accuracy'])"
      ],
      "execution_count": 88,
      "outputs": []
    },
    {
      "cell_type": "code",
      "metadata": {
        "colab": {
          "base_uri": "https://localhost:8080/"
        },
        "id": "w4j5I2LFwmoT",
        "outputId": "f9e054a4-497d-40b4-c0f1-d1922742b6b4"
      },
      "source": [
        "history = model.fit(X_train, y_train,\n",
        "                    batch_size=batch_size,\n",
        "                    epochs=epochs,\n",
        "                    verbose=verbose,\n",
        "                    validation_split=validation_split,\n",
        "                    callbacks=[early_stopping])\n"
      ],
      "execution_count": 89,
      "outputs": [
        {
          "output_type": "stream",
          "name": "stdout",
          "text": [
            "Epoch 1/10\n",
            "319/319 [==============================] - 33s 102ms/step - loss: 0.5444 - accuracy: 0.5076 - val_loss: 0.4871 - val_accuracy: 0.5049\n"
          ]
        }
      ]
    },
    {
      "cell_type": "code",
      "metadata": {
        "colab": {
          "base_uri": "https://localhost:8080/"
        },
        "id": "4vF-_o_bQbs1",
        "outputId": "49c11d32-34a2-4868-aa2b-7fcba3eee638"
      },
      "source": [
        "score = model.evaluate(X_valid, y_val, batch_size=512, verbose=1)\n",
        "print('\\n')\n",
        "print('Test score:', score[0])\n",
        "print('Test accuracy:', score[1])"
      ],
      "execution_count": 90,
      "outputs": [
        {
          "output_type": "stream",
          "name": "stdout",
          "text": [
            "45/45 [==============================] - 1s 14ms/step - loss: 0.5178 - accuracy: 0.5047\n",
            "\n",
            "\n",
            "Test score: 0.5178335309028625\n",
            "Test accuracy: 0.5047392249107361\n"
          ]
        }
      ]
    },
    {
      "cell_type": "code",
      "metadata": {
        "id": "y1qP7Bpiyyi7"
      },
      "source": [
        "result['name'].append('CNN')\n",
        "result['score'].append(score[0])"
      ],
      "execution_count": 91,
      "outputs": []
    },
    {
      "cell_type": "markdown",
      "metadata": {
        "id": "HQsVKZNw_cIM"
      },
      "source": [
        "#CNN + RNN"
      ]
    },
    {
      "cell_type": "code",
      "metadata": {
        "id": "QoFpdwyE_fIj"
      },
      "source": [
        "model = Sequential()\n",
        "model.add(Embedding(input_dim=word_count, \n",
        "                    input_length=training_length, \n",
        "                    output_dim=30))\n",
        "\n",
        "model.add(Conv1D(256, 3, activation='relu'))\n",
        "model.add(GlobalMaxPool1D())\n",
        "\n",
        "model.add(RepeatVector(1))\n",
        "\n",
        "model.add(LSTM(64, recurrent_dropout=0.2))\n",
        "\n",
        "model.add(Dense(64, activation='relu'))\n",
        "model.add(Dense(1, activation='softmax'))\n",
        "\n",
        "model.compile(loss='binary_crossentropy',\n",
        "              optimizer='adam',\n",
        "              metrics=['accuracy'])"
      ],
      "execution_count": 92,
      "outputs": []
    },
    {
      "cell_type": "code",
      "metadata": {
        "colab": {
          "base_uri": "https://localhost:8080/"
        },
        "id": "OEMB2B5t_gwQ",
        "outputId": "2074e6fe-d8f1-4cc0-ad92-809d90dc76dc"
      },
      "source": [
        "history = model.fit(X_train, y_train,\n",
        "                    batch_size=batch_size,\n",
        "                    epochs=epochs,\n",
        "                    verbose=verbose,\n",
        "                    validation_split=validation_split,\n",
        "                    callbacks=[early_stopping])"
      ],
      "execution_count": 93,
      "outputs": [
        {
          "output_type": "stream",
          "name": "stdout",
          "text": [
            "Epoch 1/10\n",
            "319/319 [==============================] - 36s 107ms/step - loss: 0.5527 - accuracy: 0.5076 - val_loss: 0.4877 - val_accuracy: 0.5049\n"
          ]
        }
      ]
    },
    {
      "cell_type": "code",
      "metadata": {
        "colab": {
          "base_uri": "https://localhost:8080/"
        },
        "id": "EXNonFzfQfXI",
        "outputId": "4a5327e3-4e59-4c68-8c95-aae51b6fdffb"
      },
      "source": [
        "score = model.evaluate(X_valid, y_val, batch_size=512, verbose=1)\n",
        "print('\\n')\n",
        "print('Test score:', score[0])\n",
        "print('Test accuracy:', score[1])"
      ],
      "execution_count": 94,
      "outputs": [
        {
          "output_type": "stream",
          "name": "stdout",
          "text": [
            "45/45 [==============================] - 1s 15ms/step - loss: 0.5166 - accuracy: 0.5047\n",
            "\n",
            "\n",
            "Test score: 0.5165602564811707\n",
            "Test accuracy: 0.5047392249107361\n"
          ]
        }
      ]
    },
    {
      "cell_type": "code",
      "metadata": {
        "id": "wPD6m7BH_jB1"
      },
      "source": [
        "result['name'].append('CNN - RNN')\n",
        "result['score'].append(score[0])"
      ],
      "execution_count": 95,
      "outputs": []
    },
    {
      "cell_type": "markdown",
      "metadata": {
        "id": "4XZCBKxLOq8C"
      },
      "source": [
        "#GRU + CNN"
      ]
    },
    {
      "cell_type": "code",
      "metadata": {
        "id": "GcabIIiLOs9_"
      },
      "source": [
        "model = Sequential()\n",
        "model.add(Embedding(input_dim=word_count, \n",
        "                    input_length=training_length, \n",
        "                    output_dim=30))\n",
        "\n",
        "model.add(Conv1D(256, 3, activation='relu'))\n",
        "model.add(Masking(mask_value=0.0))\n",
        "model.add(GRU(64, recurrent_dropout=0.2))\n",
        "\n",
        "model.add(RepeatVector(1))\n",
        "\n",
        "model.add(GlobalMaxPool1D())\n",
        "\n",
        "model.add(Dense(64, activation='relu'))\n",
        "model.add(Dense(1, activation='softmax'))\n",
        "\n",
        "model.compile(loss='binary_crossentropy',\n",
        "              optimizer='adam',\n",
        "              metrics=['accuracy'])"
      ],
      "execution_count": 96,
      "outputs": []
    },
    {
      "cell_type": "code",
      "metadata": {
        "colab": {
          "base_uri": "https://localhost:8080/"
        },
        "id": "t72hEOwSPydu",
        "outputId": "90ffab9f-20c3-4c7f-bd53-f08484543b33"
      },
      "source": [
        "history = model.fit(X_train, y_train,\n",
        "                    batch_size=batch_size,\n",
        "                    epochs=epochs,\n",
        "                    verbose=verbose,\n",
        "                    validation_split=validation_split,\n",
        "                    callbacks=[early_stopping])"
      ],
      "execution_count": 97,
      "outputs": [
        {
          "output_type": "stream",
          "name": "stdout",
          "text": [
            "Epoch 1/10\n",
            "319/319 [==============================] - 94s 287ms/step - loss: 0.5416 - accuracy: 0.5076 - val_loss: 0.4874 - val_accuracy: 0.5049\n"
          ]
        }
      ]
    },
    {
      "cell_type": "code",
      "metadata": {
        "colab": {
          "base_uri": "https://localhost:8080/"
        },
        "id": "-FZfu5KcQjFS",
        "outputId": "8a819fa5-4877-4292-aaca-8cf027e527a9"
      },
      "source": [
        "score = model.evaluate(X_valid, y_val, batch_size=512, verbose=1)\n",
        "print('\\n')\n",
        "print('Test score:', score[0])\n",
        "print('Test accuracy:', score[1])"
      ],
      "execution_count": 98,
      "outputs": [
        {
          "output_type": "stream",
          "name": "stdout",
          "text": [
            "45/45 [==============================] - 3s 60ms/step - loss: 0.5268 - accuracy: 0.5047\n",
            "\n",
            "\n",
            "Test score: 0.5268151760101318\n",
            "Test accuracy: 0.5047392249107361\n"
          ]
        }
      ]
    },
    {
      "cell_type": "code",
      "metadata": {
        "id": "7_G142LfQO4C"
      },
      "source": [
        "result['name'].append('GRU + CNN')\n",
        "result['score'].append(score[0])"
      ],
      "execution_count": 99,
      "outputs": []
    },
    {
      "cell_type": "markdown",
      "metadata": {
        "id": "axK2YkJqZGhB"
      },
      "source": [
        "#Result"
      ]
    },
    {
      "cell_type": "code",
      "metadata": {
        "colab": {
          "base_uri": "https://localhost:8080/",
          "height": 237
        },
        "id": "Fd-7nvaaYlMa",
        "outputId": "128c99c9-bed3-4289-be6a-f0946158c91f"
      },
      "source": [
        "df_result = pd.DataFrame(result)\n",
        "df_result"
      ],
      "execution_count": 100,
      "outputs": [
        {
          "output_type": "execute_result",
          "data": {
            "text/html": [
              "<div>\n",
              "<style scoped>\n",
              "    .dataframe tbody tr th:only-of-type {\n",
              "        vertical-align: middle;\n",
              "    }\n",
              "\n",
              "    .dataframe tbody tr th {\n",
              "        vertical-align: top;\n",
              "    }\n",
              "\n",
              "    .dataframe thead th {\n",
              "        text-align: right;\n",
              "    }\n",
              "</style>\n",
              "<table border=\"1\" class=\"dataframe\">\n",
              "  <thead>\n",
              "    <tr style=\"text-align: right;\">\n",
              "      <th></th>\n",
              "      <th>name</th>\n",
              "      <th>score</th>\n",
              "    </tr>\n",
              "  </thead>\n",
              "  <tbody>\n",
              "    <tr>\n",
              "      <th>0</th>\n",
              "      <td>SimpleRNN</td>\n",
              "      <td>0.504948</td>\n",
              "    </tr>\n",
              "    <tr>\n",
              "      <th>1</th>\n",
              "      <td>LSTM</td>\n",
              "      <td>0.520835</td>\n",
              "    </tr>\n",
              "    <tr>\n",
              "      <th>2</th>\n",
              "      <td>GRU</td>\n",
              "      <td>0.505939</td>\n",
              "    </tr>\n",
              "    <tr>\n",
              "      <th>3</th>\n",
              "      <td>CNN</td>\n",
              "      <td>0.517834</td>\n",
              "    </tr>\n",
              "    <tr>\n",
              "      <th>4</th>\n",
              "      <td>CNN - RNN</td>\n",
              "      <td>0.516560</td>\n",
              "    </tr>\n",
              "    <tr>\n",
              "      <th>5</th>\n",
              "      <td>GRU + CNN</td>\n",
              "      <td>0.526815</td>\n",
              "    </tr>\n",
              "  </tbody>\n",
              "</table>\n",
              "</div>"
            ],
            "text/plain": [
              "        name     score\n",
              "0  SimpleRNN  0.504948\n",
              "1       LSTM  0.520835\n",
              "2        GRU  0.505939\n",
              "3        CNN  0.517834\n",
              "4  CNN - RNN  0.516560\n",
              "5  GRU + CNN  0.526815"
            ]
          },
          "metadata": {},
          "execution_count": 100
        }
      ]
    },
    {
      "cell_type": "markdown",
      "metadata": {
        "id": "BFY-6B4GQOMW"
      },
      "source": [
        "#Ответ: Различные архитектуры показали близкие рез-ты.\n",
        "Лучший рез-т показала архитектура - GRU+CNN - 0.526815\n",
        "\n",
        "Остался вопрос как можно значительно улучшить рез-ты работы."
      ]
    },
    {
      "cell_type": "markdown",
      "metadata": {
        "id": "8bHi91hrsxY2"
      },
      "source": [
        "3 подхода:\n",
        "\n",
        "<img src=\"images/RNNCompar.png\">\n",
        "\n",
        "\n",
        "Как регуляризовать?\n",
        "- дропаут\n",
        "- рекурентный дропаут\n",
        "\n",
        "\n",
        "<img src=\"images/Dropouts.png\">"
      ]
    }
  ]
}