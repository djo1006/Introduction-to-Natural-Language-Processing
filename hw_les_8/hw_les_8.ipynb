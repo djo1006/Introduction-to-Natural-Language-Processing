{
  "nbformat": 4,
  "nbformat_minor": 0,
  "metadata": {
    "kernelspec": {
      "display_name": "Python 3",
      "language": "python",
      "name": "python3"
    },
    "language_info": {
      "codemirror_mode": {
        "name": "ipython",
        "version": 3
      },
      "file_extension": ".py",
      "mimetype": "text/x-python",
      "name": "python",
      "nbconvert_exporter": "python",
      "pygments_lexer": "ipython3",
      "version": "3.8.3"
    },
    "colab": {
      "name": "hw_les_8.ipynb",
      "provenance": [],
      "collapsed_sections": []
    }
  },
  "cells": [
    {
      "cell_type": "markdown",
      "metadata": {
        "id": "VhHK203SP2OE"
      },
      "source": [
        "#Задание\n",
        "\n",
        "На вебинаре мы говорили что долгое время CNN и RNN архитектуры были конурируещими выяснить какая архитектура больше подходит для задачи сантимент анализа на данных с вебинара\n",
        "1. построить свёрточные архитектуры\n",
        "2. построить различные архитектуры с RNN\n",
        "3. построить совместные архитектуры CNN -> RNN и (RNN -> CNN)\n",
        "4. сдлать выводы что получилось лучше"
      ]
    },
    {
      "cell_type": "code",
      "metadata": {
        "id": "6nJLwN1qUimN"
      },
      "source": [
        "import matplotlib.pyplot as plt"
      ],
      "execution_count": 106,
      "outputs": []
    },
    {
      "cell_type": "code",
      "metadata": {
        "colab": {
          "base_uri": "https://localhost:8080/"
        },
        "id": "KGvpV_iwLinj",
        "outputId": "a0e2f9f2-8831-4163-fee9-53cb64586bc7"
      },
      "source": [
        "\n",
        "from google.colab import drive\n",
        "drive.mount('/content/drive')"
      ],
      "execution_count": 107,
      "outputs": [
        {
          "output_type": "stream",
          "name": "stdout",
          "text": [
            "Drive already mounted at /content/drive; to attempt to forcibly remount, call drive.mount(\"/content/drive\", force_remount=True).\n"
          ]
        }
      ]
    },
    {
      "cell_type": "code",
      "metadata": {
        "id": "faK_hPKbLVaj"
      },
      "source": [
        "path = '/content/drive/MyDrive/Colab Notebooks/GB/Introduction to Natural Language Processing/lesson_8/'"
      ],
      "execution_count": 108,
      "outputs": []
    },
    {
      "cell_type": "code",
      "metadata": {
        "colab": {
          "base_uri": "https://localhost:8080/"
        },
        "id": "QKmgcUIgLQek",
        "outputId": "7600df3c-f9af-4609-82aa-3449babb23b3"
      },
      "source": [
        "!pip install stop_words"
      ],
      "execution_count": 109,
      "outputs": [
        {
          "output_type": "stream",
          "name": "stdout",
          "text": [
            "Requirement already satisfied: stop_words in /usr/local/lib/python3.7/dist-packages (2018.7.23)\n"
          ]
        }
      ]
    },
    {
      "cell_type": "code",
      "metadata": {
        "colab": {
          "base_uri": "https://localhost:8080/"
        },
        "id": "2tuWw6jCMNGN",
        "outputId": "190619c8-dd44-4b0a-fcae-6ce8fa5eb3ff"
      },
      "source": [
        "!pip install pymorphy2\n",
        "from pymorphy2 import MorphAnalyzer"
      ],
      "execution_count": 110,
      "outputs": [
        {
          "output_type": "stream",
          "name": "stdout",
          "text": [
            "Requirement already satisfied: pymorphy2 in /usr/local/lib/python3.7/dist-packages (0.9.1)\n",
            "Requirement already satisfied: docopt>=0.6 in /usr/local/lib/python3.7/dist-packages (from pymorphy2) (0.6.2)\n",
            "Requirement already satisfied: dawg-python>=0.7.1 in /usr/local/lib/python3.7/dist-packages (from pymorphy2) (0.7.2)\n",
            "Requirement already satisfied: pymorphy2-dicts-ru<3.0,>=2.4 in /usr/local/lib/python3.7/dist-packages (from pymorphy2) (2.4.417127.4579844)\n"
          ]
        }
      ]
    },
    {
      "cell_type": "code",
      "metadata": {
        "id": "uCdcOxNTsxYu"
      },
      "source": [
        "# попробуем запрограммировать простую рекурентную сеть. Возьмем датасет с прошлого занятия\n",
        "\n",
        "import pandas as pd\n",
        "from string import punctuation\n",
        "from stop_words import get_stop_words\n",
        "from pymorphy2 import MorphAnalyzer\n",
        "import re\n",
        "\n",
        "df_train = pd.read_csv(f\"{path}/data/train.csv\")\n",
        "df_test = pd.read_csv(f\"{path}/data/test.csv\")\n",
        "df_val = pd.read_csv(f\"{path}/data/val.csv\")"
      ],
      "execution_count": 111,
      "outputs": []
    },
    {
      "cell_type": "code",
      "metadata": {
        "colab": {
          "base_uri": "https://localhost:8080/",
          "height": 206
        },
        "id": "XzcYZifJsxYv",
        "outputId": "ac7c36ac-ec7d-49f8-b1fe-f79e876b93bd"
      },
      "source": [
        "df_train.head()"
      ],
      "execution_count": 112,
      "outputs": [
        {
          "output_type": "execute_result",
          "data": {
            "text/html": [
              "<div>\n",
              "<style scoped>\n",
              "    .dataframe tbody tr th:only-of-type {\n",
              "        vertical-align: middle;\n",
              "    }\n",
              "\n",
              "    .dataframe tbody tr th {\n",
              "        vertical-align: top;\n",
              "    }\n",
              "\n",
              "    .dataframe thead th {\n",
              "        text-align: right;\n",
              "    }\n",
              "</style>\n",
              "<table border=\"1\" class=\"dataframe\">\n",
              "  <thead>\n",
              "    <tr style=\"text-align: right;\">\n",
              "      <th></th>\n",
              "      <th>id</th>\n",
              "      <th>text</th>\n",
              "      <th>class</th>\n",
              "    </tr>\n",
              "  </thead>\n",
              "  <tbody>\n",
              "    <tr>\n",
              "      <th>0</th>\n",
              "      <td>0</td>\n",
              "      <td>@alisachachka не уезжаааааааай. :(❤ я тоже не ...</td>\n",
              "      <td>0</td>\n",
              "    </tr>\n",
              "    <tr>\n",
              "      <th>1</th>\n",
              "      <td>1</td>\n",
              "      <td>RT @GalyginVadim: Ребята и девчата!\\nВсе в кин...</td>\n",
              "      <td>1</td>\n",
              "    </tr>\n",
              "    <tr>\n",
              "      <th>2</th>\n",
              "      <td>2</td>\n",
              "      <td>RT @ARTEM_KLYUSHIN: Кто ненавидит пробки ретви...</td>\n",
              "      <td>0</td>\n",
              "    </tr>\n",
              "    <tr>\n",
              "      <th>3</th>\n",
              "      <td>3</td>\n",
              "      <td>RT @epupybobv: Хочется котлету по-киевски. Зап...</td>\n",
              "      <td>1</td>\n",
              "    </tr>\n",
              "    <tr>\n",
              "      <th>4</th>\n",
              "      <td>4</td>\n",
              "      <td>@KarineKurganova @Yess__Boss босапопа есбоса н...</td>\n",
              "      <td>1</td>\n",
              "    </tr>\n",
              "  </tbody>\n",
              "</table>\n",
              "</div>"
            ],
            "text/plain": [
              "   id                                               text  class\n",
              "0   0  @alisachachka не уезжаааааааай. :(❤ я тоже не ...      0\n",
              "1   1  RT @GalyginVadim: Ребята и девчата!\\nВсе в кин...      1\n",
              "2   2  RT @ARTEM_KLYUSHIN: Кто ненавидит пробки ретви...      0\n",
              "3   3  RT @epupybobv: Хочется котлету по-киевски. Зап...      1\n",
              "4   4  @KarineKurganova @Yess__Boss босапопа есбоса н...      1"
            ]
          },
          "metadata": {},
          "execution_count": 112
        }
      ]
    },
    {
      "cell_type": "code",
      "metadata": {
        "id": "TvGm87EIsxYv"
      },
      "source": [
        "sw = set(get_stop_words(\"ru\"))\n",
        "exclude = set(punctuation)\n",
        "morpher = MorphAnalyzer()\n",
        "\n",
        "def preprocess_text(txt):\n",
        "    txt = str(txt)\n",
        "    txt = \"\".join(c for c in txt if c not in exclude)\n",
        "    txt = txt.lower()\n",
        "    txt = re.sub(\"\\sне\", \"не\", txt)\n",
        "    txt = [morpher.parse(word)[0].normal_form for word in txt.split() if word not in sw]\n",
        "    return \" \".join(txt)\n",
        "\n",
        "df_train['text'] = df_train['text'].apply(preprocess_text)\n",
        "df_val['text'] = df_val['text'].apply(preprocess_text)\n",
        "df_test['text'] = df_test['text'].apply(preprocess_text)"
      ],
      "execution_count": 113,
      "outputs": []
    },
    {
      "cell_type": "code",
      "metadata": {
        "colab": {
          "base_uri": "https://localhost:8080/",
          "height": 144
        },
        "id": "KR-lSB6yWuFZ",
        "outputId": "5123f961-6651-4873-e749-3208e7ca7df8"
      },
      "source": [
        "df_train.loc[0:2]"
      ],
      "execution_count": 114,
      "outputs": [
        {
          "output_type": "execute_result",
          "data": {
            "text/html": [
              "<div>\n",
              "<style scoped>\n",
              "    .dataframe tbody tr th:only-of-type {\n",
              "        vertical-align: middle;\n",
              "    }\n",
              "\n",
              "    .dataframe tbody tr th {\n",
              "        vertical-align: top;\n",
              "    }\n",
              "\n",
              "    .dataframe thead th {\n",
              "        text-align: right;\n",
              "    }\n",
              "</style>\n",
              "<table border=\"1\" class=\"dataframe\">\n",
              "  <thead>\n",
              "    <tr style=\"text-align: right;\">\n",
              "      <th></th>\n",
              "      <th>id</th>\n",
              "      <th>text</th>\n",
              "      <th>class</th>\n",
              "    </tr>\n",
              "  </thead>\n",
              "  <tbody>\n",
              "    <tr>\n",
              "      <th>0</th>\n",
              "      <td>0</td>\n",
              "      <td>alisachachkaич уезжаааааааать ❤ тожена хотеть ...</td>\n",
              "      <td>0</td>\n",
              "    </tr>\n",
              "    <tr>\n",
              "      <th>1</th>\n",
              "      <td>1</td>\n",
              "      <td>rt galyginvadim ребята девчата кино любовь зав...</td>\n",
              "      <td>1</td>\n",
              "    </tr>\n",
              "    <tr>\n",
              "      <th>2</th>\n",
              "      <td>2</td>\n",
              "      <td>rt artemklyushin ктоненавидеть пробка ретвит rt</td>\n",
              "      <td>0</td>\n",
              "    </tr>\n",
              "  </tbody>\n",
              "</table>\n",
              "</div>"
            ],
            "text/plain": [
              "   id                                               text  class\n",
              "0   0  alisachachkaич уезжаааааааать ❤ тожена хотеть ...      0\n",
              "1   1  rt galyginvadim ребята девчата кино любовь зав...      1\n",
              "2   2    rt artemklyushin ктоненавидеть пробка ретвит rt      0"
            ]
          },
          "metadata": {},
          "execution_count": 114
        }
      ]
    },
    {
      "cell_type": "code",
      "metadata": {
        "id": "JDK5sjELsxYw"
      },
      "source": [
        "import numpy as np\n",
        "import keras\n",
        "from keras.models import Sequential, Model\n",
        "from keras.layers import Dense, Dropout, Activation, Input, Embedding, Conv1D, GlobalMaxPool1D, SimpleRNN, LSTM, GRU, Masking, RepeatVector\n",
        "from keras.preprocessing.text import Tokenizer\n",
        "from keras.preprocessing.sequence import pad_sequences\n",
        "from keras.callbacks import TensorBoard \n",
        "from tensorflow.keras.metrics import categorical_crossentropy\n",
        "from keras.callbacks import EarlyStopping \n",
        "from tensorflow.keras import layers"
      ],
      "execution_count": 160,
      "outputs": []
    },
    {
      "cell_type": "code",
      "metadata": {
        "id": "Qgmp7ed3sxYw"
      },
      "source": [
        "text_corpus_train = df_train['text'].values\n",
        "text_corpus_valid = df_val['text'].values\n",
        "text_corpus_test = df_test['text'].values"
      ],
      "execution_count": 116,
      "outputs": []
    },
    {
      "cell_type": "code",
      "metadata": {
        "id": "M2aEm91GsxYx"
      },
      "source": [
        "tokenizer = Tokenizer(num_words=None, \n",
        "                     filters='#$%&()*+-<=>@[\\\\]^_`{|}~\\t\\n',\n",
        "                     lower = False, split = ' ')\n",
        "tokenizer.fit_on_texts(text_corpus_train)\n",
        "\n",
        "sequences_train = tokenizer.texts_to_sequences(text_corpus_train)\n",
        "sequences_val = tokenizer.texts_to_sequences(text_corpus_valid)\n",
        "sequences_test = tokenizer.texts_to_sequences(text_corpus_test)\n",
        "\n",
        "word_count = len(tokenizer.index_word) + 1\n",
        "training_length = max([len(i.split()) for i in text_corpus_train])\n",
        "\n",
        "X_train = pad_sequences(sequences_train, maxlen=training_length)\n",
        "X_valid = pad_sequences(sequences_val, maxlen=training_length)"
      ],
      "execution_count": 117,
      "outputs": []
    },
    {
      "cell_type": "code",
      "metadata": {
        "colab": {
          "base_uri": "https://localhost:8080/"
        },
        "id": "3Mpsc0PoBOc0",
        "outputId": "167dcb72-24f1-4694-8520-b7db8a48d1f6"
      },
      "source": [
        "word_count, training_length"
      ],
      "execution_count": 118,
      "outputs": [
        {
          "output_type": "execute_result",
          "data": {
            "text/plain": [
              "(258108, 27)"
            ]
          },
          "metadata": {},
          "execution_count": 118
        }
      ]
    },
    {
      "cell_type": "code",
      "metadata": {
        "id": "FsXabgAvsxYx"
      },
      "source": [
        "y_train = df_train['class'].values\n",
        "y_val = df_val['class'].values"
      ],
      "execution_count": 119,
      "outputs": []
    },
    {
      "cell_type": "code",
      "metadata": {
        "id": "zSg57FIgSM6o"
      },
      "source": [
        "result = {'name': list(), 'loss': list(), 'accuracy': list()}"
      ],
      "execution_count": 140,
      "outputs": []
    },
    {
      "cell_type": "markdown",
      "metadata": {
        "id": "Mj2PWoeDw4eg"
      },
      "source": [
        "#Общие параметры"
      ]
    },
    {
      "cell_type": "code",
      "metadata": {
        "id": "ROJBL3V2wx_n"
      },
      "source": [
        "batch_size = 512\n",
        "epochs=10\n",
        "validation_split = 0.1\n",
        "verbose=1\n",
        "early_stopping=EarlyStopping(monitor='val_loss')"
      ],
      "execution_count": 121,
      "outputs": []
    },
    {
      "cell_type": "markdown",
      "metadata": {
        "id": "evAcBW0IPvsq"
      },
      "source": [
        "#SimpleRNN"
      ]
    },
    {
      "cell_type": "code",
      "metadata": {
        "id": "pehw-QtVsxYy"
      },
      "source": [
        "model = Sequential()\n",
        "\n",
        "model.add(\n",
        "    Embedding(input_dim=word_count,\n",
        "              input_length=training_length,\n",
        "              output_dim=30,\n",
        "              trainable=True,\n",
        "              mask_zero=True))\n",
        "model.add(Masking(mask_value=0.0))\n",
        "\n",
        "model.add(SimpleRNN(64))\n",
        "model.add(Dense(64, activation='relu'))\n",
        "model.add(Dropout(0.5))\n",
        "model.add(Dense(1, activation='sigmoid'))\n",
        "\n",
        "model.compile(\n",
        "    optimizer='adam', loss='binary_crossentropy', metrics=['accuracy'])"
      ],
      "execution_count": 141,
      "outputs": []
    },
    {
      "cell_type": "code",
      "metadata": {
        "colab": {
          "base_uri": "https://localhost:8080/"
        },
        "id": "WkwVf5oksxYz",
        "outputId": "98c6a9a2-cc36-4453-8762-d6fea8017bb5"
      },
      "source": [
        "history = model.fit(X_train, y_train,\n",
        "                    batch_size=batch_size,\n",
        "                    epochs=epochs,\n",
        "                    verbose=verbose,\n",
        "                    validation_split=validation_split,\n",
        "                    callbacks=[early_stopping])"
      ],
      "execution_count": 142,
      "outputs": [
        {
          "output_type": "stream",
          "name": "stdout",
          "text": [
            "Epoch 1/10\n",
            "319/319 [==============================] - 28s 84ms/step - loss: 0.5644 - accuracy: 0.6941 - val_loss: 0.4928 - val_accuracy: 0.7546\n"
          ]
        }
      ]
    },
    {
      "cell_type": "code",
      "metadata": {
        "colab": {
          "base_uri": "https://localhost:8080/"
        },
        "id": "TrYCzDwSsxYz",
        "outputId": "b7f93841-a9e3-4338-86d0-228ce1f5dcd4"
      },
      "source": [
        "score = model.evaluate(X_valid, y_val, batch_size=512, verbose=1)\n",
        "print('\\n')\n",
        "print('Test score:', score[0])\n",
        "print('Test accuracy:', score[1])"
      ],
      "execution_count": 143,
      "outputs": [
        {
          "output_type": "stream",
          "name": "stdout",
          "text": [
            "45/45 [==============================] - 1s 13ms/step - loss: 0.5188 - accuracy: 0.7411\n",
            "\n",
            "\n",
            "Test score: 0.5187587141990662\n",
            "Test accuracy: 0.7410836219787598\n"
          ]
        }
      ]
    },
    {
      "cell_type": "code",
      "metadata": {
        "id": "VxPI5qvISWEM"
      },
      "source": [
        "result['name'].append('SimpleRNN')\n",
        "result['loss'].append(score[0])\n",
        "result['accuracy'].append(score[1])"
      ],
      "execution_count": 144,
      "outputs": []
    },
    {
      "cell_type": "markdown",
      "metadata": {
        "id": "6MZE-Jc6Y9hO"
      },
      "source": [
        "#LSTM"
      ]
    },
    {
      "cell_type": "markdown",
      "metadata": {
        "id": "TXhckihrsxY0"
      },
      "source": [
        "Какие проблемы у рекурентных сетей?\n",
        "\n",
        "- затухают градиенты\n",
        "- медленно, нужно всегда дойти до конца\n",
        "\n",
        "Как решить? -> LSTM\n",
        "\n",
        "\n",
        "<img src=\"images/lstm.png\">\n",
        "\n",
        "\n",
        "https://colah.github.io/posts/2015-08-Understanding-LSTMs/\n",
        "\n",
        "\n",
        "Давайте, кратко посмотрим как это работает:\n",
        "\n",
        "\n",
        "<img src=\"images/LSTMMaths.png\">"
      ]
    },
    {
      "cell_type": "code",
      "metadata": {
        "colab": {
          "base_uri": "https://localhost:8080/"
        },
        "id": "1v7z5bhUsxY0",
        "outputId": "63a8d4c6-f7f0-4349-9c91-ae26596d4cd9"
      },
      "source": [
        "model = Sequential()\n",
        "\n",
        "model.add(\n",
        "    Embedding(input_dim=word_count,\n",
        "              input_length=training_length,\n",
        "              output_dim=30,\n",
        "              trainable=True,\n",
        "              mask_zero=True))\n",
        "model.add(Masking(mask_value=0.0))\n",
        "model.add(LSTM(64, recurrent_dropout=0.2))\n",
        "model.add(Dense(64, activation='relu'))\n",
        "model.add(Dropout(0.5))\n",
        "model.add(Dense(1, activation='sigmoid'))\n",
        "\n",
        "model.compile(\n",
        "    optimizer='adam', loss='binary_crossentropy', metrics=['accuracy'])\n",
        "\n",
        "early_stopping=EarlyStopping(monitor='val_loss')  \n",
        "\n",
        "\n",
        "history = model.fit(X_train, y_train,\n",
        "                    batch_size=batch_size,\n",
        "                    epochs=epochs,\n",
        "                    verbose=verbose,\n",
        "                    validation_split=validation_split,\n",
        "                    callbacks=[early_stopping])"
      ],
      "execution_count": 145,
      "outputs": [
        {
          "output_type": "stream",
          "name": "stdout",
          "text": [
            "Epoch 1/10\n",
            "319/319 [==============================] - 54s 163ms/step - loss: 0.5565 - accuracy: 0.7031 - val_loss: 0.4944 - val_accuracy: 0.7515\n"
          ]
        }
      ]
    },
    {
      "cell_type": "code",
      "metadata": {
        "colab": {
          "base_uri": "https://localhost:8080/"
        },
        "id": "yVRNC4V1sxY1",
        "outputId": "30479809-676a-4fb8-d4c5-108080f5aded"
      },
      "source": [
        "score = model.evaluate(X_valid, y_val, batch_size=512, verbose=1)\n",
        "print('\\n')\n",
        "print('Test score:', score[0])\n",
        "print('Test accuracy:', score[1])"
      ],
      "execution_count": 146,
      "outputs": [
        {
          "output_type": "stream",
          "name": "stdout",
          "text": [
            "45/45 [==============================] - 1s 25ms/step - loss: 0.5186 - accuracy: 0.7402\n",
            "\n",
            "\n",
            "Test score: 0.5185980200767517\n",
            "Test accuracy: 0.7402459979057312\n"
          ]
        }
      ]
    },
    {
      "cell_type": "code",
      "metadata": {
        "id": "8WUiA7q5UHyf"
      },
      "source": [
        "result['name'].append('LSTM')\n",
        "result['loss'].append(score[0])\n",
        "result['accuracy'].append(score[1])"
      ],
      "execution_count": 147,
      "outputs": []
    },
    {
      "cell_type": "markdown",
      "metadata": {
        "id": "J2QW-TjqZDfq"
      },
      "source": [
        "#GRU"
      ]
    },
    {
      "cell_type": "markdown",
      "metadata": {
        "id": "GwjO-ZJYsxY1"
      },
      "source": [
        "Какие проблемы:\n",
        "\n",
        "- вычислительно сложно -> медленнее\n",
        "- на очень длинных последовательностях все равно затухает градиент\n",
        "\n",
        "\n",
        "Зачем платить больше - уберем некоторые врата (точнее совместим) -> ускоримся, уменьшим число параметров -> GRU\n",
        "\n",
        "\n",
        "<img src=\"images/gru.png\">\n",
        "\n",
        "\n",
        "GRU Math\n",
        "\n",
        "\n",
        "<img src=\"images/GRUMath.png\">\n"
      ]
    },
    {
      "cell_type": "code",
      "metadata": {
        "colab": {
          "base_uri": "https://localhost:8080/"
        },
        "id": "SAxpYAwvsxY1",
        "outputId": "cbffb67a-c2cb-4649-c348-31e1d69bdba3"
      },
      "source": [
        "model = Sequential()\n",
        "\n",
        "model.add(\n",
        "    Embedding(input_dim=word_count,\n",
        "              input_length=training_length,\n",
        "              output_dim=30,\n",
        "              trainable=True,\n",
        "              mask_zero=True))\n",
        "model.add(Masking(mask_value=0.0))\n",
        "model.add(GRU(64, recurrent_dropout=0.2))\n",
        "model.add(Dense(64, activation='relu'))\n",
        "model.add(Dropout(0.5))\n",
        "model.add(Dense(1, activation='sigmoid'))\n",
        "\n",
        "model.compile(\n",
        "    optimizer='adam', loss='binary_crossentropy', metrics=['accuracy'])\n",
        "\n",
        "early_stopping=EarlyStopping(monitor='val_loss')  \n",
        "\n",
        "\n",
        "history = model.fit(X_train, y_train,\n",
        "                    batch_size=batch_size,\n",
        "                    epochs=epochs,\n",
        "                    verbose=verbose,\n",
        "                    validation_split=validation_split,\n",
        "                    callbacks=[early_stopping])"
      ],
      "execution_count": 148,
      "outputs": [
        {
          "output_type": "stream",
          "name": "stdout",
          "text": [
            "Epoch 1/10\n",
            "319/319 [==============================] - 48s 145ms/step - loss: 0.5548 - accuracy: 0.7066 - val_loss: 0.4985 - val_accuracy: 0.7492\n"
          ]
        }
      ]
    },
    {
      "cell_type": "code",
      "metadata": {
        "id": "mW-9odV6UwzG"
      },
      "source": [
        "# plt.figure(figsize=(20,12))\n",
        "# plt.plot(history.history['accuracy'], '-.', label = f'accuracy', color='m')\n",
        "# plt.plot(history.history['val_accuracy'], '-', label = f'val_accuracy', color='g')\n",
        "        \n",
        "# plt.legend()\n",
        "# plt.grid('On')\n",
        "# plt.title('Accuracy of epochs')\n",
        "# plt.xlabel('Epochs')\n",
        "# plt.ylabel('Accuracy')\n",
        "# plt.show()"
      ],
      "execution_count": 130,
      "outputs": []
    },
    {
      "cell_type": "code",
      "metadata": {
        "colab": {
          "base_uri": "https://localhost:8080/"
        },
        "id": "9ZcwwlYxsxY1",
        "outputId": "e225b685-1ed7-4fe6-f808-7906a58d416b"
      },
      "source": [
        "score = model.evaluate(X_valid, y_val, batch_size=512, verbose=1)\n",
        "print('\\n')\n",
        "print('Test score:', score[0])\n",
        "print('Test accuracy:', score[1])"
      ],
      "execution_count": 149,
      "outputs": [
        {
          "output_type": "stream",
          "name": "stdout",
          "text": [
            "45/45 [==============================] - 1s 22ms/step - loss: 0.5277 - accuracy: 0.7341\n",
            "\n",
            "\n",
            "Test score: 0.5276625752449036\n",
            "Test accuracy: 0.7341180443763733\n"
          ]
        }
      ]
    },
    {
      "cell_type": "code",
      "metadata": {
        "id": "156NIzxcUzX0"
      },
      "source": [
        "result['name'].append('GRU')\n",
        "result['loss'].append(score[0])\n",
        "result['accuracy'].append(score[1])"
      ],
      "execution_count": 150,
      "outputs": []
    },
    {
      "cell_type": "markdown",
      "metadata": {
        "id": "kMoOwQ69wfRH"
      },
      "source": [
        "# CNN"
      ]
    },
    {
      "cell_type": "code",
      "metadata": {
        "id": "0GidB2JpweQj"
      },
      "source": [
        "model = Sequential()\n",
        "model.add(Embedding(input_dim=word_count, \n",
        "                    input_length=training_length, \n",
        "                    output_dim=30))\n",
        "\n",
        "model.add(Conv1D(256, 3, activation='relu'))\n",
        "model.add(GlobalMaxPool1D())\n",
        "model.add(Dense(64, activation='relu'))\n",
        "model.add(Dense(1, activation='softmax'))\n",
        "\n",
        "model.compile(loss='binary_crossentropy',\n",
        "              optimizer='adam',\n",
        "              metrics=['accuracy'])"
      ],
      "execution_count": 151,
      "outputs": []
    },
    {
      "cell_type": "code",
      "metadata": {
        "colab": {
          "base_uri": "https://localhost:8080/"
        },
        "id": "w4j5I2LFwmoT",
        "outputId": "13eafeaa-358a-4be5-9b26-9b6df9161949"
      },
      "source": [
        "history = model.fit(X_train, y_train,\n",
        "                    batch_size=batch_size,\n",
        "                    epochs=epochs,\n",
        "                    verbose=verbose,\n",
        "                    validation_split=validation_split,\n",
        "                    callbacks=[early_stopping])\n"
      ],
      "execution_count": 152,
      "outputs": [
        {
          "output_type": "stream",
          "name": "stdout",
          "text": [
            "Epoch 1/10\n",
            "319/319 [==============================] - 33s 101ms/step - loss: 0.5448 - accuracy: 0.5076 - val_loss: 0.4850 - val_accuracy: 0.5049\n"
          ]
        }
      ]
    },
    {
      "cell_type": "code",
      "metadata": {
        "colab": {
          "base_uri": "https://localhost:8080/"
        },
        "id": "4vF-_o_bQbs1",
        "outputId": "0737faa2-a099-46e9-db8a-f8766869ad95"
      },
      "source": [
        "score = model.evaluate(X_valid, y_val, batch_size=512, verbose=1)\n",
        "print('\\n')\n",
        "print('Test score:', score[0])\n",
        "print('Test accuracy:', score[1])"
      ],
      "execution_count": 153,
      "outputs": [
        {
          "output_type": "stream",
          "name": "stdout",
          "text": [
            "45/45 [==============================] - 1s 14ms/step - loss: 0.5160 - accuracy: 0.5047\n",
            "\n",
            "\n",
            "Test score: 0.5159980654716492\n",
            "Test accuracy: 0.5047392249107361\n"
          ]
        }
      ]
    },
    {
      "cell_type": "code",
      "metadata": {
        "id": "y1qP7Bpiyyi7"
      },
      "source": [
        "result['name'].append('CNN')\n",
        "result['loss'].append(score[0])\n",
        "result['accuracy'].append(score[1])"
      ],
      "execution_count": 154,
      "outputs": []
    },
    {
      "cell_type": "markdown",
      "metadata": {
        "id": "w-aT0PuMauK5"
      },
      "source": [
        "#Add Dropout"
      ]
    },
    {
      "cell_type": "code",
      "metadata": {
        "id": "CxZf4Ijeazi_"
      },
      "source": [
        "model_5 = Sequential([\n",
        "    layers.Embedding(input_dim=word_count, \n",
        "                     input_length=training_length, output_dim=30),\n",
        "    layers.Dropout(0.2),\n",
        "    layers.Conv1D(128, 5, activation='relu'),\n",
        "    layers.GlobalMaxPool1D(),\n",
        "    layers.Dense(32, activation='relu'),\n",
        "    layers.Dropout(0.2),\n",
        "    layers.Dense(1, activation='sigmoid')\n",
        "])"
      ],
      "execution_count": 161,
      "outputs": []
    },
    {
      "cell_type": "code",
      "metadata": {
        "id": "pq0-KlEYcCE8"
      },
      "source": [
        "model_5.compile(optimizer='RMSprop',\n",
        "                     loss='binary_crossentropy',\n",
        "                     metrics=['accuracy'])"
      ],
      "execution_count": 162,
      "outputs": []
    },
    {
      "cell_type": "code",
      "metadata": {
        "colab": {
          "base_uri": "https://localhost:8080/"
        },
        "id": "KNs3FAlfd5Ud",
        "outputId": "f17d5416-998b-4924-c8fd-8d5a96ac1c50"
      },
      "source": [
        "history_5 = model_5.fit(X_train, y_train,\n",
        "                    batch_size=batch_size,\n",
        "                    epochs=epochs,\n",
        "                    verbose=verbose,\n",
        "                    validation_split=validation_split,\n",
        "                    callbacks=[early_stopping])"
      ],
      "execution_count": 164,
      "outputs": [
        {
          "output_type": "stream",
          "name": "stdout",
          "text": [
            "Epoch 1/10\n",
            "319/319 [==============================] - 20s 58ms/step - loss: 0.5711 - accuracy: 0.6903 - val_loss: 0.5081 - val_accuracy: 0.7428\n"
          ]
        }
      ]
    },
    {
      "cell_type": "code",
      "metadata": {
        "colab": {
          "base_uri": "https://localhost:8080/"
        },
        "id": "O67snHAScDqv",
        "outputId": "d6e0b040-28f0-46a2-c150-7e22496d558d"
      },
      "source": [
        "score = model_5.evaluate(X_valid, y_val, batch_size=512, verbose=1)\n",
        "print('\\n')\n",
        "print('Test score:', score[0])\n",
        "print('Test accuracy:', score[1])\n",
        "\n",
        "result['name'].append('Add Dropout')\n",
        "result['loss'].append(score[0])\n",
        "result['accuracy'].append(score[1])"
      ],
      "execution_count": 165,
      "outputs": [
        {
          "output_type": "stream",
          "name": "stdout",
          "text": [
            "45/45 [==============================] - 0s 11ms/step - loss: 0.5278 - accuracy: 0.7290\n",
            "\n",
            "\n",
            "Test score: 0.5277639627456665\n",
            "Test accuracy: 0.7289600372314453\n"
          ]
        }
      ]
    },
    {
      "cell_type": "markdown",
      "metadata": {
        "id": "HQsVKZNw_cIM"
      },
      "source": [
        "#CNN + RNN"
      ]
    },
    {
      "cell_type": "code",
      "metadata": {
        "id": "BoI6z0tvhGi4"
      },
      "source": [
        "model = Sequential([\n",
        "    layers.Embedding(input_dim=word_count, \n",
        "                     input_length=training_length, output_dim=30),\n",
        "    layers.Dropout(0.2),\n",
        "    layers.Conv1D(128, 5, activation='relu'),\n",
        "    layers.GlobalMaxPool1D(),\n",
        "\n",
        "    layers.RepeatVector(1),\n",
        "    layers.LSTM(64, recurrent_dropout=0.2),\n",
        "    \n",
        "    layers.Dense(32, activation='relu'),\n",
        "    layers.Dropout(0.2),\n",
        "    layers.Dense(1, activation='sigmoid')\n",
        "])\n",
        "\n",
        "model.compile(optimizer='RMSprop',\n",
        "                     loss='binary_crossentropy',\n",
        "                     metrics=['accuracy'])"
      ],
      "execution_count": 189,
      "outputs": []
    },
    {
      "cell_type": "code",
      "metadata": {
        "colab": {
          "base_uri": "https://localhost:8080/"
        },
        "id": "OEMB2B5t_gwQ",
        "outputId": "6e6f2cf0-18ba-491e-bf03-a9441bce6506"
      },
      "source": [
        "history = model.fit(X_train, y_train,\n",
        "                    batch_size=batch_size,\n",
        "                    epochs=epochs,\n",
        "                    verbose=verbose,\n",
        "                    validation_split=validation_split,\n",
        "                    callbacks=[early_stopping])"
      ],
      "execution_count": 190,
      "outputs": [
        {
          "output_type": "stream",
          "name": "stdout",
          "text": [
            "Epoch 1/10\n",
            "319/319 [==============================] - 23s 64ms/step - loss: 0.5799 - accuracy: 0.6802 - val_loss: 0.5112 - val_accuracy: 0.7443\n"
          ]
        }
      ]
    },
    {
      "cell_type": "code",
      "metadata": {
        "colab": {
          "base_uri": "https://localhost:8080/"
        },
        "id": "EXNonFzfQfXI",
        "outputId": "1e0f170f-98b4-4c83-c849-fe63ed80cc48"
      },
      "source": [
        "score = model.evaluate(X_valid, y_val, batch_size=512, verbose=1)\n",
        "print('\\n')\n",
        "print('Test score:', score[0])\n",
        "print('Test accuracy:', score[1])"
      ],
      "execution_count": 191,
      "outputs": [
        {
          "output_type": "stream",
          "name": "stdout",
          "text": [
            "45/45 [==============================] - 1s 12ms/step - loss: 0.5413 - accuracy: 0.7167\n",
            "\n",
            "\n",
            "Test score: 0.5413198471069336\n",
            "Test accuracy: 0.7167041301727295\n"
          ]
        }
      ]
    },
    {
      "cell_type": "code",
      "metadata": {
        "id": "wPD6m7BH_jB1"
      },
      "source": [
        "result['name'].append('CNN + RNN')\n",
        "result['loss'].append(score[0])\n",
        "result['accuracy'].append(score[1])"
      ],
      "execution_count": 192,
      "outputs": []
    },
    {
      "cell_type": "markdown",
      "metadata": {
        "id": "4XZCBKxLOq8C"
      },
      "source": [
        "#GRU + CNN"
      ]
    },
    {
      "cell_type": "code",
      "metadata": {
        "id": "GcabIIiLOs9_"
      },
      "source": [
        "model = Sequential([\n",
        "    layers.Embedding(input_dim=word_count, \n",
        "                     input_length=training_length, output_dim=30),\n",
        "    layers.Dropout(0.2),\n",
        "    layers.Conv1D(128, 5, activation='relu'),\n",
        "    \n",
        "    layers.GRU(64, recurrent_dropout=0.2),\n",
        "    layers.RepeatVector(1),\n",
        "    layers.GlobalMaxPool1D(),\n",
        "    \n",
        "    layers.Dense(32, activation='relu'),\n",
        "    layers.Dropout(0.2),\n",
        "    layers.Dense(1, activation='sigmoid')\n",
        "])\n",
        "\n",
        "model.compile(optimizer='adam',\n",
        "                     loss='binary_crossentropy',\n",
        "                     metrics=['accuracy'])"
      ],
      "execution_count": 199,
      "outputs": []
    },
    {
      "cell_type": "code",
      "metadata": {
        "colab": {
          "base_uri": "https://localhost:8080/"
        },
        "id": "t72hEOwSPydu",
        "outputId": "f1b24599-6cdb-40f2-f481-4d4a77664e17"
      },
      "source": [
        "history = model.fit(X_train, y_train,\n",
        "                    batch_size=batch_size,\n",
        "                    epochs=epochs,\n",
        "                    verbose=verbose,\n",
        "                    validation_split=validation_split,\n",
        "                    callbacks=[early_stopping])"
      ],
      "execution_count": 200,
      "outputs": [
        {
          "output_type": "stream",
          "name": "stdout",
          "text": [
            "Epoch 1/10\n",
            "319/319 [==============================] - 62s 189ms/step - loss: 0.5529 - accuracy: 0.7047 - val_loss: 0.4888 - val_accuracy: 0.7581\n"
          ]
        }
      ]
    },
    {
      "cell_type": "code",
      "metadata": {
        "colab": {
          "base_uri": "https://localhost:8080/"
        },
        "id": "-FZfu5KcQjFS",
        "outputId": "e294ef78-1a7b-480b-d884-1b364ae4da9f"
      },
      "source": [
        "score = model.evaluate(X_valid, y_val, batch_size=512, verbose=1)\n",
        "print('\\n')\n",
        "print('Test score:', score[0])\n",
        "print('Test accuracy:', score[1])"
      ],
      "execution_count": 201,
      "outputs": [
        {
          "output_type": "stream",
          "name": "stdout",
          "text": [
            "45/45 [==============================] - 2s 35ms/step - loss: 0.5194 - accuracy: 0.7391\n",
            "\n",
            "\n",
            "Test score: 0.5194015502929688\n",
            "Test accuracy: 0.7391438484191895\n"
          ]
        }
      ]
    },
    {
      "cell_type": "code",
      "metadata": {
        "id": "7_G142LfQO4C"
      },
      "source": [
        "result['name'].append('GRU + CNN optimizer=adam')\n",
        "result['loss'].append(score[0])\n",
        "result['accuracy'].append(score[1])"
      ],
      "execution_count": 202,
      "outputs": []
    },
    {
      "cell_type": "markdown",
      "metadata": {
        "id": "axK2YkJqZGhB"
      },
      "source": [
        "#Result"
      ]
    },
    {
      "cell_type": "code",
      "metadata": {
        "colab": {
          "base_uri": "https://localhost:8080/",
          "height": 300
        },
        "id": "Fd-7nvaaYlMa",
        "outputId": "6c3c42aa-1e78-4d0e-bcdf-ca918edf7ab5"
      },
      "source": [
        "df_result = pd.DataFrame(result)\n",
        "df_result"
      ],
      "execution_count": 203,
      "outputs": [
        {
          "output_type": "execute_result",
          "data": {
            "text/html": [
              "<div>\n",
              "<style scoped>\n",
              "    .dataframe tbody tr th:only-of-type {\n",
              "        vertical-align: middle;\n",
              "    }\n",
              "\n",
              "    .dataframe tbody tr th {\n",
              "        vertical-align: top;\n",
              "    }\n",
              "\n",
              "    .dataframe thead th {\n",
              "        text-align: right;\n",
              "    }\n",
              "</style>\n",
              "<table border=\"1\" class=\"dataframe\">\n",
              "  <thead>\n",
              "    <tr style=\"text-align: right;\">\n",
              "      <th></th>\n",
              "      <th>name</th>\n",
              "      <th>loss</th>\n",
              "      <th>accuracy</th>\n",
              "    </tr>\n",
              "  </thead>\n",
              "  <tbody>\n",
              "    <tr>\n",
              "      <th>0</th>\n",
              "      <td>SimpleRNN</td>\n",
              "      <td>0.518759</td>\n",
              "      <td>0.741084</td>\n",
              "    </tr>\n",
              "    <tr>\n",
              "      <th>1</th>\n",
              "      <td>LSTM</td>\n",
              "      <td>0.518598</td>\n",
              "      <td>0.740246</td>\n",
              "    </tr>\n",
              "    <tr>\n",
              "      <th>2</th>\n",
              "      <td>GRU</td>\n",
              "      <td>0.527663</td>\n",
              "      <td>0.734118</td>\n",
              "    </tr>\n",
              "    <tr>\n",
              "      <th>3</th>\n",
              "      <td>CNN</td>\n",
              "      <td>0.515998</td>\n",
              "      <td>0.504739</td>\n",
              "    </tr>\n",
              "    <tr>\n",
              "      <th>4</th>\n",
              "      <td>Add Dropout</td>\n",
              "      <td>0.527764</td>\n",
              "      <td>0.728960</td>\n",
              "    </tr>\n",
              "    <tr>\n",
              "      <th>5</th>\n",
              "      <td>CNN + RNN</td>\n",
              "      <td>0.541320</td>\n",
              "      <td>0.716704</td>\n",
              "    </tr>\n",
              "    <tr>\n",
              "      <th>6</th>\n",
              "      <td>GRU + CNN</td>\n",
              "      <td>0.522588</td>\n",
              "      <td>0.732619</td>\n",
              "    </tr>\n",
              "    <tr>\n",
              "      <th>7</th>\n",
              "      <td>GRU + CNN optimizer=adam</td>\n",
              "      <td>0.519402</td>\n",
              "      <td>0.739144</td>\n",
              "    </tr>\n",
              "  </tbody>\n",
              "</table>\n",
              "</div>"
            ],
            "text/plain": [
              "                       name      loss  accuracy\n",
              "0                 SimpleRNN  0.518759  0.741084\n",
              "1                      LSTM  0.518598  0.740246\n",
              "2                       GRU  0.527663  0.734118\n",
              "3                       CNN  0.515998  0.504739\n",
              "4               Add Dropout  0.527764  0.728960\n",
              "5                 CNN + RNN  0.541320  0.716704\n",
              "6                 GRU + CNN  0.522588  0.732619\n",
              "7  GRU + CNN optimizer=adam  0.519402  0.739144"
            ]
          },
          "metadata": {},
          "execution_count": 203
        }
      ]
    },
    {
      "cell_type": "markdown",
      "metadata": {
        "id": "BFY-6B4GQOMW"
      },
      "source": [
        "#Ответ:\n",
        "Лучший рез-т показала SimpleRNN - 0.741084."
      ]
    },
    {
      "cell_type": "markdown",
      "metadata": {
        "id": "8bHi91hrsxY2"
      },
      "source": [
        "3 подхода:\n",
        "\n",
        "<img src=\"images/RNNCompar.png\">\n",
        "\n",
        "\n",
        "Как регуляризовать?\n",
        "- дропаут\n",
        "- рекурентный дропаут\n",
        "\n",
        "\n",
        "<img src=\"images/Dropouts.png\">"
      ]
    }
  ]
}