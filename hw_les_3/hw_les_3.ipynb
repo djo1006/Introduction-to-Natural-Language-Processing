{
  "nbformat": 4,
  "nbformat_minor": 0,
  "metadata": {
    "colab": {
      "name": "hw_les_3.ipynb",
      "provenance": [],
      "collapsed_sections": []
    },
    "kernelspec": {
      "name": "python3",
      "display_name": "Python 3"
    },
    "language_info": {
      "name": "python"
    }
  },
  "cells": [
    {
      "cell_type": "markdown",
      "metadata": {
        "id": "Tp1gnZLLunDn"
      },
      "source": [
        "Пока в разработке"
      ]
    },
    {
      "cell_type": "code",
      "metadata": {
        "id": "wtWSH4Bsufuc"
      },
      "source": [
        ""
      ],
      "execution_count": null,
      "outputs": []
    }
  ]
}