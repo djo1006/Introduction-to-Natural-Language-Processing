{
  "nbformat": 4,
  "nbformat_minor": 0,
  "metadata": {
    "colab": {
      "name": "hw_les_3.ipynb",
      "provenance": [],
      "collapsed_sections": []
    },
    "kernelspec": {
      "name": "python3",
      "display_name": "Python 3"
    },
    "accelerator": "GPU"
  },
  "cells": [
    {
      "cell_type": "code",
      "metadata": {
        "id": "wWzU9hqUomdU",
        "colab": {
          "base_uri": "https://localhost:8080/"
        },
        "outputId": "e543ee81-db7b-4c4a-bdbe-80a38dce58e8"
      },
      "source": [
        "# !pip install -q --upgrade nltk gensim bokeh pandas\n",
        "\n",
        "import nltk\n",
        "nltk.download('punkt')\n",
        "nltk.download('stopwords')"
      ],
      "execution_count": 2,
      "outputs": [
        {
          "output_type": "stream",
          "name": "stdout",
          "text": [
            "[nltk_data] Downloading package punkt to /root/nltk_data...\n",
            "[nltk_data]   Unzipping tokenizers/punkt.zip.\n",
            "[nltk_data] Downloading package stopwords to /root/nltk_data...\n",
            "[nltk_data]   Unzipping corpora/stopwords.zip.\n"
          ]
        },
        {
          "output_type": "execute_result",
          "data": {
            "text/plain": [
              "True"
            ]
          },
          "metadata": {},
          "execution_count": 2
        }
      ]
    },
    {
      "cell_type": "code",
      "metadata": {
        "colab": {
          "base_uri": "https://localhost:8080/"
        },
        "id": "a_qCB2uLI5WG",
        "outputId": "62115825-cc7a-4528-db5f-dbebd42d9da4"
      },
      "source": [
        "pip install -q --upgrade gensim==3.8.2"
      ],
      "execution_count": 3,
      "outputs": [
        {
          "output_type": "stream",
          "name": "stdout",
          "text": [
            "\u001b[K     |████████████████████████████████| 24.2 MB 71 kB/s \n",
            "\u001b[?25h"
          ]
        }
      ]
    },
    {
      "cell_type": "code",
      "metadata": {
        "id": "K-X7I7nc1gyS"
      },
      "source": [
        "import pandas as pd\n",
        "import numpy as np\n",
        "from nltk.tokenize import word_tokenize\n",
        "from gensim.models import Word2Vec\n",
        "from sklearn.manifold import TSNE"
      ],
      "execution_count": 4,
      "outputs": []
    },
    {
      "cell_type": "code",
      "metadata": {
        "id": "UoYjVExHd_OC"
      },
      "source": [
        "import re\n",
        "from sklearn.feature_extraction.text import TfidfVectorizer\n",
        "from nltk.corpus import stopwords\n",
        "from string import punctuation"
      ],
      "execution_count": 5,
      "outputs": []
    },
    {
      "cell_type": "markdown",
      "metadata": {
        "id": "xvqrFUS6vVhh"
      },
      "source": [
        "## Запилим пословный машинный перевод!"
      ]
    },
    {
      "cell_type": "code",
      "metadata": {
        "id": "1CXcr-ypzGXg",
        "colab": {
          "base_uri": "https://localhost:8080/"
        },
        "outputId": "582cb7a5-6d3e-4deb-e082-ffc85c35305b"
      },
      "source": [
        "!wget -O ukr_rus.train.txt -qq --no-check-certificate \"https://drive.google.com/uc?export=download&id=1vAK0SWXUqei4zTimMvIhH3ufGPsbnC_O\"\n",
        "!wget -O ukr_rus.test.txt -qq --no-check-certificate \"https://drive.google.com/uc?export=download&id=1W9R2F8OeKHXruo2sicZ6FgBJUTJc8Us_\"\n",
        "!wget -O fairy_tale.txt -qq --no-check-certificate \"https://drive.google.com/uc?export=download&id=1sq8zSroFeg_afw-60OmY8RATdu_T1tej\"\n",
        "\n",
        "# Install the PyDrive wrapper & import libraries.\n",
        "# This only needs to be done once per notebook.\n",
        "!pip install -U -q PyDrive\n",
        "from pydrive.auth import GoogleAuth\n",
        "from pydrive.drive import GoogleDrive\n",
        "from google.colab import auth\n",
        "from oauth2client.client import GoogleCredentials\n",
        "\n",
        "# Authenticate and create the PyDrive client.\n",
        "# This only needs to be done once per notebook.\n",
        "auth.authenticate_user()\n",
        "gauth = GoogleAuth()\n",
        "gauth.credentials = GoogleCredentials.get_application_default()\n",
        "drive = GoogleDrive(gauth)\n",
        "\n",
        "downloaded = drive.CreateFile({'id': '1d7OXuil646jUeDS1JNhP9XWlZogv6rbu'})\n",
        "downloaded.GetContentFile('cc.ru.300.vec.zip')\n",
        "\n",
        "downloaded = drive.CreateFile({'id': '1yAqwqgUHtMSfGS99WLGe5unSCyIXfIxi'})\n",
        "downloaded.GetContentFile('cc.uk.300.vec.zip')\n",
        "\n",
        "!unzip cc.ru.300.vec.zip\n",
        "!unzip cc.uk.300.vec.zip"
      ],
      "execution_count": 6,
      "outputs": [
        {
          "output_type": "stream",
          "name": "stdout",
          "text": [
            "Archive:  cc.ru.300.vec.zip\n",
            "  inflating: cc.ru.300.vec           \n",
            "Archive:  cc.uk.300.vec.zip\n",
            "  inflating: cc.uk.300.vec           \n"
          ]
        }
      ]
    },
    {
      "cell_type": "markdown",
      "metadata": {
        "id": "7RqUeOXxws8y"
      },
      "source": [
        "Напишем простенькую реализацию модели машинного перевода.\n",
        "\n",
        "Идея основана на статье [Word Translation Without Parallel Data](https://arxiv.org/pdf/1710.04087.pdf). У авторов в репозитории еще много интересного: [https://github.com/facebookresearch/MUSE](https://github.com/facebookresearch/MUSE).\n",
        "\n",
        "А мы будем переводить с украинского на русский.\n",
        "\n",
        "![](https://raw.githubusercontent.com/yandexdataschool/nlp_course/master/resources/blue_cat_blue_whale.png)   \n",
        "*синій кіт* vs. *синій кит*"
      ]
    },
    {
      "cell_type": "code",
      "metadata": {
        "id": "jjPj9FTRry0U"
      },
      "source": [
        "from gensim.models import KeyedVectors\n",
        "\n",
        "ru_emb = KeyedVectors.load_word2vec_format(\"cc.ru.300.vec\")\n",
        "uk_emb = KeyedVectors.load_word2vec_format(\"cc.uk.300.vec\")"
      ],
      "execution_count": 7,
      "outputs": []
    },
    {
      "cell_type": "markdown",
      "metadata": {
        "id": "7rGx4TXWFJ65"
      },
      "source": [
        "Посмотрим на пару серпень-август (являющихся переводом)"
      ]
    },
    {
      "cell_type": "code",
      "metadata": {
        "id": "FkHer36xyh4n",
        "colab": {
          "base_uri": "https://localhost:8080/"
        },
        "outputId": "6efa1eb7-a60c-45fa-bdee-87ca158c6892"
      },
      "source": [
        "ru_emb.most_similar([ru_emb[\"август\"]])"
      ],
      "execution_count": 8,
      "outputs": [
        {
          "output_type": "execute_result",
          "data": {
            "text/plain": [
              "[('август', 1.0),\n",
              " ('июль', 0.9383153915405273),\n",
              " ('сентябрь', 0.9240028858184814),\n",
              " ('июнь', 0.9222575426101685),\n",
              " ('октябрь', 0.9095538854598999),\n",
              " ('ноябрь', 0.8930036425590515),\n",
              " ('апрель', 0.8729087114334106),\n",
              " ('декабрь', 0.8652557730674744),\n",
              " ('март', 0.8545796275138855),\n",
              " ('февраль', 0.8401416540145874)]"
            ]
          },
          "metadata": {},
          "execution_count": 8
        }
      ]
    },
    {
      "cell_type": "code",
      "metadata": {
        "id": "1RSDixWvylEP",
        "colab": {
          "base_uri": "https://localhost:8080/"
        },
        "outputId": "8ce73c73-658c-4428-dfac-79a3bcd9d213"
      },
      "source": [
        "uk_emb.most_similar([uk_emb[\"серпень\"]])"
      ],
      "execution_count": 9,
      "outputs": [
        {
          "output_type": "execute_result",
          "data": {
            "text/plain": [
              "[('серпень', 0.9999999403953552),\n",
              " ('липень', 0.9096440076828003),\n",
              " ('вересень', 0.901697039604187),\n",
              " ('червень', 0.8992519378662109),\n",
              " ('жовтень', 0.8810408711433411),\n",
              " ('листопад', 0.8787633776664734),\n",
              " ('квітень', 0.8592804670333862),\n",
              " ('грудень', 0.8586863279342651),\n",
              " ('травень', 0.8408110737800598),\n",
              " ('лютий', 0.8256431818008423)]"
            ]
          },
          "metadata": {},
          "execution_count": 9
        }
      ]
    },
    {
      "cell_type": "code",
      "metadata": {
        "id": "iwmm3YQ1yl1U",
        "colab": {
          "base_uri": "https://localhost:8080/"
        },
        "outputId": "c0b44a14-932b-4a61-a75d-0cbc55012a9b"
      },
      "source": [
        "ru_emb.most_similar([uk_emb[\"серпень\"]])"
      ],
      "execution_count": 10,
      "outputs": [
        {
          "output_type": "execute_result",
          "data": {
            "text/plain": [
              "[('Недопустимость', 0.24435284733772278),\n",
              " ('конструктивность', 0.23293080925941467),\n",
              " ('офор', 0.23256804049015045),\n",
              " ('deteydlya', 0.23031717538833618),\n",
              " ('пресечении', 0.22632381319999695),\n",
              " ('одностороннего', 0.22608885169029236),\n",
              " ('подход', 0.2230587601661682),\n",
              " ('иболее', 0.22003726661205292),\n",
              " ('2015Александр', 0.21872764825820923),\n",
              " ('конструктивен', 0.21796566247940063)]"
            ]
          },
          "metadata": {},
          "execution_count": 10
        }
      ]
    },
    {
      "cell_type": "code",
      "metadata": {
        "id": "lAsW7oxszE_I"
      },
      "source": [
        "def load_word_pairs(filename):\n",
        "    uk_ru_pairs = []\n",
        "    uk_vectors = []\n",
        "    ru_vectors = []\n",
        "    with open(filename, \"r\", encoding='utf8') as inpf:\n",
        "        for line in inpf:\n",
        "            uk, ru = line.rstrip().split(\"\\t\")\n",
        "            if uk not in uk_emb or ru not in ru_emb:\n",
        "                continue\n",
        "            uk_ru_pairs.append((uk, ru))\n",
        "            uk_vectors.append(uk_emb[uk])\n",
        "            ru_vectors.append(ru_emb[ru])\n",
        "    return uk_ru_pairs, np.array(uk_vectors), np.array(ru_vectors)\n",
        "\n",
        "\n",
        "uk_ru_train, X_train, Y_train = load_word_pairs(\"ukr_rus.train.txt\")\n",
        "uk_ru_test, X_test, Y_test = load_word_pairs(\"ukr_rus.test.txt\")"
      ],
      "execution_count": 11,
      "outputs": []
    },
    {
      "cell_type": "code",
      "metadata": {
        "colab": {
          "base_uri": "https://localhost:8080/"
        },
        "id": "oqq2Ggk3SL3H",
        "outputId": "04f52b85-3da5-4c80-e392-0dcbeb3be135"
      },
      "source": [
        "uk_ru_train[:10]"
      ],
      "execution_count": 12,
      "outputs": [
        {
          "output_type": "execute_result",
          "data": {
            "text/plain": [
              "[('iснує', 'существует'),\n",
              " ('абияк', 'как-нибудь'),\n",
              " ('або', 'или'),\n",
              " ('або', 'ли'),\n",
              " ('абсолютно', 'совершенно'),\n",
              " ('абсолютно', 'совсем'),\n",
              " ('автомобіль', 'автомобиль'),\n",
              " ('автомобіль', 'вагон'),\n",
              " ('агов', 'эй'),\n",
              " ('аґрус', 'крыжовник')]"
            ]
          },
          "metadata": {},
          "execution_count": 12
        }
      ]
    },
    {
      "cell_type": "code",
      "metadata": {
        "colab": {
          "base_uri": "https://localhost:8080/"
        },
        "id": "S0YQz3gySWMb",
        "outputId": "1a1e558c-8219-4576-c3b5-3379f097de34"
      },
      "source": [
        "uk_ru_test[:10]"
      ],
      "execution_count": 13,
      "outputs": [
        {
          "output_type": "execute_result",
          "data": {
            "text/plain": [
              "[('або', 'либо'),\n",
              " ('активний', 'активный'),\n",
              " ('актор', 'актер'),\n",
              " ('але', 'ж'),\n",
              " ('асамблея', 'собрание'),\n",
              " ('бабуся', 'бабушка'),\n",
              " ('багажник', 'ствол'),\n",
              " ('бажати', 'желать'),\n",
              " ('башта', 'башня'),\n",
              " ('бізнес', 'бизнес')]"
            ]
          },
          "metadata": {},
          "execution_count": 13
        }
      ]
    },
    {
      "cell_type": "code",
      "metadata": {
        "colab": {
          "base_uri": "https://localhost:8080/"
        },
        "id": "fovZeaif-g0x",
        "outputId": "0240e8f0-f2d2-4066-9287-cfadc21fae84"
      },
      "source": [
        "X_train.shape"
      ],
      "execution_count": 48,
      "outputs": [
        {
          "output_type": "execute_result",
          "data": {
            "text/plain": [
              "(1840, 300)"
            ]
          },
          "metadata": {},
          "execution_count": 48
        }
      ]
    },
    {
      "cell_type": "code",
      "metadata": {
        "colab": {
          "base_uri": "https://localhost:8080/"
        },
        "id": "cR29Z5r--i21",
        "outputId": "2889c8c5-63c0-45c2-c7f6-643cb5916106"
      },
      "source": [
        "Y_train.shape"
      ],
      "execution_count": 49,
      "outputs": [
        {
          "output_type": "execute_result",
          "data": {
            "text/plain": [
              "(1840, 300)"
            ]
          },
          "metadata": {},
          "execution_count": 49
        }
      ]
    },
    {
      "cell_type": "markdown",
      "metadata": {
        "id": "9z6ts7DC0XmN"
      },
      "source": [
        "### Учим маппинг из одного пространства эмбеддингов в другое\n",
        "\n",
        "У нас есть пары слов, соответствующих друг другу, и их эмбеддинги. Найдем преобразование из одного пространства в другое, чтобы приблизить известные нам слова:\n",
        "\n",
        "$$W^*= \\arg\\min_W ||WX - Y||_F, \\text{где} ||*||_F - \\text{норма Фробениуса}$$\n",
        "\n",
        "Эта функция очень похожа на линейную регрессию (без биаса).\n",
        "\n",
        "**Задание** Реализуйте её - воспользуйтесь `LinearRegression` из sklearn с `fit_intercept=False`:"
      ]
    },
    {
      "cell_type": "code",
      "metadata": {
        "id": "rPckJECvOXiX"
      },
      "source": [
        "from sklearn.linear_model import LinearRegression"
      ],
      "execution_count": 16,
      "outputs": []
    },
    {
      "cell_type": "code",
      "metadata": {
        "id": "fraTOQtu1YWI"
      },
      "source": [
        "mapping = LinearRegression(fit_intercept=False).fit(X_train, Y_train)"
      ],
      "execution_count": 17,
      "outputs": []
    },
    {
      "cell_type": "code",
      "metadata": {
        "colab": {
          "base_uri": "https://localhost:8080/"
        },
        "id": "LjFPe71PO6rO",
        "outputId": "39ceb274-01dd-4809-b5d1-3e0272f2642c"
      },
      "source": [
        "mapping.score(X_train, Y_train)"
      ],
      "execution_count": 18,
      "outputs": [
        {
          "output_type": "stream",
          "name": "stderr",
          "text": [
            "/usr/local/lib/python3.7/dist-packages/sklearn/base.py:434: FutureWarning: The default value of multioutput (not exposed in score method) will change from 'variance_weighted' to 'uniform_average' in 0.23 to keep consistent with 'metrics.r2_score'. To specify the default value manually and avoid the warning, please either call 'metrics.r2_score' directly or make a custom scorer with 'metrics.make_scorer' (the built-in scorer 'r2' uses multioutput='uniform_average').\n",
            "  \"multioutput='uniform_average').\", FutureWarning)\n"
          ]
        },
        {
          "output_type": "execute_result",
          "data": {
            "text/plain": [
              "0.5498096957096711"
            ]
          },
          "metadata": {},
          "execution_count": 18
        }
      ]
    },
    {
      "cell_type": "markdown",
      "metadata": {
        "id": "PrzRk3ja1b_6"
      },
      "source": [
        "Проверим, куда перейдет `серпень`:"
      ]
    },
    {
      "cell_type": "code",
      "metadata": {
        "id": "Quax6HnF1aON",
        "colab": {
          "base_uri": "https://localhost:8080/"
        },
        "outputId": "e58e0257-a8f4-42f0-d5d9-bda76340d16d"
      },
      "source": [
        "august = mapping.predict(uk_emb[\"серпень\"].reshape(1, -1))\n",
        "ru_emb.most_similar(august)"
      ],
      "execution_count": 55,
      "outputs": [
        {
          "output_type": "execute_result",
          "data": {
            "text/plain": [
              "[('апрель', 0.8541285991668701),\n",
              " ('июнь', 0.8411202430725098),\n",
              " ('март', 0.839699387550354),\n",
              " ('сентябрь', 0.835986852645874),\n",
              " ('февраль', 0.8329297304153442),\n",
              " ('октябрь', 0.8311845660209656),\n",
              " ('ноябрь', 0.8278923034667969),\n",
              " ('июль', 0.8234529495239258),\n",
              " ('август', 0.8120501041412354),\n",
              " ('декабрь', 0.803900420665741)]"
            ]
          },
          "metadata": {},
          "execution_count": 55
        }
      ]
    },
    {
      "cell_type": "markdown",
      "metadata": {
        "id": "ih1GLNZt1nZX"
      },
      "source": [
        "Должно получиться, что в топе содержатся разные месяцы, но август не первый.\n",
        "\n",
        "Будем мерять percision top-k с k = 1, 5, 10.\n",
        "\n",
        "**Задание** Реализуйте следующую функцию:"
      ]
    },
    {
      "cell_type": "code",
      "metadata": {
        "id": "JnmrLp9y2gNI"
      },
      "source": [
        "def precision(pairs, mapped_vectors, topn=1):\n",
        "    \"\"\"\n",
        "    :args:\n",
        "        pairs = list of right word pairs [(uk_word_0, ru_word_0), ...]\n",
        "        mapped_vectors = list of embeddings after mapping from source embedding space to destination embedding space\n",
        "        topn = the number of nearest neighbours in destination embedding space to choose from\n",
        "    :returns:\n",
        "        precision_val, float number, total number of words for those we can find right translation at top K.\n",
        "    \"\"\"\n",
        "\n",
        "    assert len(pairs) == len(mapped_vectors)\n",
        "    num_matches = 0\n",
        "    for i, (_, ru) in enumerate(pairs):\n",
        "      if len(mapped_vectors) == 1:\n",
        "        _most_similar = ru_emb.most_similar(mapped_vectors)\n",
        "      else:\n",
        "        _most_similar = ru_emb.most_similar(mapped_vectors[i].reshape(1, -1))\n",
        "\n",
        "      _value = pairs[i][1]\n",
        "      num_matches += sum([1 for word in _most_similar[:topn] if word[0] == _value])      \n",
        "\n",
        "    precision_val = num_matches / len(pairs)\n",
        "    return precision_val"
      ],
      "execution_count": 67,
      "outputs": []
    },
    {
      "cell_type": "code",
      "metadata": {
        "colab": {
          "base_uri": "https://localhost:8080/"
        },
        "id": "E-uXiUEaWEQJ",
        "outputId": "e14f82fc-7c7b-49ff-a3a8-6c6584d9bd9b"
      },
      "source": [
        "precision([(\"серпень\", \"август\")], august, topn=5)"
      ],
      "execution_count": 66,
      "outputs": [
        {
          "output_type": "execute_result",
          "data": {
            "text/plain": [
              "0.0"
            ]
          },
          "metadata": {},
          "execution_count": 66
        }
      ]
    },
    {
      "cell_type": "code",
      "metadata": {
        "id": "-1NIvhSH2olG"
      },
      "source": [
        "assert precision([(\"серпень\", \"август\")], august, topn=5) == 0.0\n",
        "assert precision([(\"серпень\", \"август\")], august, topn=9) == 1.0\n",
        "assert precision([(\"серпень\", \"август\")], august, topn=10) == 1.0"
      ],
      "execution_count": 41,
      "outputs": []
    },
    {
      "cell_type": "code",
      "metadata": {
        "id": "-HW73lE7_7Nt"
      },
      "source": [
        "assert precision(uk_ru_test, X_test) == 0.0"
      ],
      "execution_count": 69,
      "outputs": []
    },
    {
      "cell_type": "code",
      "metadata": {
        "id": "9Ml_w1Tl2r7Y"
      },
      "source": [
        "\n",
        "assert precision(uk_ru_test, Y_test) == 1.0"
      ],
      "execution_count": 68,
      "outputs": []
    },
    {
      "cell_type": "code",
      "metadata": {
        "id": "-d9KQHMr2tx8"
      },
      "source": [
        "precision_top1 = precision(uk_ru_test, mapping.predict(X_test), 1)\n",
        "precision_top5 = precision(uk_ru_test, mapping.predict(X_test), 5)\n",
        "\n",
        "assert precision_top1 >= 0.635\n",
        "assert precision_top5 >= 0.813"
      ],
      "execution_count": 70,
      "outputs": []
    },
    {
      "cell_type": "code",
      "metadata": {
        "colab": {
          "base_uri": "https://localhost:8080/"
        },
        "id": "vT12kwWtCkN3",
        "outputId": "a9eea0f8-2041-4295-fbe8-80414e5ca787"
      },
      "source": [
        "precision_top1, precision_top5"
      ],
      "execution_count": 72,
      "outputs": [
        {
          "output_type": "execute_result",
          "data": {
            "text/plain": [
              "(0.6356589147286822, 0.813953488372093)"
            ]
          },
          "metadata": {},
          "execution_count": 72
        }
      ]
    },
    {
      "cell_type": "markdown",
      "metadata": {
        "id": "JNbDTP502urT"
      },
      "source": [
        "### Улучшаем маппинг\n",
        "\n",
        "Можно показать, что маппинг лучше строить ортогональным:\n",
        "$$W^*= \\arg\\min_W ||WX - Y||_F \\text{, где: } W^TW = I$$\n",
        "\n",
        "Искать его можно через SVD:\n",
        "$$X^TY=U\\Sigma V^T\\text{, singular value decompostion}$$\n",
        "\n",
        "$$W^*=UV^T$$\n",
        "\n",
        "**Задание** Реализуйте эту функцию."
      ]
    },
    {
      "cell_type": "code",
      "metadata": {
        "id": "9de8XZ_F3v53"
      },
      "source": [
        "def learn_transform(X_train, Y_train):\n",
        "    \"\"\" \n",
        "    :returns: W* : float matrix[emb_dim x emb_dim] as defined in formulae above\n",
        "    \"\"\"\n",
        "    u, e, vt = np.linalg.svd(np.matmul(X_train.T, Y_train))\n",
        "    w = np.matmul(u, vt)\n",
        "    return w"
      ],
      "execution_count": 78,
      "outputs": []
    },
    {
      "cell_type": "code",
      "metadata": {
        "id": "8WeCadzN382y"
      },
      "source": [
        "W = learn_transform(X_train, Y_train)"
      ],
      "execution_count": 79,
      "outputs": []
    },
    {
      "cell_type": "code",
      "metadata": {
        "colab": {
          "base_uri": "https://localhost:8080/"
        },
        "id": "GAg4gb6XFlK9",
        "outputId": "33d0c9b0-e6fa-4801-afea-fbaa2ea62b82"
      },
      "source": [
        "W.shape"
      ],
      "execution_count": 80,
      "outputs": [
        {
          "output_type": "execute_result",
          "data": {
            "text/plain": [
              "(300, 300)"
            ]
          },
          "metadata": {},
          "execution_count": 80
        }
      ]
    },
    {
      "cell_type": "code",
      "metadata": {
        "id": "p6qaMb0E3-f9",
        "colab": {
          "base_uri": "https://localhost:8080/"
        },
        "outputId": "07279da2-b108-4b33-b434-4740cf17c99f"
      },
      "source": [
        "ru_emb.most_similar([np.matmul(uk_emb[\"серпень\"], W)])"
      ],
      "execution_count": 81,
      "outputs": [
        {
          "output_type": "execute_result",
          "data": {
            "text/plain": [
              "[('апрель', 0.8237907886505127),\n",
              " ('сентябрь', 0.8049713373184204),\n",
              " ('март', 0.8025654554367065),\n",
              " ('июнь', 0.8021842241287231),\n",
              " ('октябрь', 0.8001736402511597),\n",
              " ('ноябрь', 0.7934483885765076),\n",
              " ('февраль', 0.7914121150970459),\n",
              " ('июль', 0.7908109426498413),\n",
              " ('август', 0.7891016602516174),\n",
              " ('декабрь', 0.7686373591423035)]"
            ]
          },
          "metadata": {},
          "execution_count": 81
        }
      ]
    },
    {
      "cell_type": "code",
      "metadata": {
        "id": "_Nn58crh4AH0"
      },
      "source": [
        "precision_top1 = precision(uk_ru_test, np.matmul(X_test, W))\n",
        "precision_top5 = precision(uk_ru_test, np.matmul(X_test, W), 5)\n",
        "\n",
        "assert precision_top1 >= 0.653\n",
        "assert precision_top5 >= 0.824"
      ],
      "execution_count": 86,
      "outputs": []
    },
    {
      "cell_type": "code",
      "metadata": {
        "colab": {
          "base_uri": "https://localhost:8080/"
        },
        "id": "pnricZjtF_aH",
        "outputId": "12773479-0c4c-451e-a179-ff2b2359391c"
      },
      "source": [
        "precision_top1, precision_top5"
      ],
      "execution_count": 87,
      "outputs": [
        {
          "output_type": "execute_result",
          "data": {
            "text/plain": [
              "(0.6537467700258398, 0.8242894056847545)"
            ]
          },
          "metadata": {},
          "execution_count": 87
        }
      ]
    },
    {
      "cell_type": "markdown",
      "metadata": {
        "id": "lqgcYk-c4DE5"
      },
      "source": [
        "### Пишем переводчик"
      ]
    },
    {
      "cell_type": "markdown",
      "metadata": {
        "id": "hwi70fP6FaAN"
      },
      "source": [
        "Реализуем простой пословный переводчик - для каждого слова будем искать его ближайшего соседа в общем пространстве эмбеддингов. Если слова нет в эмбеддингах - просто копируем его."
      ]
    },
    {
      "cell_type": "code",
      "metadata": {
        "id": "0etAHUks4JOr"
      },
      "source": [
        "with open(\"fairy_tale.txt\", \"r\") as f:\n",
        "    uk_sentences = [line.rstrip().lower() for line in f]"
      ],
      "execution_count": 90,
      "outputs": []
    },
    {
      "cell_type": "code",
      "metadata": {
        "id": "JK_FJGmn4N7V"
      },
      "source": [
        "def translate(sentence):\n",
        "    \"\"\"\n",
        "    :args:\n",
        "        sentence - sentence in Ukrainian (str)\n",
        "    :returns:\n",
        "        translation - sentence in Russian (str)\n",
        "\n",
        "    * find ukrainian embedding for each word in sentence\n",
        "    * transform ukrainian embedding vector\n",
        "    * find nearest russian word and replace\n",
        "    \"\"\"\n",
        "    new_sentence = ''\n",
        "    for old_word in sentence.split():\n",
        "      new_word = ''\n",
        "      try:\n",
        "        new_word = ru_emb.most_similar([np.matmul(uk_emb[old_word], W)])[0][0]\n",
        "      except:\n",
        "        new_word = old_word\n",
        "      \n",
        "      new_sentence = f'{new_sentence}{(\" \", \"\")[new_sentence == \"\"]}{new_word}'\n",
        "\n",
        "    return new_sentence"
      ],
      "execution_count": 104,
      "outputs": []
    },
    {
      "cell_type": "code",
      "metadata": {
        "colab": {
          "base_uri": "https://localhost:8080/"
        },
        "id": "FHU3gWV_IfTO",
        "outputId": "b27a3fb3-de59-4d60-fc74-a92e11937b9b"
      },
      "source": [
        "ru_emb.most_similar([np.matmul(uk_emb[\"кіт\"], W)])"
      ],
      "execution_count": 95,
      "outputs": [
        {
          "output_type": "execute_result",
          "data": {
            "text/plain": [
              "[('кот', 0.7674860954284668),\n",
              " ('котик', 0.6989322304725647),\n",
              " ('пес', 0.6463151574134827),\n",
              " ('кролик', 0.645558774471283),\n",
              " ('котенок', 0.643229603767395),\n",
              " ('пёс', 0.6419949531555176),\n",
              " ('щенок', 0.637969434261322),\n",
              " ('песик', 0.6356671452522278),\n",
              " ('котёнок', 0.6280478239059448),\n",
              " ('енот', 0.6210199594497681)]"
            ]
          },
          "metadata": {},
          "execution_count": 95
        }
      ]
    },
    {
      "cell_type": "code",
      "metadata": {
        "colab": {
          "base_uri": "https://localhost:8080/",
          "height": 35
        },
        "id": "yTY-N44cKk7R",
        "outputId": "51a15edc-f2a0-45c7-b26e-2ab225d6a677"
      },
      "source": [
        "translate('кіт')"
      ],
      "execution_count": 105,
      "outputs": [
        {
          "output_type": "execute_result",
          "data": {
            "application/vnd.google.colaboratory.intrinsic+json": {
              "type": "string"
            },
            "text/plain": [
              "'кот'"
            ]
          },
          "metadata": {},
          "execution_count": 105
        }
      ]
    },
    {
      "cell_type": "code",
      "metadata": {
        "id": "H47pbFyk4P6D"
      },
      "source": [
        "assert translate(\".\") == \".\"\n",
        "assert translate(\"1 , 3\") == \"1 , 3\"\n",
        "assert translate(\"кіт зловив мишу\") == \"кот поймал мышку\""
      ],
      "execution_count": 106,
      "outputs": []
    },
    {
      "cell_type": "code",
      "metadata": {
        "id": "PAVWK7mE4RYU",
        "colab": {
          "base_uri": "https://localhost:8080/"
        },
        "outputId": "6f6a833a-2db7-4a61-cc79-f7fbf42179d6"
      },
      "source": [
        "for sentence in uk_sentences:\n",
        "    print(\"src: {}\\ndst: {}\\n\".format(sentence, translate(sentence)))"
      ],
      "execution_count": 107,
      "outputs": [
        {
          "output_type": "stream",
          "name": "stdout",
          "text": [
            "src: лисичка - сестричка і вовк - панібрат\n",
            "dst: лисичка – сестричка и волк – панібрат\n",
            "\n",
            "src: як була собі лисичка , да й пішла раз до однії баби добувать огню ; ввійшла у хату да й каже : \" добрий день тобі , бабусю !\n",
            "dst: как была себе лисичка , че и пошла раз к однії бабы добувать огня ; вошла во избу че и говорит : \" хороший день тебе , бабушку !\n",
            "\n",
            "src: дай мені огня \" .\n",
            "dst: дай мне огня \" .\n",
            "\n",
            "src: а баба тільки що вийняла із печі пирожок із маком , солодкий , да й положила , щоб він прохолов ; а лисичка се і підгледала , да тілько що баба нахилилась у піч , щоб достать огня , то лисичка зараз ухватила пирожок да і драла з хати , да , біжучи , весь мак із його виїла , а туда сміття наклала .\n",
            "dst: а бабка только что вынула со печи пирожок со маком , сладкий , че и согнула , чтобы он прохолов ; а лисичка ой и підгледала , че токмо что бабка качнулась во печь , чтобы достать огня , то лисичка сейчас ухватила пирожок че и деру со хаты , че , пробежать , весь мак со его виїла , а туда мусора наложила .\n",
            "\n",
            "src: прибігла на поле , аж там пасуть хлопці бичків .\n",
            "dst: прибежала по поле , аж там пасут парни бычков .\n",
            "\n",
            "src: вона і каже їм : \" ей , хлопці !\n",
            "dst: она и говорит им : \" ой , парни !\n",
            "\n",
            "src: проміняйте мені бичка - третячка за маковий пирожок \" .\n",
            "dst: проміняйте мне бычка – третячка за маковый пирожок \" .\n",
            "\n",
            "src: тії согласились ; так вона їм говорить : \" смотріть же , ви не їжте зараз сього пирожка , а тоді уже розломите , як я заведу бичка за могилку ; а то ви його ні за що не розломите \" .\n",
            "dst: ишо поглумиться ; так она им говорит : \" смотріть то , мы не ешьте сейчас сего пирожка , а тогда уже розломите , как мной заведу бычка за могилу ; а то мы его ни за что не розломите \" .\n",
            "\n",
            "src: бачите вже - лисичка таки собі була розумна , що хоть кого да обманить .\n",
            "dst: вижу уже – лисичка таки себе была умная , что хоть кого че обманить .\n",
            "\n",
            "src: тії хлопці так і зробили , а лисичка як зайшла за могилу , да зараз у ліс і повернула , щоб на дорозі не догнали ; прийшла у ліс да і зробила собі санки да й їде .\n",
            "dst: ишо парни так и сделали , а лисичка как зашла за могилу , че сейчас во лес и вернула , чтобы по дороге не погнали ; пришла во лес че и сделала себе санки че и едет .\n",
            "\n",
            "src: коли йде вовчик : \" здорова була , лисичко - сестричко ! \"\n",
            "dst: когда идет вовчик : \" здоровая была , лисичко – сестричка ! \"\n",
            "\n",
            "src: - \" здоров , вовчику - братику ! \"\n",
            "dst: – \" здоровье , вовчику – братику ! \"\n",
            "\n",
            "src: - \" де се ти узяла собі і бичка і санки ? \"\n",
            "dst: – \" куда ой ты взяла себе и бычка и санки ? \"\n",
            "\n",
            "src: - \" е !\n",
            "dst: – \" ьн !\n",
            "\n",
            "src: зробила \" .\n",
            "dst: сделала \" .\n",
            "\n",
            "src: - \" підвези ж і мене \" .\n",
            "dst: – \" підвези же и меня \" .\n",
            "\n",
            "src: - \" е , вовчику !\n",
            "dst: – \" ьн , вовчику !\n",
            "\n",
            "src: не можна \" .\n",
            "dst: не можно \" .\n",
            "\n",
            "src: - \" мені хоть одну ніжку \" .\n",
            "dst: – \" мне хоть одну ножку \" .\n",
            "\n",
            "src: - \" одну можна \" .\n",
            "dst: – \" одну можно \" .\n",
            "\n",
            "src: він і положив , да од'їхавши немного і просить , щоби іще одну положить .\n",
            "dst: он и положил , че од'їхавши конешно и просит , чтобы еще одну возмет .\n",
            "\n",
            "src: \" не можна , братику !\n",
            "dst: \" не можно , братику !\n",
            "\n",
            "src: боюсь , щоб ти саней не зламав \" .\n",
            "dst: боюсь , чтобы ты саней не сломал \" .\n",
            "\n",
            "src: - \" ні , сестричко , не бійся ! \"\n",
            "dst: – \" ни , сестричка , не бойся ! \"\n",
            "\n",
            "src: - да і положив другую ніжку .\n",
            "dst: – че и положил одну ножку .\n",
            "\n",
            "src: тілько що од'їхали , як щось і тріснуло .\n",
            "dst: токмо что од'їхали , как что-то и треснуло .\n",
            "\n",
            "src: \" бачиш , вовчику , уже і ламаєш санки \" .\n",
            "dst: \" видишь , вовчику , уже и ламаєш санки \" .\n",
            "\n",
            "src: - \" ні , лисичко !\n",
            "dst: – \" ни , лисичко !\n",
            "\n",
            "src: се у мене був орішок , так я розкусив \" .\n",
            "dst: ой во меня был орішок , так мной розкусив \" .\n",
            "\n",
            "src: да просить оп'ять , щоб і третю ногу положить ; лисичка і ту пустила , да тілько що оп'ять од'їхали , аж щось уже дужче тріснуло .\n",
            "dst: че просит оп'ять , чтобы и третью ногу возмет ; лисичка и ту пустила , че токмо что оп'ять од'їхали , аж что-то уже сильней треснуло .\n",
            "\n",
            "src: лисичка закричала : \" ох , лишечко !\n",
            "dst: лисичка закричала : \" ой , лишечко !\n",
            "\n",
            "src: ти ж мені , братику , зовсім зламаєш санки \" .\n",
            "dst: ты же мне , братику , совсем зламаєш санки \" .\n",
            "\n",
            "src: - \" ні , лисичко , се я орішок розкусив \" .\n",
            "dst: – \" ни , лисичко , ой мной орішок розкусив \" .\n",
            "\n",
            "src: - \" дай же і мені , бачиш який , що сам їж , а мені і не даєш \" .\n",
            "dst: – \" дай то и мне , видишь который , что сам ел , а мне и не даешь \" .\n",
            "\n",
            "src: - \" нема уже більше , а я б дав \" .\n",
            "dst: – \" нету уже больше , а мной бы дал \" .\n",
            "\n",
            "src: да і просить оп'ять , щоб пустила положить і послідню ногу .\n",
            "dst: че и просит оп'ять , чтобы пустила возмет и послідню ногу .\n",
            "\n",
            "src: лисичка і согласилась .\n",
            "dst: лисичка и согласилась .\n",
            "\n",
            "src: так він тілько що положив ногу , як санки зовсім розламались .\n",
            "dst: так он токмо что положил ногу , как санки совсем розламались .\n",
            "\n",
            "src: тоді вже лисичка так на його розсердилась , що і сама не знала щоб робила !\n",
            "dst: тогда уже лисичка так по его розсердилась , что и сама не знала чтобы делала !\n",
            "\n",
            "src: а як отошло серце , вона і каже : \" іди ж , ледащо !\n",
            "dst: а как отошло сердце , она и говорит : \" иди же , лодырь !\n",
            "\n",
            "src: да нарубай дерева , щоб нам оп'ять ізробить санки ; тільки рубавши кажи так : \" рубайся ж , дерево , і криве і пряме \" .\n",
            "dst: че нарубай деревья , чтобы нам оп'ять ізробить санки ; только рубавши говори так : \" рубайся же , дерево , и кривое и прямое \" .\n",
            "\n",
            "src: він і пішов да й каже усе : \" рубайся ж , дерево , усе пряме да пряме ! \"\n",
            "dst: он и пошел че и говорит всё : \" рубайся же , дерево , всё прямое че прямое ! \"\n",
            "\n",
            "src: нарубавши і приносить ; лисичка увидала , що дерево не таке , як їй нужно , оп'ять розсердилась .\n",
            "dst: нарубавши и приносит ; лисичка увидала , что дерево не такое , как им надо , оп'ять розсердилась .\n",
            "\n",
            "src: \" ти , - говорить , - не казав , видно , так , як я тобі веліла ! \"\n",
            "dst: \" ты , – говорит , – не говорил , видно , так , как мной тебе велела ! \"\n",
            "\n",
            "src: - \" ні , я усе теє казав , що ти мені казала \" .\n",
            "dst: – \" ни , мной всё Эх говорил , что ты мне говорила \" .\n",
            "\n",
            "src: - \" да чомусь не таке рубалось ?\n",
            "dst: – \" че почему-то не такое рубалось ?\n",
            "\n",
            "src: ну , сиди ж ти тут , а я сама піду нарубаю \" , - да і пішла у ліс .\n",
            "dst: ну , сиди же ты здесь , а мной сама пойду нарубаю \" , – че и пошла во лес .\n",
            "\n",
            "src: а вовк дивиться , що він сам остався ; узяв да проїв у бичка дірку да виїв усе в середині , а напускав туда горобців да ще соломою заткнув , поставив бичка , а сам і втік .\n",
            "dst: а волк смотрит , что он сам остался ; взял че проїв во бычка дыру че виїв всё во середине , а напускав туда воробьёв че ещe соломой заткнул , поставил бычка , а сам и сбежал .\n",
            "\n",
            "src: аж лисичка приходить , зробила санки да й сіла і стала поганять : \" гей , бичок - третячок ! \"\n",
            "dst: аж лисичка приходит , сделала санки че и присела и стала поганять : \" гей , бычок – третячок ! \"\n",
            "\n",
            "src: тілько він не везе .\n",
            "dst: токмо он не увозит .\n",
            "\n",
            "src: от вона встала , щоб поправить : може , що не так запряжено ; да , не хотячи , одоткнула солому , а оттуда так і сипнули горобці летіти .\n",
            "dst: из она встала , чтобы поправит : может , что не так запряжено ; че , не вздумал , одоткнула солому , а туды так и сипнули воробьи лететь .\n",
            "\n",
            "src: вона уже тоді побачила , що бичок неживий ; покинула його да й пішла .\n",
            "dst: она уже тогда увидела , что бычок неживой ; покинула его че и пошла .\n",
            "\n",
            "src: легла на дорозі , аж дивиться - їде мужик з рибою ; вона і притворилась , що здохла .\n",
            "dst: легла по дороге , аж смотрит – едет мужик со рыбой ; она и притворилась , что сдохла .\n",
            "\n",
            "src: от мужик і говорить : \" возьму я оцю лисицю , обдеру да хоть шапку собі зошью \" .\n",
            "dst: из мужик и говорит : \" возьму мной ихнюю лисицу , обдеру че хоть шапку себе зошью \" .\n",
            "\n",
            "src: узяв да і положив ззаді у воза .\n",
            "dst: взял че и положил взади во телега .\n",
            "\n",
            "src: вона замітила , що мужик не смотрить , стала ногами викидувать рибу з воза , а когда побачила , що навикидала уже багато , тоди потихесеньку і сама злізла ; сіла біля риби да і їсть собі , - коли біжить оп'ять той самий вовчик .\n",
            "dst: она заметила , что мужик не смотрить , стала ногами викидувать рыбу со телега , а .когда увидела , что навикидала уже много , тоды потихесеньку и сама слезла ; присела возле рыбы че и ест себе , – когда бежит оп'ять тот самый вовчик .\n",
            "\n",
            "src: побачивши , що вона їсть рибу , прибіг до їй да й каже : \" здорово була , лисичко - сестричко !\n",
            "dst: увидев , что она ест рыбу , прибежал к им че и говорит : \" здорово была , лисичко – сестричка !\n",
            "\n",
            "src: де се ти набрала стільки риби ? \"\n",
            "dst: куда ой ты набрала столько рыбы ? \"\n",
            "\n",
            "src: вона каже : \" наловила , вовчику - братику ! \"\n",
            "dst: она говорит : \" наловила , вовчику – братику ! \"\n",
            "\n",
            "src: а собі на думці : \" подожди , і я зроблю з тобою таку штуку , як і ти зо мною \" .\n",
            "dst: а себе по мнении : \" подожди , и мной сделаю со тобой такую штуку , как и ты За мной \" .\n",
            "\n",
            "src: - \" як же ти ловила ? \"\n",
            "dst: – \" как то ты ловила ? \"\n",
            "\n",
            "src: - \" так , вовчику , уложила хвостик в ополонку , вожу тихенько да й кажу ; ловися , рибка , мала і велика !\n",
            "dst: – \" так , вовчику , уложила хвостик во прорубь , вожу тихонько че и говорю ; ловися , рыбка , имела и большая !\n",
            "\n",
            "src: коли хочеш , то і ти піди , налови собі \" .\n",
            "dst: когда хочешь , то и ты пойди , налови себе \" .\n",
            "\n",
            "src: він побіг да зробив так , як казала лисичка .\n",
            "dst: он побежал че сделал так , как говорила лисичка .\n",
            "\n",
            "src: а лисичка стала за деревом да й дивиться ; коли у вовчика зовсім хвостик примерз , вона тоді побігла в село да й кричить : \" ідіть , люди , вбивайте вовка ! \"\n",
            "dst: а лисичка стала за деревом че и смотрит ; когда во вовчика совсем хвостик примерз , она тогда побежала во село че и кричит : \" идите , люди , убивайте волка ! \"\n",
            "\n",
            "src: люди набігли з кольями да і убили його .\n",
            "dst: люди полезли со кольями че и убили его .\n",
            "\n",
            "src: \n",
            "dst: \n",
            "\n"
          ]
        }
      ]
    },
    {
      "cell_type": "markdown",
      "metadata": {
        "id": "_5GrChTeFqIg"
      },
      "source": [
        "# Дополнительные материалы"
      ]
    },
    {
      "cell_type": "markdown",
      "metadata": {
        "id": "HwffxpbmFwDh"
      },
      "source": [
        "## Почитать\n",
        "### База:  \n",
        "[On word embeddings - Part 1, Sebastian Ruder](http://ruder.io/word-embeddings-1/)  \n",
        "[Deep Learning, NLP, and Representations, Christopher Olah](http://colah.github.io/posts/2014-07-NLP-RNNs-Representations/)  \n",
        "\n",
        "### Как кластеризовать смыслы многозначных слов:  \n",
        "[Making Sense of Word Embeddings (2016), Pelevina et al](http://anthology.aclweb.org/W16-1620)    \n",
        "\n",
        "### Как оценивать эмбеддинги\n",
        "[Evaluation methods for unsupervised word embeddings (2015), T. Schnabel](http://www.aclweb.org/anthology/D15-1036)  \n",
        "[Intrinsic Evaluation of Word Vectors Fails to Predict Extrinsic Performance (2016), B. Chiu](https://www.aclweb.org/anthology/W/W16/W16-2501.pdf)  \n",
        "[Problems With Evaluation of Word Embeddings Using Word Similarity Tasks (2016), M. Faruqui](https://arxiv.org/pdf/1605.02276.pdf)  \n",
        "[Improving Reliability of Word Similarity Evaluation by Redesigning Annotation Task and Performance Measure (2016), Oded Avraham, Yoav Goldberg](https://arxiv.org/pdf/1611.03641.pdf)  \n",
        "[Evaluating Word Embeddings Using a Representative Suite of Practical Tasks (2016), N. Nayak](https://cs.stanford.edu/~angeli/papers/2016-acl-veceval.pdf)  \n",
        "\n",
        "\n",
        "## Посмотреть\n",
        "[Word Vector Representations: word2vec, Lecture 2, cs224n](https://www.youtube.com/watch?v=ERibwqs9p38)"
      ]
    }
  ]
}